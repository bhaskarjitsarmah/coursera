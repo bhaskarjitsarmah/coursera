{
 "cells": [
  {
   "cell_type": "markdown",
   "metadata": {},
   "source": [
    "## Logistic Regression"
   ]
  },
  {
   "cell_type": "markdown",
   "metadata": {},
   "source": [
    "In this assignment I will try to build a Logistic Regression model to find out whether car belong high mileage or low mileage category depending on its characterstics like number of cylinders, engine displacement, horsepower of the car etc. I have taken the [Auto MPG Data Set](http://archive.ics.uci.edu/ml/datasets/Auto+MPG) from the UCI Machine Leaning Repository. Our response variable is continuous in nature, so I need to do some data management step before I can build a logistic regression model on the dataset."
   ]
  },
  {
   "cell_type": "markdown",
   "metadata": {},
   "source": [
    "## Hypothesis"
   ]
  },
  {
   "cell_type": "markdown",
   "metadata": {},
   "source": [
    "<ol>\n",
    "<li>With increasing number of cylinders in a car the mileage decreases</li>\n",
    "<li>With increasing number of engine displacement in a car the mileage of the car increases</li>\n",
    "</ol>"
   ]
  },
  {
   "cell_type": "markdown",
   "metadata": {},
   "source": [
    "## Loading Libraries"
   ]
  },
  {
   "cell_type": "code",
   "execution_count": 1,
   "metadata": {
    "collapsed": true
   },
   "outputs": [],
   "source": [
    "import numpy as np\n",
    "import pandas as pd\n",
    "import statsmodels.api as sm\n",
    "import seaborn as sns\n",
    "import statsmodels.formula.api as smf \n",
    "import matplotlib.pyplot as plt"
   ]
  },
  {
   "cell_type": "markdown",
   "metadata": {},
   "source": [
    "## Loading the data"
   ]
  },
  {
   "cell_type": "code",
   "execution_count": 2,
   "metadata": {
    "collapsed": true
   },
   "outputs": [],
   "source": [
    "data = pd.read_csv(\"auto-mpg.data\", \n",
    "                   delim_whitespace=True, \n",
    "                   header=None,\n",
    "                   dtype={'model year':'category', 'origin':'category', 'car name':'category'},\n",
    "                   names=['mpg', 'cylinders', 'displacement', 'horsepower', 'weight', 'acceleration', 'model year',\n",
    "                          'origin', 'car name'])"
   ]
  },
  {
   "cell_type": "code",
   "execution_count": 3,
   "metadata": {},
   "outputs": [
    {
     "data": {
      "text/html": [
       "<div>\n",
       "<table border=\"1\" class=\"dataframe\">\n",
       "  <thead>\n",
       "    <tr style=\"text-align: right;\">\n",
       "      <th></th>\n",
       "      <th>mpg</th>\n",
       "      <th>cylinders</th>\n",
       "      <th>displacement</th>\n",
       "      <th>horsepower</th>\n",
       "      <th>weight</th>\n",
       "      <th>acceleration</th>\n",
       "      <th>model year</th>\n",
       "      <th>origin</th>\n",
       "      <th>car name</th>\n",
       "    </tr>\n",
       "  </thead>\n",
       "  <tbody>\n",
       "    <tr>\n",
       "      <th>0</th>\n",
       "      <td>18.0</td>\n",
       "      <td>8</td>\n",
       "      <td>307.0</td>\n",
       "      <td>130.0</td>\n",
       "      <td>3504.0</td>\n",
       "      <td>12.0</td>\n",
       "      <td>70</td>\n",
       "      <td>1</td>\n",
       "      <td>chevrolet chevelle malibu</td>\n",
       "    </tr>\n",
       "    <tr>\n",
       "      <th>1</th>\n",
       "      <td>15.0</td>\n",
       "      <td>8</td>\n",
       "      <td>350.0</td>\n",
       "      <td>165.0</td>\n",
       "      <td>3693.0</td>\n",
       "      <td>11.5</td>\n",
       "      <td>70</td>\n",
       "      <td>1</td>\n",
       "      <td>buick skylark 320</td>\n",
       "    </tr>\n",
       "    <tr>\n",
       "      <th>2</th>\n",
       "      <td>18.0</td>\n",
       "      <td>8</td>\n",
       "      <td>318.0</td>\n",
       "      <td>150.0</td>\n",
       "      <td>3436.0</td>\n",
       "      <td>11.0</td>\n",
       "      <td>70</td>\n",
       "      <td>1</td>\n",
       "      <td>plymouth satellite</td>\n",
       "    </tr>\n",
       "    <tr>\n",
       "      <th>3</th>\n",
       "      <td>16.0</td>\n",
       "      <td>8</td>\n",
       "      <td>304.0</td>\n",
       "      <td>150.0</td>\n",
       "      <td>3433.0</td>\n",
       "      <td>12.0</td>\n",
       "      <td>70</td>\n",
       "      <td>1</td>\n",
       "      <td>amc rebel sst</td>\n",
       "    </tr>\n",
       "    <tr>\n",
       "      <th>4</th>\n",
       "      <td>17.0</td>\n",
       "      <td>8</td>\n",
       "      <td>302.0</td>\n",
       "      <td>140.0</td>\n",
       "      <td>3449.0</td>\n",
       "      <td>10.5</td>\n",
       "      <td>70</td>\n",
       "      <td>1</td>\n",
       "      <td>ford torino</td>\n",
       "    </tr>\n",
       "  </tbody>\n",
       "</table>\n",
       "</div>"
      ],
      "text/plain": [
       "    mpg  cylinders  displacement horsepower  weight  acceleration model year  \\\n",
       "0  18.0          8         307.0      130.0  3504.0          12.0         70   \n",
       "1  15.0          8         350.0      165.0  3693.0          11.5         70   \n",
       "2  18.0          8         318.0      150.0  3436.0          11.0         70   \n",
       "3  16.0          8         304.0      150.0  3433.0          12.0         70   \n",
       "4  17.0          8         302.0      140.0  3449.0          10.5         70   \n",
       "\n",
       "  origin                   car name  \n",
       "0      1  chevrolet chevelle malibu  \n",
       "1      1          buick skylark 320  \n",
       "2      1         plymouth satellite  \n",
       "3      1              amc rebel sst  \n",
       "4      1                ford torino  "
      ]
     },
     "execution_count": 3,
     "metadata": {},
     "output_type": "execute_result"
    }
   ],
   "source": [
    "data.head()"
   ]
  },
  {
   "cell_type": "markdown",
   "metadata": {},
   "source": [
    "## Data Management"
   ]
  },
  {
   "cell_type": "markdown",
   "metadata": {},
   "source": [
    "My response variable **mpg** is continuous in nature, so to perform logistic regression I will transform this variable into a categorical variable. Following I summarized and plotted the distribution of the variable **mpg**. The mean of mpg is 23.5 (approx). Hence I will categorize the cars with mpg > 24 as high mileage cars (coded as 1) otherwise a low mileage car (coded as 0)"
   ]
  },
  {
   "cell_type": "code",
   "execution_count": 4,
   "metadata": {},
   "outputs": [
    {
     "data": {
      "text/plain": [
       "count    398.000000\n",
       "mean      23.514573\n",
       "std        7.815984\n",
       "min        9.000000\n",
       "25%       17.500000\n",
       "50%       23.000000\n",
       "75%       29.000000\n",
       "max       46.600000\n",
       "Name: mpg, dtype: float64"
      ]
     },
     "execution_count": 4,
     "metadata": {},
     "output_type": "execute_result"
    }
   ],
   "source": [
    "data['mpg'].describe()"
   ]
  },
  {
   "cell_type": "code",
   "execution_count": 5,
   "metadata": {},
   "outputs": [
    {
     "data": {
      "image/png": "[encoded data removed]",
      "text/plain": [
       "<matplotlib.figure.Figure at 0x1f7474c4208>"
      ]
     },
     "metadata": {},
     "output_type": "display_data"
    }
   ],
   "source": [
    "plt.hist(x=data['mpg'], bins=35)\n",
    "plt.show()"
   ]
  },
  {
   "cell_type": "code",
   "execution_count": 6,
   "metadata": {},
   "outputs": [
    {
     "data": {
      "text/plain": [
       "0    225\n",
       "1    173\n",
       "Name: mpg, dtype: int64"
      ]
     },
     "execution_count": 6,
     "metadata": {},
     "output_type": "execute_result"
    }
   ],
   "source": [
    "data['mpg'] = data['mpg'].apply(lambda x: 1 if x > 24 else 0)\n",
    "data['mpg'].value_counts()"
   ]
  },
  {
   "cell_type": "markdown",
   "metadata": {},
   "source": [
    "Similarly I will recode explanatory variable **cylinders** (number of cylinders) as 1 (high number of cylinders) if the car has more than 5 cylinders otherwise 0 (i.e. the car has less than 5 number of cylinders)"
   ]
  },
  {
   "cell_type": "code",
   "execution_count": 7,
   "metadata": {},
   "outputs": [
    {
     "data": {
      "text/plain": [
       "0    211\n",
       "1    187\n",
       "Name: cylinders, dtype: int64"
      ]
     },
     "execution_count": 7,
     "metadata": {},
     "output_type": "execute_result"
    }
   ],
   "source": [
    "data['cylinders'] = data['cylinders'].apply(lambda x: 1 if x > 5 else 0)\n",
    "data['cylinders'].value_counts()"
   ]
  },
  {
   "cell_type": "markdown",
   "metadata": {},
   "source": [
    "## Logistic Regression"
   ]
  },
  {
   "cell_type": "markdown",
   "metadata": {},
   "source": [
    "In this model my response variable is **mpg** and explanatory variables are <br>\n",
    "<ol>\n",
    "<li>cylinders</li>\n",
    "<li>displacement etc</li>\n",
    "</ol><br>\n",
    "I will build the model by putting one explanatory variable at a time, so that I get to know about confounding effect if there is any."
   ]
  },
  {
   "cell_type": "code",
   "execution_count": 8,
   "metadata": {},
   "outputs": [
    {
     "name": "stdout",
     "output_type": "stream",
     "text": [
      "Optimization terminated successfully.\n",
      "         Current function value: 0.371839\n",
      "         Iterations 7\n",
      "                           Logit Regression Results                           \n",
      "==============================================================================\n",
      "Dep. Variable:                    mpg   No. Observations:                  398\n",
      "Model:                          Logit   Df Residuals:                      396\n",
      "Method:                           MLE   Df Model:                            1\n",
      "Date:                Thu, 28 Sep 2017   Pseudo R-squ.:                  0.4568\n",
      "Time:                        00:21:06   Log-Likelihood:                -147.99\n",
      "converged:                       True   LL-Null:                       -272.47\n",
      "                                        LLR p-value:                 4.403e-56\n",
      "==============================================================================\n",
      "                 coef    std err          z      P>|z|      [0.025      0.975]\n",
      "------------------------------------------------------------------------------\n",
      "Intercept      1.2497      0.165      7.553      0.000       0.925       1.574\n",
      "cylinders     -4.2343      0.380    -11.154      0.000      -4.978      -3.490\n",
      "==============================================================================\n",
      "Odds Ratios\n",
      "Intercept    3.489362\n",
      "cylinders    0.014490\n",
      "dtype: float64\n"
     ]
    }
   ],
   "source": [
    "# logistic regression with number of cylinders\n",
    "lreg1 = smf.logit(formula = 'mpg ~ cylinders', data = data).fit()\n",
    "print (lreg1.summary())\n",
    "# odds ratios\n",
    "print (\"Odds Ratios\")\n",
    "print (np.exp(lreg1.params))"
   ]
  },
  {
   "cell_type": "markdown",
   "metadata": {},
   "source": [
    "**Answer to Q1:**The above result shows that the logistic regression model is significant (wiht p-value=0.000). And there is a negative relationship between the high number of cylinders and mileage of a car. The odds ratio suggest that cars with high number of cylinders (more than 5 cylinders) tend to have 0.014490 times more mileage than cars with low number of cylinders."
   ]
  },
  {
   "cell_type": "markdown",
   "metadata": {},
   "source": [
    "**Answer to Q2:** The above result support my hypothesis #1 that with high number of cylinders the mileage of the car decreases. It is evident from the negative parameter coefficient (-4.2343) for the explanatory variable **cylinders**"
   ]
  },
  {
   "cell_type": "markdown",
   "metadata": {},
   "source": [
    "Now, lets add one more variable **displacement** to our existing model and observe the results"
   ]
  },
  {
   "cell_type": "code",
   "execution_count": 9,
   "metadata": {},
   "outputs": [
    {
     "name": "stdout",
     "output_type": "stream",
     "text": [
      "Optimization terminated successfully.\n",
      "         Current function value: 0.333143\n",
      "         Iterations 8\n",
      "                           Logit Regression Results                           \n",
      "==============================================================================\n",
      "Dep. Variable:                    mpg   No. Observations:                  398\n",
      "Model:                          Logit   Df Residuals:                      395\n",
      "Method:                           MLE   Df Model:                            2\n",
      "Date:                Thu, 28 Sep 2017   Pseudo R-squ.:                  0.5134\n",
      "Time:                        00:21:06   Log-Likelihood:                -132.59\n",
      "converged:                       True   LL-Null:                       -272.47\n",
      "                                        LLR p-value:                 1.791e-61\n",
      "================================================================================\n",
      "                   coef    std err          z      P>|z|      [0.025      0.975]\n",
      "--------------------------------------------------------------------------------\n",
      "Intercept        4.2933      0.675      6.359      0.000       2.970       5.617\n",
      "cylinders       -0.9218      0.631     -1.461      0.144      -2.158       0.315\n",
      "displacement    -0.0269      0.006     -4.793      0.000      -0.038      -0.016\n",
      "================================================================================\n",
      "Odds Ratios\n",
      "Intercept       73.211261\n",
      "cylinders        0.397799\n",
      "displacement     0.973455\n",
      "dtype: float64\n"
     ]
    }
   ],
   "source": [
    "# logistic regression with number of cylinders and engine displacement\n",
    "lreg2 = smf.logit(formula = 'mpg ~ cylinders + displacement', data = data).fit()\n",
    "print (lreg2.summary())\n",
    "# odds ratios\n",
    "print (\"Odds Ratios\")\n",
    "print (np.exp(lreg2.params))"
   ]
  },
  {
   "cell_type": "markdown",
   "metadata": {},
   "source": [
    "**Answer to Q3:** when we add the new variable **displacement** we see that the variable **cylinders** becomes insignificant. In earlier model cylinders had a p-value of 0.000 and now in the new model, cylinders had a p-value of 0.144 (which is more than 0.05 and makes it an insignifact variable). We can conclude that the variable **displacement** had a confounding effect on the variable **cylinders** and **mpg** and displacement becomes the new significant variable with (OR= 0.973455, 95% CI=-0.038 -0.016, p=.000)."
   ]
  }
 ],
 "metadata": {
  "kernelspec": {
   "display_name": "Python 3",
   "language": "python",
   "name": "python3"
  },
  "language_info": {
   "codemirror_mode": {
    "name": "ipython",
    "version": 3
   },
   "file_extension": ".py",
   "mimetype": "text/x-python",
   "name": "python",
   "nbconvert_exporter": "python",
   "pygments_lexer": "ipython3",
   "version": "3.6.1"
  }
 },
 "nbformat": 4,
 "nbformat_minor": 2
}
