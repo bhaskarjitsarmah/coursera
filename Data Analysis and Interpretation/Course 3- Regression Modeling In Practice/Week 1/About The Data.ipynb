{
 "cells": [
  {
   "cell_type": "markdown",
   "metadata": {},
   "source": [
    "## Sample"
   ]
  },
  {
   "cell_type": "markdown",
   "metadata": {},
   "source": [
    "For this assignment, I have chosen the [Auto MPG Data Set](http://archive.ics.uci.edu/ml/datasets/Auto+MPG) from UCI Machine Learning Repository. This dataset was originally taken from the StatLib library which is maintained at Carnegie Mellon University. The dataset was used in the 1983 American Statistical Association Exposition."
   ]
  },
  {
   "cell_type": "markdown",
   "metadata": {},
   "source": [
    "The level of analysis is done at the individual level. That means different attributes like MPG, number of cylinders etc of a single car is taken and reported. Back that time in 1970s and 80s, cars were used to big, heavy and used lots of gas. The Auto MPG sample data set is a collection of 398 automobile records from 1970 to 1982. It contains attributes like car name, MPG, number of cylinders, horsepower and weight. This dataset is widely popular and it also comes as built in dataset in R. This dataset can be used to quickly explore and predict the relationships between retro MPG, horsepower and weight data. Here, I will use this data to practice some useful analysis techniques and visualizations to observe relationship between variables."
   ]
  },
  {
   "cell_type": "markdown",
   "metadata": {},
   "source": [
    "## Procedure"
   ]
  },
  {
   "cell_type": "markdown",
   "metadata": {},
   "source": [
    "This study is simply data reporting of various attributes of an automobile. So we can say that this is a **observational** study where no explanatory variables are manipulated. All the variables are simply reported and then analysis is made. The original purpose of this dataset was to study the effect of different variables on mileage (MPG) of an automobile. The data are collected by simply observing the automobiles. For example, number of cylinders the car have, displacement from controls of the cars etc. So the data are collected just by observation. The data was collected between the time period 1970-80. This dataset was originally collected by the StatLib library which is maintained at Carnegie Mellon University."
   ]
  },
  {
   "cell_type": "markdown",
   "metadata": {},
   "source": [
    "## Measures"
   ]
  },
  {
   "cell_type": "markdown",
   "metadata": {},
   "source": [
    "**Explanatory Variables**<br> \n",
    "<ol><li>**cylinders**: Number of Cylinders the automobile has</li>\n",
    "<li>**displacement**: Engine Displacement</li>\n",
    "<li>**horsepower**: Engine power measured in horsepower</li>\n",
    "<li>**weight**: Weight of the automobile</li>\n",
    "<li>**acceleration**: Acceleration of the automobile</li>\n",
    "<li>**model year**: Year when the automobile was built</li>\n",
    "<li>**origin**: Automobile origin</li>\n",
    "<li>**car name**: Name of the automobile</li></ol>"
   ]
  },
  {
   "cell_type": "markdown",
   "metadata": {},
   "source": [
    "**Response Variable**<br>\n",
    "<ol><li>**mpg**: Miles per gallon of the automobile</li></ol>"
   ]
  }
 ],
 "metadata": {
  "kernelspec": {
   "display_name": "Python 3",
   "language": "python",
   "name": "python3"
  },
  "language_info": {
   "codemirror_mode": {
    "name": "ipython",
    "version": 3
   },
   "file_extension": ".py",
   "mimetype": "text/x-python",
   "name": "python",
   "nbconvert_exporter": "python",
   "pygments_lexer": "ipython3",
   "version": "3.6.1"
  }
 },
 "nbformat": 4,
 "nbformat_minor": 2
}
