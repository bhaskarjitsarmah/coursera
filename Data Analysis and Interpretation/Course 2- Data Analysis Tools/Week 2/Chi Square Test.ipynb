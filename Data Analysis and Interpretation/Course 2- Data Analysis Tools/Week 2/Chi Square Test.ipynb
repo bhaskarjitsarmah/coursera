{
 "cells": [
  {
   "cell_type": "markdown",
   "metadata": {},
   "source": [
    "## Research Question"
   ]
  },
  {
   "cell_type": "markdown",
   "metadata": {},
   "source": [
    "Is there any relationship between the marital status of an individual and whether that individual has subscribed a term deposit or not? I have taken the Bank Marketing Data Set (http://archive.ics.uci.edu/ml/datasets/Bank+Marketing#) from UCI Machine Learning Repository. Marital status is defined by the categorical variable **marital** and whether the individual has taken the term deposit or not is defined by the categorical variable **y**"
   ]
  },
  {
   "cell_type": "markdown",
   "metadata": {},
   "source": [
    "## Loading libraries"
   ]
  },
  {
   "cell_type": "code",
   "execution_count": 1,
   "metadata": {
    "collapsed": true
   },
   "outputs": [],
   "source": [
    "import pandas as pd\n",
    "import numpy as np\n",
    "import scipy.stats as st\n",
    "import seaborn as sns\n",
    "import matplotlib.pyplot as plt"
   ]
  },
  {
   "cell_type": "markdown",
   "metadata": {},
   "source": [
    "## Loading the data"
   ]
  },
  {
   "cell_type": "code",
   "execution_count": 2,
   "metadata": {
    "collapsed": true
   },
   "outputs": [],
   "source": [
    "data = pd.read_csv(\"bank.csv\", sep=\";\", usecols=[2, 16], dtype={'marital':'category', 'y':'category'})"
   ]
  },
  {
   "cell_type": "code",
   "execution_count": 3,
   "metadata": {},
   "outputs": [
    {
     "data": {
      "text/plain": [
       "(4521, 2)"
      ]
     },
     "execution_count": 3,
     "metadata": {},
     "output_type": "execute_result"
    }
   ],
   "source": [
    "data.shape"
   ]
  },
  {
   "cell_type": "code",
   "execution_count": 4,
   "metadata": {
    "scrolled": true
   },
   "outputs": [
    {
     "data": {
      "text/html": [
       "<div>\n",
       "<table border=\"1\" class=\"dataframe\">\n",
       "  <thead>\n",
       "    <tr style=\"text-align: right;\">\n",
       "      <th></th>\n",
       "      <th>marital</th>\n",
       "      <th>y</th>\n",
       "    </tr>\n",
       "  </thead>\n",
       "  <tbody>\n",
       "    <tr>\n",
       "      <th>0</th>\n",
       "      <td>married</td>\n",
       "      <td>no</td>\n",
       "    </tr>\n",
       "    <tr>\n",
       "      <th>1</th>\n",
       "      <td>married</td>\n",
       "      <td>no</td>\n",
       "    </tr>\n",
       "    <tr>\n",
       "      <th>2</th>\n",
       "      <td>single</td>\n",
       "      <td>no</td>\n",
       "    </tr>\n",
       "  </tbody>\n",
       "</table>\n",
       "</div>"
      ],
      "text/plain": [
       "   marital   y\n",
       "0  married  no\n",
       "1  married  no\n",
       "2   single  no"
      ]
     },
     "execution_count": 4,
     "metadata": {},
     "output_type": "execute_result"
    }
   ],
   "source": [
    "data.head(n=3)"
   ]
  },
  {
   "cell_type": "markdown",
   "metadata": {},
   "source": [
    "The variable **marital** is a categorical variable with 3 levels <ol><li>married</li><li>single and</li><li>divorced</li></ol>"
   ]
  },
  {
   "cell_type": "code",
   "execution_count": 5,
   "metadata": {},
   "outputs": [
    {
     "data": {
      "text/plain": [
       "married     2797\n",
       "single      1196\n",
       "divorced     528\n",
       "Name: marital, dtype: int64"
      ]
     },
     "execution_count": 5,
     "metadata": {},
     "output_type": "execute_result"
    }
   ],
   "source": [
    "data['marital'].value_counts()"
   ]
  },
  {
   "cell_type": "markdown",
   "metadata": {},
   "source": [
    "Wherease the variable **y** whether the customer has taken a loan or not? is a binary categorical variable"
   ]
  },
  {
   "cell_type": "code",
   "execution_count": 6,
   "metadata": {},
   "outputs": [
    {
     "data": {
      "text/plain": [
       "no     4000\n",
       "yes     521\n",
       "Name: y, dtype: int64"
      ]
     },
     "execution_count": 6,
     "metadata": {},
     "output_type": "execute_result"
    }
   ],
   "source": [
    "data['y'].value_counts()"
   ]
  },
  {
   "cell_type": "markdown",
   "metadata": {},
   "source": [
    "## Setting Hypothesis"
   ]
  },
  {
   "cell_type": "markdown",
   "metadata": {},
   "source": [
    "As we are testing the relationship between the variables **marital** and **y**, we can explain the null hypothesis as follows-"
   ]
  },
  {
   "cell_type": "markdown",
   "metadata": {},
   "source": [
    "<ol><li>**Null Hypothesis:** There is nothing going on between the variables, there is no relationship between the two variables</li><br><li>**Alternate Hypothesis:** There is something going on between the explanatory and response variable, or there is a relationship between the two</li></ol>"
   ]
  },
  {
   "cell_type": "markdown",
   "metadata": {},
   "source": [
    "## Chi square test"
   ]
  },
  {
   "cell_type": "code",
   "execution_count": 7,
   "metadata": {},
   "outputs": [
    {
     "name": "stdout",
     "output_type": "stream",
     "text": [
      "marital  divorced  married  single\n",
      "y                                 \n",
      "no            451     2520    1029\n",
      "yes            77      277     167\n"
     ]
    }
   ],
   "source": [
    "# contingency table of observed counts\n",
    "ct1=pd.crosstab(data['y'], data['marital'])\n",
    "print (ct1)"
   ]
  },
  {
   "cell_type": "code",
   "execution_count": 8,
   "metadata": {},
   "outputs": [
    {
     "name": "stdout",
     "output_type": "stream",
     "text": [
      "marital  divorced   married    single\n",
      "y                                    \n",
      "no       0.854167  0.900965  0.860368\n",
      "yes      0.145833  0.099035  0.139632\n"
     ]
    }
   ],
   "source": [
    "# column percentages\n",
    "colsum=ct1.sum(axis=0)\n",
    "colpct=ct1/colsum\n",
    "print(colpct)"
   ]
  },
  {
   "cell_type": "markdown",
   "metadata": {},
   "source": [
    "The above table shows the observed counts for different levels of two categorical variables. Now we will calculate the expected values for the same provided the null hypothesis is true."
   ]
  },
  {
   "cell_type": "code",
   "execution_count": 9,
   "metadata": {},
   "outputs": [
    {
     "name": "stdout",
     "output_type": "stream",
     "text": [
      "chi-square value, p value, expected counts\n",
      "(19.03005634409817, 7.3735354018237629e-05, 2)\n"
     ]
    }
   ],
   "source": [
    "# chi-square\n",
    "print('chi-square value, p value, expected counts')\n",
    "cs1= st.chi2_contingency(ct1)\n",
    "print(cs1[0:3])"
   ]
  },
  {
   "cell_type": "code",
   "execution_count": 10,
   "metadata": {},
   "outputs": [
    {
     "name": "stdout",
     "output_type": "stream",
     "text": [
      "expected distribution\n",
      "\n",
      " [[  467.15328467  2474.67374475  1058.17297058]\n",
      " [   60.84671533   322.32625525   137.82702942]]\n"
     ]
    }
   ],
   "source": [
    "print(\"expected distribution\\n\\n\", cs1[3])"
   ]
  },
  {
   "cell_type": "code",
   "execution_count": 11,
   "metadata": {},
   "outputs": [
    {
     "data": {
      "image/png": "[encoded data removed]",
      "text/plain": [
       "<matplotlib.figure.Figure at 0x12a3e71bb70>"
      ]
     },
     "metadata": {},
     "output_type": "display_data"
    }
   ],
   "source": [
    "# graph percent with term insurance taken or not within each smoking frequency group \n",
    "data[\"marital\"] = data[\"marital\"].astype('category')\n",
    "\n",
    "data['y'] = data['y'].apply(lambda y : 1 if y == 'yes' else 0)\n",
    "data['y'] = pd.to_numeric(data['y'], errors='coerce')\n",
    "\n",
    "sns.factorplot(x=\"marital\", y=\"y\", data=data[data['y'] == 1], kind=\"bar\", ci=None)\n",
    "plt.xlabel('Marital Status')\n",
    "plt.ylabel('Proportion of Term Insurance Taken')\n",
    "plt.show()"
   ]
  },
  {
   "cell_type": "markdown",
   "metadata": {},
   "source": [
    "## Post-Hoc Analysis"
   ]
  },
  {
   "cell_type": "code",
   "execution_count": 12,
   "metadata": {},
   "outputs": [
    {
     "name": "stdout",
     "output_type": "stream",
     "text": [
      "comparison_1  divorced  married\n",
      "y                              \n",
      "0                  451     2520\n",
      "1                   77      277\n",
      "comparison_1  divorced   married\n",
      "y                               \n",
      "0             0.854167  0.900965\n",
      "1             0.145833  0.099035\n",
      "chi-square value, p value, expected counts\n",
      "(9.7393437306311803, 0.0018036528145925006, 1, array([[  471.78586466,  2499.21413534],\n",
      "       [   56.21413534,   297.78586466]]))\n"
     ]
    }
   ],
   "source": [
    "recode2 = {'divorced': 'divorced', 'married': 'married'}\n",
    "data['comparison_1']= data['marital'].map(recode2)\n",
    "\n",
    "# contingency table of observed counts\n",
    "ct2=pd.crosstab(data['y'], data['comparison_1'])\n",
    "print (ct2)\n",
    "\n",
    "# column percentages\n",
    "colsum=ct2.sum(axis=0)\n",
    "colpct=ct2/colsum\n",
    "print(colpct)\n",
    "\n",
    "print ('chi-square value, p value, expected counts')\n",
    "cs2= st.chi2_contingency(ct2)\n",
    "print (cs2)"
   ]
  },
  {
   "cell_type": "markdown",
   "metadata": {},
   "source": [
    "In the above **comparison_1**, we get p-value as 0.0018036528145925006 (< 0.017, after bonferroni adjustment). And these are the two groups which affect our target variable **y** i.e. whether the customer is divorced or married, it has a significant affect on his/her buying of a term insurance. "
   ]
  },
  {
   "cell_type": "code",
   "execution_count": 13,
   "metadata": {},
   "outputs": [
    {
     "name": "stdout",
     "output_type": "stream",
     "text": [
      "comparison_2  divorced  single\n",
      "y                             \n",
      "0                  451    1029\n",
      "1                   77     167\n",
      "comparison_2  divorced    single\n",
      "y                               \n",
      "0             0.854167  0.860368\n",
      "1             0.145833  0.139632\n",
      "chi-square value, p value, expected counts\n",
      "(0.070511293712692824, 0.79059378691009763, 1, array([[  453.27146172,  1026.72853828],\n",
      "       [   74.72853828,   169.27146172]]))\n"
     ]
    }
   ],
   "source": [
    "recode3 = {'divorced': 'divorced', 'single': 'single'}\n",
    "data['comparison_2']= data['marital'].map(recode3)\n",
    "\n",
    "# contingency table of observed counts\n",
    "ct3=pd.crosstab(data['y'], data['comparison_2'])\n",
    "print (ct3)\n",
    "\n",
    "# column percentages\n",
    "colsum=ct3.sum(axis=0)\n",
    "colpct=ct3/colsum\n",
    "print(colpct)\n",
    "\n",
    "print ('chi-square value, p value, expected counts')\n",
    "cs3= st.chi2_contingency(ct3)\n",
    "print (cs3)"
   ]
  },
  {
   "cell_type": "markdown",
   "metadata": {},
   "source": [
    "In **comparison_2**, we get p-value as 0.79059378691009763 (> 0.017, after bonferroni adjustment). This means these two groups are similar to each other. Divorced or single customers have same behaviour towards his/her purchasing a term deposit."
   ]
  },
  {
   "cell_type": "code",
   "execution_count": 14,
   "metadata": {},
   "outputs": [
    {
     "name": "stdout",
     "output_type": "stream",
     "text": [
      "comparison_3  married  single\n",
      "y                            \n",
      "0                2520    1029\n",
      "1                 277     167\n",
      "comparison_3   married    single\n",
      "y                               \n",
      "0             0.900965  0.860368\n",
      "1             0.099035  0.139632\n",
      "chi-square value, p value, expected counts\n",
      "(13.563353526352158, 0.00023064464416217606, 1, array([[ 2485.98873028,  1063.01126972],\n",
      "       [  311.01126972,   132.98873028]]))\n"
     ]
    }
   ],
   "source": [
    "recode4 = {'married': 'married', 'single': 'single'}\n",
    "data['comparison_3']= data['marital'].map(recode4)\n",
    "\n",
    "# contingency table of observed counts\n",
    "ct4=pd.crosstab(data['y'], data['comparison_3'])\n",
    "print (ct4)\n",
    "\n",
    "# column percentages\n",
    "colsum=ct4.sum(axis=0)\n",
    "colpct=ct4/colsum\n",
    "print(colpct)\n",
    "\n",
    "print ('chi-square value, p value, expected counts')\n",
    "cs4= st.chi2_contingency(ct4)\n",
    "print (cs4)"
   ]
  },
  {
   "cell_type": "markdown",
   "metadata": {},
   "source": [
    "In the last **comparison_3**, we get p-value as 0.00023064464416217606 (< 0.017, after bonferroni adjustment). This means these two groups are different from each other. And whether a customer purchased term deposit or not, it depends on their marital status."
   ]
  }
 ],
 "metadata": {
  "kernelspec": {
   "display_name": "Python 3",
   "language": "python",
   "name": "python3"
  },
  "language_info": {
   "codemirror_mode": {
    "name": "ipython",
    "version": 3
   },
   "file_extension": ".py",
   "mimetype": "text/x-python",
   "name": "python",
   "nbconvert_exporter": "python",
   "pygments_lexer": "ipython3",
   "version": "3.6.1"
  }
 },
 "nbformat": 4,
 "nbformat_minor": 2
}
