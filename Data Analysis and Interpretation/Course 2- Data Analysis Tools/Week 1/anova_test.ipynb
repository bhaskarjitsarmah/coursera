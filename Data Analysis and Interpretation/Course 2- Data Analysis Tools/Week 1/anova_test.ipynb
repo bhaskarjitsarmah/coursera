{
 "cells": [
  {
   "cell_type": "markdown",
   "metadata": {},
   "source": [
    "## Research Question"
   ]
  },
  {
   "cell_type": "markdown",
   "metadata": {},
   "source": [
    "Is there any relationship between variables **diet** taken and **weight loss** by a respondent? I have taken the dataset **diet_exercise** to perform this test."
   ]
  },
  {
   "cell_type": "markdown",
   "metadata": {},
   "source": [
    "The dataset consist of two explanatory variables **Exercise** and **Diet** (Categorical in nature) and the response variable **WeightLoss**. Since the explanatory variable is categorical in nature and **WeightLoss** variable is numerical in nature, we need to perform the **ANOVA** test to check for any relationship between these two variables. And we can ignore the variable **Exercise** as of now as we are only interested in knowing the relationship between the variables **Diet** and **WeightLoss**."
   ]
  },
  {
   "cell_type": "markdown",
   "metadata": {},
   "source": [
    "## Loading libraries"
   ]
  },
  {
   "cell_type": "code",
   "execution_count": 1,
   "metadata": {
    "collapsed": true
   },
   "outputs": [],
   "source": [
    "import numpy as np\n",
    "import pandas as pd\n",
    "import statsmodels.formula.api as smf\n",
    "import statsmodels.stats.multicomp as multi"
   ]
  },
  {
   "cell_type": "markdown",
   "metadata": {},
   "source": [
    "## Loading the data"
   ]
  },
  {
   "cell_type": "code",
   "execution_count": 2,
   "metadata": {},
   "outputs": [],
   "source": [
    "data = pd.read_csv(\"diet_exercise.csv\")"
   ]
  },
  {
   "cell_type": "code",
   "execution_count": 3,
   "metadata": {},
   "outputs": [
    {
     "data": {
      "text/plain": [
       "(40, 3)"
      ]
     },
     "execution_count": 3,
     "metadata": {},
     "output_type": "execute_result"
    }
   ],
   "source": [
    "data.shape"
   ]
  },
  {
   "cell_type": "code",
   "execution_count": 4,
   "metadata": {},
   "outputs": [
    {
     "data": {
      "text/html": [
       "<div>\n",
       "<table border=\"1\" class=\"dataframe\">\n",
       "  <thead>\n",
       "    <tr style=\"text-align: right;\">\n",
       "      <th></th>\n",
       "      <th>Exercise</th>\n",
       "      <th>Diet</th>\n",
       "      <th>WeightLoss</th>\n",
       "    </tr>\n",
       "  </thead>\n",
       "  <tbody>\n",
       "    <tr>\n",
       "      <th>0</th>\n",
       "      <td>Cardio</td>\n",
       "      <td>A</td>\n",
       "      <td>22.6</td>\n",
       "    </tr>\n",
       "    <tr>\n",
       "      <th>1</th>\n",
       "      <td>Cardio</td>\n",
       "      <td>A</td>\n",
       "      <td>18.9</td>\n",
       "    </tr>\n",
       "    <tr>\n",
       "      <th>2</th>\n",
       "      <td>Cardio</td>\n",
       "      <td>A</td>\n",
       "      <td>20.2</td>\n",
       "    </tr>\n",
       "  </tbody>\n",
       "</table>\n",
       "</div>"
      ],
      "text/plain": [
       "  Exercise Diet  WeightLoss\n",
       "0   Cardio    A        22.6\n",
       "1   Cardio    A        18.9\n",
       "2   Cardio    A        20.2"
      ]
     },
     "execution_count": 4,
     "metadata": {},
     "output_type": "execute_result"
    }
   ],
   "source": [
    "data.head(n=3)"
   ]
  },
  {
   "cell_type": "code",
   "execution_count": 5,
   "metadata": {},
   "outputs": [],
   "source": [
    "# removing the unnecessary variable\n",
    "data = data.drop('Exercise', axis=1)"
   ]
  },
  {
   "cell_type": "markdown",
   "metadata": {},
   "source": [
    "## Setting Hypothesis"
   ]
  },
  {
   "cell_type": "markdown",
   "metadata": {},
   "source": [
    "As we are testing the relationship between the variables **Diet** and **WeightLoss**, we can explain the null hypothesis as follows-"
   ]
  },
  {
   "cell_type": "markdown",
   "metadata": {},
   "source": [
    "<ol><li>**Null Hypothesis:** There is nothing going on between the variables, there is no relationship between the two variables, in mathematical terms \\begin{align}\n",
    "\\\\H_0: \\mu_A & = \\mu_B \n",
    "\\end{align}</li><br><li>**Alternate Hypothesis:** There is something going on between the explanatory and response variable, or there is a relationship between the two, in mathematical terms \\begin{align}\n",
    "\\\\H_A: \\mu_A & \\neq \\mu_B \n",
    "\\end{align}</li></ol>"
   ]
  },
  {
   "cell_type": "markdown",
   "metadata": {},
   "source": [
    "## Visualizing data"
   ]
  },
  {
   "cell_type": "code",
   "execution_count": 8,
   "metadata": {},
   "outputs": [
    {
     "data": {
      "image/png": "[encoded data removed]",
      "text/plain": [
       "<matplotlib.figure.Figure at 0x25614781630>"
      ]
     },
     "metadata": {},
     "output_type": "display_data"
    }
   ],
   "source": [
    "import matplotlib.pyplot as plt\n",
    "import seaborn as sns\n",
    "\n",
    "sns.boxplot(x=data['Diet'], y=data['WeightLoss'])\n",
    "plt.show()"
   ]
  },
  {
   "cell_type": "markdown",
   "metadata": {},
   "source": [
    "From the above plot it looks like the mean of these two groups of observations (Diet A and Diet B) are different from each other. It signifies the distributions for these two Diet categories are from two independent populations and there is a relationship between the variable **Diet** and **WeightLoss**. But we need to prove this visual inference through a statistical test."
   ]
  },
  {
   "cell_type": "code",
   "execution_count": 19,
   "metadata": {},
   "outputs": [
    {
     "name": "stdout",
     "output_type": "stream",
     "text": [
      "                            OLS Regression Results                            \n",
      "==============================================================================\n",
      "Dep. Variable:             WeightLoss   R-squared:                       0.240\n",
      "Model:                            OLS   Adj. R-squared:                  0.220\n",
      "Method:                 Least Squares   F-statistic:                     12.00\n",
      "Date:                Sat, 16 Sep 2017   Prob (F-statistic):            0.00133\n",
      "Time:                        21:02:46   Log-Likelihood:                -119.06\n",
      "No. Observations:                  40   AIC:                             242.1\n",
      "Df Residuals:                      38   BIC:                             245.5\n",
      "Df Model:                           1                                         \n",
      "Covariance Type:            nonrobust                                         \n",
      "================================================================================\n",
      "                   coef    std err          t      P>|t|      [0.025      0.975]\n",
      "--------------------------------------------------------------------------------\n",
      "Intercept       14.6550      1.089     13.457      0.000      12.450      16.860\n",
      "C(Diet)[T.B]    -5.3350      1.540     -3.464      0.001      -8.453      -2.217\n",
      "==============================================================================\n",
      "Omnibus:                        2.489   Durbin-Watson:                   0.394\n",
      "Prob(Omnibus):                  0.288   Jarque-Bera (JB):                1.352\n",
      "Skew:                          -0.031   Prob(JB):                        0.509\n",
      "Kurtosis:                       2.101   Cond. No.                         2.62\n",
      "==============================================================================\n",
      "\n",
      "Warnings:\n",
      "[1] Standard Errors assume that the covariance matrix of the errors is correctly specified.\n"
     ]
    }
   ],
   "source": [
    "# using ols function for calculating the F-statistic and associated p value\n",
    "model1 = smf.ols(formula='WeightLoss ~ C(Diet)', data=data)\n",
    "results1 = model1.fit()\n",
    "print (results1.summary())"
   ]
  },
  {
   "cell_type": "markdown",
   "metadata": {},
   "source": [
    "From the statistical results above we get **p-value = 0.00133** which is less than the standard significance level 0.05. Therefore we can reject our null hypothesis as the data shows significant evidence that probability of finding the observed or more extreme results provided the null hypothesis is true is very very less. So the relationship between the variable **Diet** and **WeightLoss** is statistically significant."
   ]
  }
 ],
 "metadata": {
  "kernelspec": {
   "display_name": "Python 3",
   "language": "python",
   "name": "python3"
  },
  "language_info": {
   "codemirror_mode": {
    "name": "ipython",
    "version": 3
   },
   "file_extension": ".py",
   "mimetype": "text/x-python",
   "name": "python",
   "nbconvert_exporter": "python",
   "pygments_lexer": "ipython3",
   "version": "3.6.1"
  }
 },
 "nbformat": 4,
 "nbformat_minor": 2
}
