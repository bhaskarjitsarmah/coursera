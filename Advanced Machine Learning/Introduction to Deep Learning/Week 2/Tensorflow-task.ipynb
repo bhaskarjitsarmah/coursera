{
 "cells": [
  {
   "cell_type": "markdown",
   "metadata": {
    "slideshow": {
     "slide_type": "slide"
    }
   },
   "source": [
    "# Going deeper with Tensorflow\n",
    "\n",
    "In this video, we're going to study the tools you'll use to build deep learning models. Namely, [Tensorflow](https://www.tensorflow.org/).\n",
    "\n",
    "If you're running this notebook outside the course environment, you'll need to install tensorflow:\n",
    "* `pip install tensorflow` should install cpu-only TF on Linux & Mac OS\n",
    "* If you want GPU support from offset, see [TF install page](https://www.tensorflow.org/install/)"
   ]
  },
  {
   "cell_type": "code",
   "execution_count": 1,
   "metadata": {
    "collapsed": true
   },
   "outputs": [],
   "source": [
    "import sys\n",
    "sys.path.append(\"..\")\n",
    "import grading"
   ]
  },
  {
   "cell_type": "markdown",
   "metadata": {},
   "source": [
    "# Visualization"
   ]
  },
  {
   "cell_type": "markdown",
   "metadata": {},
   "source": [
    "Plase note that if you are running on the Coursera platform, you won't be able to access the tensorboard instance due to the network setup there. If you run the notebook locally, you should be able to access TensorBoard on http://127.0.0.1:7007/"
   ]
  },
  {
   "cell_type": "code",
   "execution_count": 2,
   "metadata": {},
   "outputs": [
    {
     "name": "stdout",
     "output_type": "stream",
     "text": [
      "/bin/sh: 1: killall: not found\r\n"
     ]
    }
   ],
   "source": [
    "! killall tensorboard\n",
    "import os\n",
    "os.system(\"tensorboard --logdir=/tmp/tboard --port=7007 &\");"
   ]
  },
  {
   "cell_type": "code",
   "execution_count": 3,
   "metadata": {
    "collapsed": true
   },
   "outputs": [],
   "source": [
    "import tensorflow as tf\n",
    "s = tf.InteractiveSession()"
   ]
  },
  {
   "cell_type": "markdown",
   "metadata": {},
   "source": [
    "# Warming up\n",
    "For starters, let's implement a python function that computes the sum of squares of numbers from 0 to N-1."
   ]
  },
  {
   "cell_type": "code",
   "execution_count": 4,
   "metadata": {
    "collapsed": true
   },
   "outputs": [],
   "source": [
    "import numpy as np\n",
    "def sum_sin(N):\n",
    "    return np.sum(np.arange(N)**2)"
   ]
  },
  {
   "cell_type": "code",
   "execution_count": 5,
   "metadata": {},
   "outputs": [
    {
     "name": "stdout",
     "output_type": "stream",
     "text": [
      "CPU times: user 144 ms, sys: 1.72 s, total: 1.87 s\n",
      "Wall time: 2.17 s\n"
     ]
    },
    {
     "data": {
      "text/plain": [
       "662921401752298880"
      ]
     },
     "execution_count": 5,
     "metadata": {},
     "output_type": "execute_result"
    }
   ],
   "source": [
    "%%time\n",
    "sum_sin(10**8)"
   ]
  },
  {
   "cell_type": "markdown",
   "metadata": {},
   "source": [
    "# Tensoflow teaser\n",
    "\n",
    "Doing the very same thing"
   ]
  },
  {
   "cell_type": "code",
   "execution_count": 6,
   "metadata": {
    "collapsed": true
   },
   "outputs": [],
   "source": [
    "# An integer parameter\n",
    "N = tf.placeholder('int64', name=\"input_to_your_function\")\n",
    "\n",
    "# A recipe on how to produce the same result\n",
    "result = tf.reduce_sum(tf.range(N)**2)"
   ]
  },
  {
   "cell_type": "code",
   "execution_count": 7,
   "metadata": {},
   "outputs": [
    {
     "data": {
      "text/plain": [
       "<tf.Tensor 'Sum:0' shape=() dtype=int64>"
      ]
     },
     "execution_count": 7,
     "metadata": {},
     "output_type": "execute_result"
    }
   ],
   "source": [
    "result"
   ]
  },
  {
   "cell_type": "code",
   "execution_count": 8,
   "metadata": {},
   "outputs": [
    {
     "name": "stdout",
     "output_type": "stream",
     "text": [
      "CPU times: user 468 ms, sys: 184 ms, total: 652 ms\n",
      "Wall time: 541 ms\n"
     ]
    },
    {
     "data": {
      "text/plain": [
       "662921401752298880"
      ]
     },
     "execution_count": 8,
     "metadata": {},
     "output_type": "execute_result"
    }
   ],
   "source": [
    "%%time\n",
    "result.eval({N: 10**8})"
   ]
  },
  {
   "cell_type": "code",
   "execution_count": 9,
   "metadata": {
    "collapsed": true
   },
   "outputs": [],
   "source": [
    "writer = tf.summary.FileWriter(\"/tmp/tboard\", graph=s.graph)"
   ]
  },
  {
   "cell_type": "markdown",
   "metadata": {},
   "source": [
    "# How does it work?\n",
    "1. Define placeholders where you'll send inputs\n",
    "2. Make symbolic graph: a recipe for mathematical transformation of those placeholders\n",
    "3. Compute outputs of your graph with particular values for each placeholder\n",
    "  * `output.eval({placeholder:value})`\n",
    "  * `s.run(output, {placeholder:value})`\n",
    "\n",
    "So far there are two main entities: \"placeholder\" and \"transformation\"\n",
    "* Both can be numbers, vectors, matrices, tensors, etc.\n",
    "* Both can be int32/64, floats, booleans (uint8) of various size.\n",
    "\n",
    "* You can define new transformations as an arbitrary operation on placeholders and other transformations\n",
    " * `tf.reduce_sum(tf.arange(N)**2)` are 3 sequential transformations of placeholder `N`\n",
    " * There's a tensorflow symbolic version for every numpy function\n",
    "   * `a+b, a/b, a**b, ...` behave just like in numpy\n",
    "   * `np.mean` -> `tf.reduce_mean`\n",
    "   * `np.arange` -> `tf.range`\n",
    "   * `np.cumsum` -> `tf.cumsum`\n",
    "   * If if you can't find the op you need, see the [docs](https://www.tensorflow.org/api_docs/python).\n",
    "   \n",
    "`tf.contrib` has many high-level features, may be worth a look."
   ]
  },
  {
   "cell_type": "code",
   "execution_count": 10,
   "metadata": {
    "collapsed": true
   },
   "outputs": [],
   "source": [
    "with tf.name_scope(\"Placeholders_examples\"):\n",
    "    # Default placeholder that can be arbitrary float32\n",
    "    # scalar, vertor, matrix, etc.\n",
    "    arbitrary_input = tf.placeholder('float32')\n",
    "\n",
    "    # Input vector of arbitrary length\n",
    "    input_vector = tf.placeholder('float32', shape=(None,))\n",
    "\n",
    "    # Input vector that _must_ have 10 elements and integer type\n",
    "    fixed_vector = tf.placeholder('int32', shape=(10,))\n",
    "\n",
    "    # Matrix of arbitrary n_rows and 15 columns\n",
    "    # (e.g. a minibatch your data table)\n",
    "    input_matrix = tf.placeholder('float32', shape=(None, 15))\n",
    "    \n",
    "    # You can generally use None whenever you don't need a specific shape\n",
    "    input1 = tf.placeholder('float64', shape=(None, 100, None))\n",
    "    input2 = tf.placeholder('int32', shape=(None, None, 3, 224, 224))\n",
    "\n",
    "    # elementwise multiplication\n",
    "    double_the_vector = input_vector*2\n",
    "\n",
    "    # elementwise cosine\n",
    "    elementwise_cosine = tf.cos(input_vector)\n",
    "\n",
    "    # difference between squared vector and vector itself plus one\n",
    "    vector_squares = input_vector**2 - input_vector + 1"
   ]
  },
  {
   "cell_type": "code",
   "execution_count": 11,
   "metadata": {
    "collapsed": true
   },
   "outputs": [],
   "source": [
    "my_vector =  tf.placeholder('float32', shape=(None,), name=\"VECTOR_1\")\n",
    "my_vector2 = tf.placeholder('float32', shape=(None,))\n",
    "my_transformation = my_vector * my_vector2 / (tf.sin(my_vector) + 1)"
   ]
  },
  {
   "cell_type": "code",
   "execution_count": 12,
   "metadata": {},
   "outputs": [
    {
     "name": "stdout",
     "output_type": "stream",
     "text": [
      "Tensor(\"truediv:0\", shape=(?,), dtype=float32)\n"
     ]
    }
   ],
   "source": [
    "print(my_transformation)"
   ]
  },
  {
   "cell_type": "code",
   "execution_count": 13,
   "metadata": {},
   "outputs": [
    {
     "name": "stdout",
     "output_type": "stream",
     "text": [
      "[ 0.  1.  2.  3.  4.]\n"
     ]
    },
    {
     "data": {
      "text/plain": [
       "array([ 0.        ,  1.62913239,  2.09501147,  2.62899613,  0.        ], dtype=float32)"
      ]
     },
     "execution_count": 13,
     "metadata": {},
     "output_type": "execute_result"
    }
   ],
   "source": [
    "dummy = np.arange(5).astype('float32')\n",
    "print(dummy)\n",
    "my_transformation.eval({my_vector:dummy, my_vector2:dummy[::-1]})"
   ]
  },
  {
   "cell_type": "code",
   "execution_count": 14,
   "metadata": {
    "collapsed": true
   },
   "outputs": [],
   "source": [
    "writer.add_graph(my_transformation.graph)\n",
    "writer.flush()"
   ]
  },
  {
   "cell_type": "markdown",
   "metadata": {},
   "source": [
    "TensorBoard allows writing scalars, images, audio, histogram. You can read more on tensorboard usage [here](https://www.tensorflow.org/get_started/graph_viz)."
   ]
  },
  {
   "cell_type": "markdown",
   "metadata": {},
   "source": [
    "# Summary\n",
    "* Tensorflow is based on computation graphs\n",
    "* The graphs consist of placehlders and transformations"
   ]
  },
  {
   "cell_type": "markdown",
   "metadata": {},
   "source": [
    "# Mean squared error\n",
    "\n",
    "Your assignment is to implement mean squared error in tensorflow."
   ]
  },
  {
   "cell_type": "code",
   "execution_count": 15,
   "metadata": {
    "collapsed": true
   },
   "outputs": [],
   "source": [
    "with tf.name_scope(\"MSE\"):\n",
    "    y_true = tf.placeholder(\"float32\", shape=(None,), name=\"y_true\")\n",
    "    y_predicted = tf.placeholder(\"float32\", shape=(None,), name=\"y_predicted\")\n",
    "    # Your code goes here\n",
    "    # You want to use tf.reduce_mean\n",
    "    mse = tf.reduce_mean(tf.pow((y_true - y_predicted), 2))\n",
    "def compute_mse(vector1, vector2):\n",
    "    return mse.eval({y_true: vector1, y_predicted: vector2})"
   ]
  },
  {
   "cell_type": "code",
   "execution_count": 16,
   "metadata": {
    "collapsed": true
   },
   "outputs": [],
   "source": [
    "writer.add_graph(mse.graph)\n",
    "writer.flush()"
   ]
  },
  {
   "cell_type": "markdown",
   "metadata": {},
   "source": [
    "Tests and result submission. Please use the credentials obtained from the Coursera assignment page."
   ]
  },
  {
   "cell_type": "code",
   "execution_count": 17,
   "metadata": {
    "collapsed": true
   },
   "outputs": [],
   "source": [
    "import submit"
   ]
  },
  {
   "cell_type": "code",
   "execution_count": 18,
   "metadata": {},
   "outputs": [
    {
     "name": "stdout",
     "output_type": "stream",
     "text": [
      "Submitted to Coursera platform. See results on assignment page!\n"
     ]
    }
   ],
   "source": [
    "submit.submit_mse(compute_mse, \"bhaskarjitsarmah@gmail.com\", \"AnGbddQi1bs9ZCfO\")"
   ]
  },
  {
   "cell_type": "markdown",
   "metadata": {},
   "source": [
    "# Variables\n",
    "\n",
    "The inputs and transformations have no value outside function call. This isn't too comfortable if you want your model to have parameters (e.g. network weights) that are always present, but can change their value over time.\n",
    "\n",
    "Tensorflow solves this with `tf.Variable` objects.\n",
    "* You can assign variable a value at any time in your graph\n",
    "* Unlike placeholders, there's no need to explicitly pass values to variables when `s.run(...)`-ing\n",
    "* You can use variables the same way you use transformations \n",
    " "
   ]
  },
  {
   "cell_type": "code",
   "execution_count": 19,
   "metadata": {
    "collapsed": true
   },
   "outputs": [],
   "source": [
    "# Creating a shared variable\n",
    "shared_vector_1 = tf.Variable(initial_value=np.ones(5),\n",
    "                              name=\"example_variable\")"
   ]
  },
  {
   "cell_type": "code",
   "execution_count": 20,
   "metadata": {},
   "outputs": [
    {
     "name": "stdout",
     "output_type": "stream",
     "text": [
      "Initial value [ 1.  1.  1.  1.  1.]\n"
     ]
    }
   ],
   "source": [
    "# Initialize variable(s) with initial values\n",
    "s.run(tf.global_variables_initializer())\n",
    "\n",
    "# Evaluating shared variable (outside symbolicd graph)\n",
    "print(\"Initial value\", s.run(shared_vector_1))\n",
    "\n",
    "# Within symbolic graph you use them just\n",
    "# as any other inout or transformation, not \"get value\" needed"
   ]
  },
  {
   "cell_type": "code",
   "execution_count": 21,
   "metadata": {},
   "outputs": [
    {
     "name": "stdout",
     "output_type": "stream",
     "text": [
      "New value [ 0.  1.  2.  3.  4.]\n"
     ]
    }
   ],
   "source": [
    "# Setting a new value\n",
    "s.run(shared_vector_1.assign(np.arange(5)))\n",
    "\n",
    "# Getting that new value\n",
    "print(\"New value\", s.run(shared_vector_1))"
   ]
  },
  {
   "cell_type": "markdown",
   "metadata": {},
   "source": [
    "# tf.gradients - why graphs matter\n",
    "* Tensorflow can compute derivatives and gradients automatically using the computation graph\n",
    "* True to its name it can manage matrix derivatives\n",
    "* Gradients are computed as a product of elementary derivatives via the chain rule:\n",
    "\n",
    "$$ {\\partial f(g(x)) \\over \\partial x} = {\\partial f(g(x)) \\over \\partial g(x)}\\cdot {\\partial g(x) \\over \\partial x} $$\n",
    "\n",
    "It can get you the derivative of any graph as long as it knows how to differentiate elementary operations"
   ]
  },
  {
   "cell_type": "code",
   "execution_count": 22,
   "metadata": {
    "collapsed": true
   },
   "outputs": [],
   "source": [
    "my_scalar = tf.placeholder('float32')\n",
    "\n",
    "scalar_squared = my_scalar**2\n",
    "\n",
    "# A derivative of scalar_squared by my_scalar\n",
    "derivative = tf.gradients(scalar_squared, [my_scalar, ])"
   ]
  },
  {
   "cell_type": "code",
   "execution_count": 23,
   "metadata": {},
   "outputs": [
    {
     "data": {
      "text/plain": [
       "[<tf.Tensor 'gradients/pow_1_grad/Reshape:0' shape=<unknown> dtype=float32>]"
      ]
     },
     "execution_count": 23,
     "metadata": {},
     "output_type": "execute_result"
    }
   ],
   "source": [
    "derivative"
   ]
  },
  {
   "cell_type": "code",
   "execution_count": 24,
   "metadata": {},
   "outputs": [
    {
     "data": {
      "image/png": "[encoded data removed]",
      "text/plain": [
       "<matplotlib.figure.Figure at 0x7f844a002cc0>"
      ]
     },
     "metadata": {},
     "output_type": "display_data"
    }
   ],
   "source": [
    "import matplotlib.pyplot as plt\n",
    "%matplotlib inline\n",
    "\n",
    "x = np.linspace(-3, 3)\n",
    "x_squared, x_squared_der = s.run([scalar_squared, derivative[0]],\n",
    "                                 {my_scalar:x})\n",
    "\n",
    "plt.plot(x, x_squared,label=\"$x^2$\")\n",
    "plt.plot(x, x_squared_der, label=r\"$\\frac{dx^2}{dx}$\")\n",
    "plt.legend();"
   ]
  },
  {
   "cell_type": "markdown",
   "metadata": {},
   "source": [
    "# Why that rocks"
   ]
  },
  {
   "cell_type": "code",
   "execution_count": 25,
   "metadata": {
    "collapsed": true
   },
   "outputs": [],
   "source": [
    "my_vector = tf.placeholder('float32', [None])\n",
    "# Compute the gradient of the next weird function over my_scalar and my_vector\n",
    "# Warning! Trying to understand the meaning of that function may result in permanent brain damage\n",
    "weird_psychotic_function = tf.reduce_mean(\n",
    "    (my_vector+my_scalar)**(1+tf.nn.moments(my_vector,[0])[1]) + \n",
    "    1./ tf.atan(my_scalar))/(my_scalar**2 + 1) + 0.01*tf.sin(\n",
    "    2*my_scalar**1.5)*(tf.reduce_sum(my_vector)* my_scalar**2\n",
    "                      )*tf.exp((my_scalar-4)**2)/(\n",
    "    1+tf.exp((my_scalar-4)**2))*(1.-(tf.exp(-(my_scalar-4)**2)\n",
    "                                    )/(1+tf.exp(-(my_scalar-4)**2)))**2\n",
    "\n",
    "der_by_scalar = tf.gradients(weird_psychotic_function, my_scalar)\n",
    "der_by_vector = tf.gradients(weird_psychotic_function, my_vector)"
   ]
  },
  {
   "cell_type": "code",
   "execution_count": 26,
   "metadata": {},
   "outputs": [
    {
     "data": {
      "image/png": "[encoded data removed]",
      "text/plain": [
       "<matplotlib.figure.Figure at 0x7f8449c75860>"
      ]
     },
     "metadata": {},
     "output_type": "display_data"
    }
   ],
   "source": [
    "# Plotting the derivative\n",
    "scalar_space = np.linspace(1, 7, 100)\n",
    "\n",
    "y = [s.run(weird_psychotic_function, {my_scalar:x, my_vector:[1, 2, 3]})\n",
    "     for x in scalar_space]\n",
    "\n",
    "plt.plot(scalar_space, y, label='function')\n",
    "\n",
    "y_der_by_scalar = [s.run(der_by_scalar,\n",
    "                         {my_scalar:x, my_vector:[1, 2, 3]})\n",
    "                   for x in scalar_space]\n",
    "\n",
    "plt.plot(scalar_space, y_der_by_scalar, label='derivative')\n",
    "plt.grid()\n",
    "plt.legend();"
   ]
  },
  {
   "cell_type": "markdown",
   "metadata": {},
   "source": [
    "# Almost done - optimizers\n",
    "\n",
    "While you can perform gradient descent by hand with automatic grads from above, tensorflow also has some optimization methods implemented for you. Recall momentum & rmsprop?"
   ]
  },
  {
   "cell_type": "code",
   "execution_count": 27,
   "metadata": {
    "collapsed": true
   },
   "outputs": [],
   "source": [
    "y_guess = tf.Variable(np.zeros(2, dtype='float32'))\n",
    "y_true = tf.range(1, 3, dtype='float32')\n",
    "loss = tf.reduce_mean((y_guess - y_true + tf.random_normal([2]))**2) \n",
    "#loss = tf.reduce_mean((y_guess - y_true)**2) \n",
    "optimizer = tf.train.MomentumOptimizer(0.01, 0.5).minimize(\n",
    "    loss, var_list=y_guess)"
   ]
  },
  {
   "cell_type": "code",
   "execution_count": 28,
   "metadata": {},
   "outputs": [
    {
     "data": {
      "image/png": "[encoded data removed]",
      "text/plain": [
       "<matplotlib.figure.Figure at 0x7f8449d7b048>"
      ]
     },
     "metadata": {},
     "output_type": "display_data"
    }
   ],
   "source": [
    "from matplotlib import animation, rc\n",
    "import matplotlib_utils\n",
    "from IPython.display import HTML\n",
    "\n",
    "fig, ax = plt.subplots()\n",
    "y_true_value = s.run(y_true)\n",
    "level_x = np.arange(0, 2, 0.02)\n",
    "level_y = np.arange(0, 3, 0.02)\n",
    "X, Y = np.meshgrid(level_x, level_y)\n",
    "Z = (X - y_true_value[0])**2 + (Y - y_true_value[1])**2\n",
    "ax.set_xlim(-0.02, 2)\n",
    "ax.set_ylim(-0.02, 3)\n",
    "s.run(tf.global_variables_initializer())\n",
    "ax.scatter(*s.run(y_true), c='red')\n",
    "contour = ax.contour(X, Y, Z, 10)\n",
    "ax.clabel(contour, inline=1, fontsize=10)\n",
    "line, = ax.plot([], [], lw=2)\n",
    "\n",
    "def init():\n",
    "    line.set_data([], [])\n",
    "    return (line,)\n",
    "\n",
    "guesses = [s.run(y_guess)]\n",
    "\n",
    "def animate(i):\n",
    "    s.run(optimizer)\n",
    "    guesses.append(s.run(y_guess))\n",
    "    line.set_data(*zip(*guesses))\n",
    "    return (line,)\n",
    "\n",
    "anim = animation.FuncAnimation(fig, animate, init_func=init,\n",
    "                               frames=400, interval=20, blit=True)"
   ]
  },
  {
   "cell_type": "code",
   "execution_count": 29,
   "metadata": {},
   "outputs": [
    {
     "data": {
      "text/html": [
       "<img src=\"data:image/jpeg;base64,/9j/4AAQSkZJRgABAQAAAQABAAD/2wBDAAIBAQEBAQIBAQECAgICAgQDAgICAgUEBAMEBgUGBgYFBgYGBwkIBgcJBwYGCAsICQoKCgoKBggLDAsKDAkKCgr/2wBDAQICAgICAgUDAwUKBwYHCgoKCgoKCgoKCgoKCgoKCgoKCgoKCgoKCgoKCgoKCgoKCgoKCgoKCgoKCgoKCgoKCgr/wAARCAEgAbADASIAAhEBAxEB/8QAHwAAAQUBAQEBAQEAAAAAAAAAAAECAwQFBgcICQoL/8QAtRAAAgEDAwIEAwUFBAQAAAF9AQIDAAQRBRIhMUEGE1FhByJxFDKBkaEII0KxwRVS0fAkM2JyggkKFhcYGRolJicoKSo0NTY3ODk6Q0RFRkdISUpTVFVWV1hZWmNkZWZnaGlqc3R1dnd4eXqDhIWGh4iJipKTlJWWl5iZmqKjpKWmp6ipqrKztLW2t7i5usLDxMXGx8jJytLT1NXW19jZ2uHi4%2BTl5ufo6erx8vP09fb3%2BPn6/8QAHwEAAwEBAQEBAQEBAQAAAAAAAAECAwQFBgcICQoL/8QAtREAAgECBAQDBAcFBAQAAQJ3AAECAxEEBSExBhJBUQdhcRMiMoEIFEKRobHBCSMzUvAVYnLRChYkNOEl8RcYGRomJygpKjU2Nzg5OkNERUZHSElKU1RVVldYWVpjZGVmZ2hpanN0dXZ3eHl6goOEhYaHiImKkpOUlZaXmJmaoqOkpaanqKmqsrO0tba3uLm6wsPExcbHyMnK0tPU1dbX2Nna4uPk5ebn6Onq8vP09fb3%2BPn6/9oADAMBAAIRAxEAPwD9/KKKKACiiigAooooAKKKKACiiigAooooAKKKKACiiigAooooAKKKKACiiigAooooAKKKKACiiigAooooAKKKKACiiigAooooAKKKKACiiigAooooAKKKKACiiigAooooAKKKKACiiigAooooAKKKKACiiigAorj/AAR%2B0J8A/iZ431n4Z/Dj44eD/EHiTw5JJH4h8P6J4ltbu%2B0t0kMTrcQRSNJAVkBQh1GGG088VZtfjb8Gb74p3PwLsvi54Ym8b2dgL288HRa/btqsFqQpE72gfzljIdPnK7fmXnkUAdPRRRQAUUUUAFFFFABRRRQAUUUUAFFFFABRRRQAUUUUAFFFFABRRRQAUUUUAFFFFABRRRQAUUUUAFFFFABRRRQAUUUUAFFFFABRRRQAUUUUAFFFFABRRRQAUUUUAFFFFABRRRQAUUUUAfIz%2BIrvxH/wUT0j40aVp3xZ1nw/4Z8I6/pWr2XiP4WX%2Bn6b4Ukmn0yMNpUo06CbVWu5bUtJiS%2BRUQyxvbxjbLy/g74f/EGL9qTw98N5fhR4oh17Qf2nfEnj3WvGcvhq6TSpvDt5oWp29tImpmP7NPIVvbDT/sqyGZPszMYxHCr19w0UAeIftr%2BO/wBp34WeFtF8bfAPx94D022ufF/hzw/qFj4v8B3uqyO%2Bq67Y6X9ojlttVsxGIkvDJ5ZR95jA3oDkWf8AhB/%2BChf/AEdB8Gf/AAw%2Brf8AzUUft4f8kQ0P/ss3w4/9TXRK9moA8Z/4Qf8A4KF/9HQfBn/ww%2Brf/NRVbWdA/bz8OaRdeIPEP7W3wQsLCyt3nvb29%2BB2qRQ28SAs0ju3ikKigAkkkAAZrtvhz8ddL%2BIPxC8S/DO58F65oGp%2BHTHIkWuxQx/2nZvJNEt5biOVy0JlglTLBW4UlQHUnwnxj4Y%2BMnh7SfE/w8%2BNujX%2BsaZ8RPFEvhqz8ZS%2BM3nuFS8eQ2EkOlRwrDawQsyQuY2EpCNOwKqSOulhHOfLN2emnVp9tbOyu/6dsZ1Uo3Svv/X3lHxB8b/27NYt/Cy/AD9pj4A%2BOLnxXqV3bWWPhRqtnboLWBp58y/8JHKfNCqAsRUFtwJKoC47H4Paz%2B3j8Zfh1p3xD0P9pT4RWkd4JYrqwvPgJqyz2V1DK8FxbSj/AISjiSKaOSNscbkOOKzfC3wc%2BK/xk%2BI914s8Z%2BCNU8Aatplhpl2de32sscviW1M0TXVtHHI3m272k8sT7wm%2BO5ZPvLlPb/gn8K5vhL4RuNG1LxGNX1PUtYvNV1nU0sVtUuLu5lMkjJCpYRoMgBdzHC5LMSSdcTTwtKlyxfvffvfqtNrbWflrpNKVWUrvb%2BvmeEeBx/wWR8RfFHWNF8XeKPgJ4e8H2FxPDpniCf4dapc32qbWxHMlnF4gKRRuAW/eThxkZTOcegf8IP8A8FC/%2BjoPgz/4YfVv/mor2aiuKclN3UUvS/6tm0U0tXc8Z/4Qf/goX/0dB8Gf/DD6t/8ANRR/wg//AAUL/wCjoPgz/wCGH1b/AOaivZqw/iF8T/ht8JPDsni/4qfEDRPDWlQ/63Ute1SGzgXjODJKyrn8amMZSdoq7K3PNf8AhB/%2BChf/AEdB8Gf/AAw%2Brf8AzUUf8IP/AMFC/wDo6D4M/wDhh9W/%2BaiuQn/4Kh/BjxncPpn7Lfwu%2BInxlulcx/afAPhOX%2BzEkzgB9SvDBaBf9pZH78HFNHiv/gqv8XOfD3wo%2BFXwe0%2BX5Wl8V65ceJtVjH98QWQgtVb2M7jPr1rs/s/ER/i2h/iaT%2B7WX/kpfJLrodj/AMIP/wAFC/8Ao6D4M/8Ahh9W/wDmorK8XH9tXwBpZ1vx5%2B2j8BNEsl%2B9eav8F9Stoh/wOTxUB%2BtYn/DB3xr%2BIH779or/AIKJfFfXc8PpvgZ7TwnYsvdStjGbgj63BODyTWt4R/4JZ/sB%2BE9UGv3H7NOh%2BItT6vqnjiWfX7h267i%2BoyTHOeeMY7Yo9lgYfHVcv8Mf1k1%2BQWgup4x4q/4KMP4T1I6Kf%2BCo37O2tXwyBZeD/gRrmuzE%2BgTTvEs5J7YxWb/w3d%2B3rr//ACSnwjrXi1H/AOPe8tP2O9a022l9CJdT8W2w2%2B/P0r7m8K%2BCvBvgTTRovgjwlpmjWa/dtNKsI7eIf8BjUD9K06Pa4CPw0pP1lb8Ix/ULw7HwPH8av%2BDgjxA4bwj%2BzN8I7OBz8k3jHRfsJx6lLTxNeMv0IzXffCy1/wCC7ev%2BI7T/AIW94p/ZT8N6I%2B77ZLo/hPxHqd9F8jbdsTalBE3z7QcyjAJPJAB%2BuqKieIpSjaNKK/8AAm/xl%2BgnJdjxn/hB/wDgoX/0dB8Gf/DD6t/81FH/AAg//BQv/o6D4M/%2BGH1b/wCaivZqK5STxn/hB/8AgoX/ANHQfBn/AMMPq3/zUUf8IP8A8FC/%2BjoPgz/4YfVv/mor2aigDxn/AIQf/goX/wBHQfBn/wAMPq3/AM1FH/CD/wDBQv8A6Og%2BDP8A4YfVv/mor2aigDxn/hB/%2BChf/R0HwZ/8MPq3/wA1FH/CD/8ABQvt%2B1B8Gf8Aww%2Brf/NRXs1FAHxJ4k1P/g4i8P7pdK0j9kfX0H3E0%2Bw8RW8jD3E96qg/8CNYI/aJ/wCC63hg%2Bd8Sv2XvBot1/wBZP4J8CQ6wf%2BAxyeMLaRv%2B%2BRX3zRXZHE0bWlRi/wDwJflJ/kVzLsfK/wCz98Sv%2BChPx%2B0zUr9/GnhvwRNpk8cU1j8Qf2YtX06WYspO6EjxY6TKMYLIxAJA71pfEvxF/wAFBvh74t8EeC7f9oL4M6he%2BNvEj6Xbr/wpTVYRaxRWNzeTXJ/4qZt4VLbbs%2BXLSKNwr6Wrzbx/%2BzPoHjv4y6D8dU%2BI/jDSdb8O288NhbafrKyaeVmiaKQtZ3EcsIYqeXRVf5R83XMU5Yd13Jq0bOy1lrZ27PfW/QFy3PBf2g/jh/wUO%2BCWpXmmaH8V/hH4kfQPDMniXxhJD8GdStk0nR42kDT5fxOTNKfJmKQqAWELfMOM60Hxz/aoufinb/CGL9rP4VnUrm7SyS7/AOGbde%2BwrfvaC8Wxa6/4SXyluTbETeUWB2%2B4xXb/ABj/AGSvHXxJ8U31xpHxXtLTR/Fvh6w0bx8l1ope9u7e1mkk3WsiSpHCZlkeGRWjZQrFkw2c8PqP7PH7SK6v4g8LaD4b06z0/TfFeu%2BL9B8S/wBqKf7Sv5bcppVsIBmSLySyrK78MLddmRIQnXTo4GpSScrO3e333XR9F038qSg0dT4Q179rv4gavqvh/wACftzfs%2Ba1qGhXAg1ux0r4O6hcTafISQEnRPFZaIkq2AwGcH0rf/4Qf/goX/0dB8Gf/DD6t/8ANRXF/sZeCtWfxvoXiLRPBHiDw54Z8GfCDTvCaQeJdBm0271HUzMJrl3imVXkEIiTE2NjyXc5RnBLH0f4l/ttfsqfBj4q2/wW%2BMHxs0fwr4gu7OO5s4vEbPZW1wjlgoS7mVbdnypygk3jIyBuGeethJKu6dFOVlfRXfntfyfW1yXHWyMz/hB/%2BChf/R0HwZ/8MPq3/wA1FH/CD/8ABQv/AKOg%2BDP/AIYfVv8A5qK9f0vVdM1zTodX0XUoLy0uYxJb3VrMskcqHoyspIYH1FT1x7EnjP8Awg//AAUL/wCjoPgz/wCGH1b/AOaivP8AwGP%2BCyGo/FLVfB/xL8UfATSfDkFvLNo3i/R/h1ql9HeYlVUhltpPEEMsEpRi5wHjGxhvPy5%2BpqKuM1FNOKd/XTzWv53Jaba1Pmf48eIv%2BCh/wV%2BHFx41sPjv8F9d1F7q3sdG0I/BrV7RtRvriVYbeBZB4jl2lpHUE7DhdzHhTV/4ieI/2wPhBo9pr3xY/ba%2BAnh2zvb2Ozgu9W%2BCmqQwtcPnam9/FIAzg8nA47V6B8VvgFqvxB%2BJ3hf4raX8TdStJfCt2bq28M30Edzo93N9nuIVmki2rKkyi5YrIkgA2qSjEDHC/tNQ/EnxB4m8NL4X%2BFfixvF2g3kEnhzWNKeCbQLk3Pl29/HeCQsUiSCSfJliRyozCxc7R10aVCqoQv3bezXZa6WVt9d3poZTnUhzO3a39I2bTwl/wUAv7WK/sP2qvgrPBPGskM0PwK1VkkQjIZSPFOCCDkEVJ/wg/wDwUL/6Og%2BDP/hh9W/%2BaivNdS%2BMuueHtf0z4uRfEy50Hw1a%2BK9StLHwjZ20MenQeGNKW4TULuaLZv377d3VwRtCRqnDkN7F8G/j74n%2BIXjWbwN47%2BFzeFr2Xw3a6/pVrLq4uZ3sppHj23MYjX7NOrpgx5cfNw5KsqzVwVWnHmWq/L/O11e2g4V4SdjjNS8Y/tm/CX40/Crw18Ufi38MPEvh/wAeeNbvQdTtNA%2BF2o6ReW4j8P6vqcc0VxNrl2gPm6dGjK0JysjYKkA19A14z%2B1B/wAlv/Zx/wCyzX3/AKhXiivZq4zYKKKKACiiigAooooAKKKKACiiigDxn9vD/kiGh/8AZZvhx/6muiV0/gH9pT4cfFD4t%2BIvhB4Dg1jUbnwoGj17Wo9HlXS7a8V1VrEXTAJJcru3MibtoByQRiuY/bw/5Ihof/ZZvhx/6muiV7KiJGCI0CgkkgDHJ5Jq4umovmV301tb/P00Jak2rM8u%2BLvwe%2BKHi/41eDviZ8MfGOkeHP7Ds72013Ubqwe8ub%2BynMTGzSHckajfEsgmdm2OgxGwZs9XafB34fJ4nsPHus%2BHrbV/EemWrW9l4i1W2jlvIUZmLBH2gR53EHYFyMA8AV09FW69VxUb2sraaaeb3e//AABKnFNvuFVtY1nSPD2lXOva/qttY2NnA015e3k6xRQRqMs7uxAVQASSTgAVT8bjxq3hHUV%2BHEulprptWGlPrUUj2izY%2BUyrGyuyDuFZSemR1rxI634q/ae/ZI8b/C/4i32k6V430d7vw94oxGYLAalAUeGULIzMltcxtbTKCzER3O3cWXNOlR9ouZvS6T7q/W3b9TRK50PxC/a50a2t/C6/s/aJp3xJufFUeoXGm/2P4khjtpYLKBZpglwFkR52EkYjh%2BXduLFkVGYeLeI/2k/G2seIvHnx48DfE3XI38H2eka/o3gW/mt4dP1fwsSseoRLGU3C/W5ttShLl2MU0duufLlUHV8I/Br4i/Gf40%2BIfGll4M1/4Z3UA0vV5dQ1PTY2iTxVbyPb3Eluqybby2ubGOGOZl2hl2bX3l9nr/gL9kj4Z6b4G0zw78X/AA5oHjjU7DXb3WhqeqeG4hFDfXVzJcubaGQym3iV5SI497lAifMSoNelfA4RWau9L7N66vvHbTRp63NPcid/418PXXjjwNqfhfTfFeqaDNqumy28GtaQUjvLBpEKrPF5qMqyoSGG9CARyp6V4z8Pf%2BCZ37IngzxFH498YeA7r4ieK05bxb8UtVl8QX5bsym7LRwkdvJjjA7CvfaK82nicRRg405OKe9tPxWvyvbyM1KSWgy3t4LSBLW1gSOKNAsccahVVQMAADoBT6KKwEFFFc/8SPiv8Lfg34bk8ZfF34k6B4V0iLPm6p4j1iCxt04zzJMyqPzpqMpOyV2NJydktToKK%2BVbz/gsN%2Byj4lvJdI/Zo8N/Eb4330LlJYvhD4AvNTtUYcfNfyrDYgZ4z5%2BB37UwftEf8FW/iv8Au/hN/wAE/PB3w9tZPmg1f4x/FJJZdnYtY6NDclWxztadT2OOtdX1HEr40o/4mo/g3f8AA6fqWIXxpR/xNL8G7/gfVtFfKY/Z0/4KwfEX/S/iR/wUZ8HeBkk4l0v4VfByGTYO4W61i5ujn38ketL/AMOsh4k/efF//goR%2B0x4saTm5th8UTo1rJ6jydIgtcL/ALJJ%2BtH1fDx%2BKsvkpP8ASKD2FCPxVV8lJ/okfVTukal3YKoGSScACuR8S/tBfAXwYzJ4w%2BN3hDSSn3xqXiW1gK/XfIMV4Kn/AARR/wCCal2wm8Xfs%2BXXimbOZJ/GfjjWtZaRvUi8vJF/IAV13hr/AIJX/wDBNPwkqjRP2BvhAGT7st18PdPuJB/wOWJm/WjlwC%2B1J/8AbsV%2BcmHLgl9qT%2BSX5yZtar/wUO/YB0Jimt/ty/B6zK/eF18TNKjI/wC%2BrgVjzf8ABUv/AIJoQNtf/goJ8Fyf9j4m6W38p67DSv2Nf2QdCULon7Knw2swv3Ra%2BBtPjx/3zCK2If2d/wBn%2B3XZB8DPByD0TwzaD%2BUdF8v7T/8AJP8AIP8AYe0//Jf8jzq2/wCCon/BNS7YJD/wUE%2BCuT0D/FDSl/8AQrgVvaN%2B3p%2Bwz4iYJ4f/AGz/AIT3xb7os/iLpkuf%2B%2BZzXSXX7N/7O96uy9%2BAnguYHqJfC1ow/WOsHWP2HP2KfEKlNf8A2PvhbfBvvC8%2BH%2Bmy5/76hNH/AAn/AN//AMkD/Yf7/wD5Kdn4X%2BK3wu8blV8F/EnQNXLfdGl6xBcZ%2Bnlsa36%2BdPFH/BIn/gl74vDDVv2B/hVFu6nS/BtrYn8DbIhFYB/4Iv8A7BGknz/hr4P8beBrkf6u68DfFnxDphj/AN1Ir7yx/wB8UcmAe05L1in%2BUg5cE9pyXrFP8pH1VRXyp/w7X%2BLPg7/Svgj/AMFR/wBojQrhf9VD4n1/TvE9qvplNTspZG/GWk/4Vb/wWO%2BGf/Im/tY/Bf4oQdfI%2BIPw3vNBuSPT7Rpd1LGD/tfZ8f7NP6tRl8FaPzUo/mmvxD6vRl8NVfNSj%2Baa/E%2BrKK%2BUT%2B2h%2B338Kv8Ak4f/AIJda/qljD8s%2Bu/BXx3p/iFXP95bK7%2BxXQHsFc8dzgVreB/%2BCvP7BfiXxDD4G8efF24%2BGfiWY7T4Z%2BL2gXnhe7V%2BmwHUY4opGyQP3bvycUngcVa8Y8y/utS/Jt/gDweJteMeZf3Wpfk2/wAD6YoqtpGsaR4g0yDW9B1W2vrK5jEltd2c6yxSoejK6khh7g1Zrk2OXYKzfFng3wh4%2B0Kfwt468K6brWmXK4udO1axjuYJR6NHICrfiK0qKabi7oD5r1P/AIJe/A3wrqVx4o/ZU8aeMPglrM8hmkk%2BHGuNDps8nUedpdwJbKRAf4REv1FV28af8FL/ANnH/kffh14Z%2BPfhuD7%2BseCGXQPEiRjlnfT7l2tLlsdFhmiJ7L2P05RXasfWnpWSqL%2B9q/8AwJWl%2BLL5299Txv4E/t6/s0fH/wARv8PNA8ZT6B40gH%2Bm/D/xrp8mka5btjJH2S5CtKB3eLzE/wBqvZK4T48fsxfAD9p3w4nhb48/CjSPEltCd1nLfW%2BLmyf/AJ6W9whWW3f/AG43VvevFn%2BCH7cf7JP%2Bn/syfFR/i/4Og5b4a/FHVNmr28Y/g0/W9uWPQLHeK6gDHmjrR7LCYj%2BFLkl2lt8p/wDySXqFoy20PqSivHP2eP24fgz%2B0D4hufhkU1Twd8QdNi36x8N/Gtl9g1i1UdZEjYlbqHjImgaSMgg5GcV7HXLVo1aE%2BSorP%2BvvXmm15ktNOzPOPHX7K3wb8WeG/GGmaH4K0nQNT8a2jRazrul6TCtxNIWDrLJ8uJT5gV2DcOR82au/CL4O6j4C1zXPH3jbxmfEfirxILWPVdXWw%2ByQrb2yOsFtBAHfyokaWeTBdiXnkJY547qiqeIrOm4OV0/%2BB13totPJGfs4KV7HjH7TrF/jb%2BzkShX/AIvPfjB9vBXijmvZ68Z/ag/5Lf8As4/9lmvv/UK8UV7NWJYUUUUAFFFFABRRRQAUUUUAeD%2BFPjN%2B0Fof7Z9v%2Bzp8QvEHgjxJpes%2BEdV8RLF4V8OXlje%2BFbaC9toLFb6Wa9uI7oXQmuFR1jtSXsZiiSKshiwvhX%2B1P8Xdd/bS8V/A34seJtE8M6Lb%2BJ7nTfAGgX/wn1u0ufE9tFpdvdm4tdenuxp93IrtdlreCBpBHauSAEZx0Xwm/YlvPg58QvG/xG8OftZfE27uvH2uT6rrcGrW3h2cLO7IIljm/sgXHlW8KLbwxPK6RxcBS3z1v337LUHiL45aL8a/Hvxv8a%2BIofC2tXOr%2BEfB2pHTI9J0W%2Bms7iyaeL7NZRXUxW2u7qNBc3EyqJ2IG5UZQDjP%2BChfxc%2BFHhrwf4M%2BFHiP4neHtP8AFPiD4w/D2XQfDV7rUEWoakkfjPRmka3t2cSTBVVixRSAFJOMGvoevGf28P8AkiGh/wDZZvhx/wCprolezUAFcT8ff2h/hD%2BzH8PZviZ8Z/F8OlaakqwWsexpbm/uX4jtraFAXuJnPCxoCx5PQEjH/an/AGpPBn7LXge11zV9Ivde8Ra7fLpvgvwXowD6h4h1Fx8ltAvYD7zyt8kaAs3YHhP2dv2RfGep/EGD9rX9tPVbLxL8UXiYaDpFsS%2Bj%2BBbZ%2BtppyNw05GBLeN%2B8kIwpVOG7KOHgqftq7tDolvJ9l2S6yei2V3oqUVa72PRP2afih8YvjD4JuvHvxb%2BBs3w%2BjvdRZvDWhanqaz6kdO2J5ct9Gi7LWdm3kwB3KKVViGBFJo37LXwo0z40678ftSt9Q1bxJrwgSWTVdQaS1tYoVVYo4bVdsClduRKyNNyQZCOK9GorF1pKcnT91S0sr7dtdenz/AV9dAooorEQUUV4H%2B1B/wAFAfh78BfGlt8Bfhr4M1b4o/F/VbYTaR8L/BpRrtIjgC6v53Pk6ZaZK5nnIyD8iuQRWlKlUrT5YK7/AK1fRLzdkaU6VStLlgrv%2Bt%2By82e9SyxQRNNNIqIilndjgKB1JPYV8w%2BP/wDgqp8FLjxfe/CX9kbwN4l%2BP3jayk8m70n4YWyT6bpsx6LfavKyWNoM5BBlZ1I5SsC0/YK%2BP/7YEi%2BKf%2BCnXxm%2B3aJMwktvgR8Nr%2Bew8M2y9Vj1G6UpdazIMKWDtHb7gcRFTX1L8Pfhx8PvhL4Qsvh/8LfA%2BkeHNC06Ly7DR9D06O0tbdfRIolVV/AV08uEofE%2BeXZaR%2B/d/JJeZvy4Wh8T532Wkfv3fySXmfMq/CH/AIKp/tN/6R8Z/wBofwz8AvDVx97wp8IrJdZ19om6xzazqEfkQyD%2B9bWp9nrovht/wSX/AGGvAviSP4g%2BMfhTN8S/Fy8yeMvi7q8/ifUXfOd6tftJHCfTyUjA7CvpKipljcRblg%2BRdo6fe1q/nITxle1oPlXaOn4rV/NkVlZWWm2cWn6daRW9vCgSGCCMIkagYCqo4AA7CpaKK5DlCiiigAooooAKKKKACiiigAooooAKKKKACsjxx8PvAXxO8OzeEPiV4I0jxDpNwMXGl65psV3by/70cqsrfiK16Kabi7oabTuj5W1n/gkN%2BzT4Z1OfxV%2ByV4t8cfAPXJpDK9x8JPE0llp88nUedpUwlsJUz1XyFyO44Ipv4k/4K0/stjd4r8JeDf2lvC0H%2Bs1DwwE8K%2BLI4%2BpdrSZ30%2B8YD%2BGOW3Zj0XkCvrWiutY2tLSraa/vav8A8C0l%2BLOlYyrLSraa/vav79Jfizwn9nX/AIKOfst/tH%2BLX%2BFWk%2BKdQ8I/EG3TN98MviJpUmieILfgk4tLjBuFwM%2BZA0seP4q92rzr9o79kr9nD9rfwmngv9or4QaP4otIH8ywnvYCl3p8uQRLa3MZWa1kBA%2BeJ0b3rwGb4c/8FBP2BR/afwV8Wap%2B0Z8LLUZuPAfjDUI08aaNAOT/AGfqb7Y9VVRki3u9sxCqqzMTT9lhq/8ACfLLtJ6fKWn3SS9R%2Bzw9f%2BG%2BV9pPT5S/%2BSS9T7DorzL9lz9r/wCA/wC2F4MuPF/wU8WvcTaZc/ZPEfh7VLR7PVtBvBndaX1nKBLbSqQwwww20lSy816bXLOnOlNxmrNdGc04TpycZKzQUUUVBJ5z%2B0Z%2Byj8Dv2p/D1tonxd8ICe702Xz9B8Q6dcNaarotwMFZ7O7iIlgcEA/Kdp2gMGHFeKj42/tJfsAzppH7W9/efEf4So4js/jJp2n/wDE18Px5wq65aQjEsQHH26BccZljUtur6wplxb293bva3UCSxSoUkjkUMrqRggg8EEdq66OLcIeyqrmh2fTzi94v8H1T3KUrKz2KvhvxL4d8Y6BZeK/CWu2eqaXqNslxp%2Bo6fcrNBcwuMrJG6Eq6kEEEEg1dr5I8Y/CT4if8E5NevfjV%2Byv4bvtf%2BEF3cveePvg5YL5kuhhjum1TQkP3ccvLYjCONxj2tgD6a%2BGPxN8A/GbwBpPxT%2BF3im01vw/rlkl1pWqWUm6OeJu47gg5BUgMrAqQCCKWIw6pxVSm%2BaD2fVPtJdH%2BDWqdtiUbarY82/ag/5Lf%2Bzj/wBlmvv/AFCvFFezV4z%2B1B/yW/8AZx/7LNff%2BoV4or2auUkKKKKACiiigAooooAKKKKACiiigDxn9vD/AJIhof8A2Wb4cf8Aqa6JXoXxh%2BLfgP4D/C7XvjH8T9cTTtA8OabLfapduMlY0GdqjqzscKqjlmZVHJFee/t4f8kQ0P8A7LN8OP8A1NdErg/2h7YftXfts%2BDv2S5P3/gz4c2Nv4%2B%2BJUA5ivrzzmj0XTpexXzYp7x42BDC2iz1rpwtGNar7%2BkUm5ei3t5vRLzfkVFXepe/Y4%2BC3jz4i%2BNLj9vT9qPQXtvHXiayMPgrwrd/Mvgbw%2B53RWaKeBeTLtkuZcBizCIbVQg/SlFFTiK8sRU5notklsktkvJfjq3q2KTcmFFFFYCCiivnH/goV%2B0B8UPCGmeE/wBlX9mPUYrb4t/GPUZtL8MalJF5ieG9OhQPqWuyp0ZbWFhsUn555YVw2SK1o0pV6ihHr9yW7b8ktTSlSlWqKC/4ZdW/JLU539oD9qD42/tFfGTVf2I/%2BCf2r21hq2iMsPxY%2BMdzai5sPA6uM/YrWM/JeauyHIiJ8uAENLydo9e/ZT/Y7%2BCH7HXgq48KfCXRLmW/1a5%2B2eKfFuuXRvNZ8R3xyXu7%2B7f57iViWPOFXcQiqvFaX7L/AOzR8Lf2Rvgro/wM%2BEemSxaZpaM9ze3kvm3eqXkh33F9dSnma4mkLO7nqTgYAAHoFbVq8eX2VHSH4yfd/otl5u7Nq1ePL7KlpD8Zeb/RbLzd2FFFFchyhRRRQAUUUUAFFFFABRRRQAUUVwEX7Vn7MU/iq98DRftDeCjrGnNIt/pp8T2omgaM4kVlMmQVIIYdVIOcVrTo1q1/Zxcrb2TdvWydjKrXoUbe0mo32u0r%2Bl2r/I7%2BiuY%2BHnxs%2BDfxcnv7X4VfFfw54ll0t1TUo9B1uC7a1LZ2%2BYInbbna2M9dp9DXT1NSnUpS5ZxafZpp/c0mVTqU6sOanJNd00196bX4hRRRUFhRRRQAUUUUAFFFFABRRRQB88ftYfsF6d8X/GUH7Sv7O/jZ/hl8cNFtvL0fx9pduGi1WFcEadq9sMLqFk20Da/7yLAaNlIwbf7Gn7aF/wDHfVdc%2BAnx58DJ4D%2BNXgeKM%2BM/BLXJkgubdjti1bTJWwbrT5iPlcfNEx8uQBgC3vlfPP7fX7KPi34y6Bo/x9/ZzvbfRvjd8MJJNS%2BHWtyfLHfgj/SNFvDkeZZXiAxOCRscpIpBQ57aVWNeKo1n/hl/L5P%2B73X2d11T7KVWNaKpVX6S/l8n/d8um66p/Q1FebfsiftMeEf2vv2ePDfx%2B8H6fcaemtWrLqei3oxc6RqELtDd2M4IBEsE8ckTZAzsyOCK9JrknCdObhJWa0ZyzhKnNxkrNaBRRRUkhXyP4rsP%2BHa3x9X4m%2BHl%2Bz/Aj4na/HB4y0teLfwT4huXCRapEOkVldSFY514WOVkkBAZlr64rB%2BKHw08GfGT4c658KPiLoseo6F4i0ubT9VspRxLBKhRgD/C2DkMOQQCOQK6sLXVGbjNXhLSS8u681un302bKi7PXY83/ag/5Ld%2Bzj/2Wa%2B/9QrxRXs1fL8/w08ffBu1/ZL%2BFPxM%2BIw8W6v4e%2BKl7YSeIjaGF72GLwZ4qWBpFLMTKIRGrvn53VmwN2B9QVhUjGE3GLuk9%2B/n8xPRhRRRUCCiiigAooooAKKKKAOQ8C/tB/AP4oeMtZ%2BHXw0%2BN/hDxF4h8OuyeINC0LxLa3d5pjK5jZbiCKRnhIcFSHAwwI61Ytfjb8Gb74p3PwLsvi54Ym8b2dgL288HRa/btqsFqQpE72gfzljIdPnK7fmXnkV81/DX4r6Z8WP239W%2BKfiz4SfEXwlpPws0nWvC/gXTbj4NeIYf7a%2B1XlmdR1ZroWH2d4JJbSBLWCKRmeNZrlwd8Yh5nwd8P/iDF%2B1J4e%2BG8vwo8UQ69oP7TviTx7rXjOXw1dJpU3h280LU7e2kTUzH9mnkK3thp/2VZDMn2ZmMYjhV6APe/wBvD/kiGh/9lm%2BHH/qa6JXIf8E7ov8AhNvEPxz/AGir8ebd%2BMvjTqthaXX97TNHCaVaoP8AZBtp3HvKavf8FC9N%2BK8/g/wZqPhzxp4etfC0Pxh%2BHo17Rr3wxPcaheOfGejeW1veLexx2wVtpYPbTFgCAUyCK/8AwSxmji/Zf1Hw69skN5ovxS8ZWGpRIWO24TxBfM2dxJ3EOrHnvwAMCu2jpgazXVwXyvJ/mkWvgfyPo%2BiiiuIgKKKKACvkv9kWzb46/wDBRL9of9qbWWFxbeCL7T/hT4I3jmzhtLaHUdWK/wDXW9vYlLdSLRRnjA%2BtK%2BVP%2BCW7LYah%2B0l4Uu/lv9O/al8VS3cbcNsuks7yByPQwzx4P%2Bz7V2Yf3cNWkt7RXyctfySOqh7uHqyW9kvk5a/kkfVdFFFcZyhRRRQAUUUUAFFFFABRRXxr4n/bo/bE%2BJH7RvjPwH%2BxR8HfA/xC8I%2BAZrFNXu5tUlt7i/klVRNbQXLypbpKjibqHAWPPzMQh78Dl2IzBz9lZKKu3KSjFa2Wr0u27Jdfvt5%2BYZnhstjB1VJubslGLlJ6Nu0VrZJXb6fNX%2ByqK/Ln9pr4WfHP9nzwXD/wUx/aJ%2BM%2Bs%2BHfjCPGs8fg7wXMkOsadY2swlEOlAodkYECzu0qts24GzzTubtLP/g4U%2BElrcWVhqfwJ8QXaLbRrqepWl5DFumCjzGhgYk7C27aGkDbcZwc4918I5hiKMauXv261UnFWSkrXSbaUlrZSWjaemzfgLjLLcNWlSzFewlo4qTu3GV7NqKbg9LuLV0mnfdL9Eq/LH/gt14J/Y%2B%2BCuqWNl4T/Z7s1%2BIfjVbjUrzX7XUrm2htE8wAzG3jcRTSyOZDnAwULNu3YP0R4V/4LLfCbxHqmga1qfwH8d6B4G8Sa7FpOn/EDxFbW9rp6TsPmMjmUoqoQ%2B4q7YVGPYivg7/goZ%2B1T%2B0b/wAFC/iN4l8BfDHw9q%2BpeAvCWpSLp9p4PsZLyMrG8kSX81xDCJCswXeqOfLAAwCQWPpcN5PxBluYuv7JpQi24uoqak07KLkuaN%2Bb7MutuayZxZ9m/Cuc4SnhK2J5Y1Jxj7RUXWlTT1dRU7wk1y680He1%2BW7SR498HPEv7SPw08EeLPG37PnxBuNC0kW8X/CQ6npOvWllqSWy3CCLIWUXUStK0YxGcOWC5YHn9Gv2fP8AguV8Ir34H%2BG9K%2BKPhTxXrnxMKxaZdaJ4b0lbiXVroBY0uUP7qMGdjnykBZWLKqsAu78vtC%2BFOueGivwm%2BKOiXHhzxFdPBd2mq%2BKbHUIpfJ8qUrbpbQwSO/2hni2uUPMSYZVZye8/Zo/YA/ac/ao8cy%2BCPAfgZ9L%2ByQedqGq%2BJlksrS0TJCliULuWYbQsaO2eSAASP0PMsuybOcvjic0iqTSU370U43ik4ynC6mk9G4t7e6ldN/m2Fx2bcPZ1VwWSVniYKUqcZKM%2BWoozdqkKVRRnT5o%2B8lUSklL372aX25%2B2b/wXD8VeEtfsvCf7KnhOwdodIin8VXHijSZnuNKvWkUPZFElVA8fEcjZdd77VbK5r7h%2BFP7V/wAAfi94f8Pap4d%2BKnh6LUPEel2l7a%2BHbjxBaHUIjcRLIsLwpKx80btpUZ5BAJr4Z/Z3/wCCSn7bnwQ8I%2BLPh2/ij4IXuk%2BNLeC21mbVdMvNRuEgjYvtiLW8JA3iNtpYrujVhtZcnUX/AIIv/HPw58TfCPxn8H/Gv4errHhjxVY6mml23gIaZZ7Ip0ldy1uzNKw8tdsbBVOTh4yST8HmGC4Mq0Y4ehXjBwvaabk53jdc94q1paLsj7rLcdxvRrSxFfDyqKdrwaUVTtKz5LTfNeOr7s/Riiiivzo/SwooooAKKKKACiiigAooooA%2BTf2YLVfgB/wUy%2BOv7NenjytA%2BIGhaV8VvD1lH/q7a8uJJdN1jHvJcWtrOR/euGP8VfWVfKk7Lqn/AAW9tPsJ3f2J%2ByvcrqZX%2BE3viS3NuG9yLG5IH1r6rrsxms4Se7hFv1s1%2BSR1YvWUJPdxi39zX5JBRRRXGcoUUUUAeM/tQf8AJb/2cf8Ass19/wCoV4or2avGf2oP%2BS3/ALOP/ZZr7/1CvFFezUAFFFFABRRRQAUUUUAFFFFABRRRQB4z%2B3h/yRDQ/wDss3w4/wDU10SuM/ZOmHwb/bP%2BO37Mmo/uodf1i2%2BJfhMP1ubXUYkttQ2%2B0d/asSP%2BnpT/ABV2f7eH/JEND/7LN8OP/U10SuX/AG/fAnjTwkfCn7b3wb0GfUvFfwhuZ7jVdFs1/e6/4auFVdTsFH8coREuYQc4ltwACXrtwTU5SoSdudWX%2BJO8fx0/7eLhrp3Po6isT4bfEbwX8XvAGj/FH4c%2BIINV0LX9OivtK1C2bKTwSKGVvUHBwQeQQQQCCK2645RlGTi1ZojYKKKKQBXyLfX4/Y//AOCqcur6032fwR%2B0/otpaQ30nEVn410iBo44GPCob3TQoTPLyaftGSwr66rzb9rP9mHwF%2B1/8DNX%2BCHj65urJLwxXWja7psnl3uh6lA4ltNQtZBzHPDKqupB5wVOVZgenDVYU5uM/hkrP/P5NJ/eup0YepCE3GfwyVn/AJ/JpP7%2B56TRXzT%2BxN%2B1z471/wAU337F/wC2LBa6N8cvBtkJLpok8qy8baWp2R69pmcB45MDzoV%2Ba3l3IyqNtfS1Z1qM6FTll/wGujXdP%2BtbpZ1aU6M%2BWX/Aa6NeT/rqgooorIzCiiigAooooAr6ta3l9pdzZafqT2VxNbukF5HGrtA5UhZArAqxU4OCCDjmviD4Lfsm/wDBQD9hXxp4y8efClvA3xeg8bahHfeIIL%2B5l0PUbidDK2%2BJcm0iLGZyxJJJI9K%2B56K9HA5nXwNKpSjGMoVLc0ZK6dndapqSs9dHvqeZj8qoY%2BrTqylKM6d%2BWUXZq6s9GnF3Wmq20Pkfxx%2B398Nbjwzc%2BBv24P2IPHfh61cB7qy13wfHrujXDRkONk6Bo5SpXdkoAMA5r5T%2BJHjH4Q2/xC0jxp/wTb%2BDnxCurzxbr0Mmq%2BBtY8DrL4S1KFyNzeVOrCHeCAGjwqJuIMQUZ%2B7P%2BCj3xY0L4efst674JutHv9U1n4jQS%2BD/AAvo%2BmECa91C/hkhRAzAqgALMS3B246kV41%2BzL/wTv8A23fhz8BfD/w71f8Ab31XwhFaQOsvhjw74btLmPT4pJnmaFLtyHaTdIxMgGFLbV3KoJ%2BvynFZbhcA8XJey5pOKhKdR05pL3nyqMpe7Ky3WtrTufGZxhMzxeYrBxftuWKk5xp041INv3Y87lGPvRu9npe8Gt/DP%2BCsP7BOg/ATwJrfxu%2BFPxO0rwR4U1YWMd78LbK6nih1XUfOUM0EfmeXKVGJdgjUIsBYAYzX2L/wS%2B%2BB37Pvwc/Zd0/VP2dvGd74l0rxTcNqN54hv7cwyXdwo8h1EbIrRIjRMoQgkHcdzZyfD/2Vv%2BCWnxBvv2mfHXxJ/b0uD8RNKsJmtfBE/iXUfty6mryiT7Y8RkPlbI1WPyXG3dI4AwisfvXTtN07R9Pg0nSLCG1tbaJYra2togkcSKMKqqoAVQAAAOBXJxBnF8sp5ZHEOs4tSlNWUWnFWi95Scf5pO99He2nZw5kts1qZpLDKipJxjB3c4tSfNJbQipfyxVraq19ZJYYZgBNErhWDKGXOCOQfrTqKK%2BKPugooooAKKKKACiiigAooooAKKKKACoNV1TTND0y51vWtQgtLOzgee7u7mUJHDEilmd2PCqACSTwAKnr4r%2BP3jfWP%2BCn3xW1P9h74D6xcx/B7w3qQt/2gPiJp0xSLVGQhm8KafMv%2Bskk4F5KhxDETFu3yFa3w9B1pau0Vq32X%2Bb2S6v523oUXWlq7RWrfZf59Eur%2Bduh/wCCZUOpfHbxP8VP%2BCjWu2M0Fv8AGTX7e1%2BHsF1EUePwhpSSW2nTbWG6M3Uj3d4V7rcRnpivrOquhaFovhfRLPw14c0q3sNO060jtbCxtIRHFbwxqESNFXhVVQAAOAABVqliKvt6zmlZbJdktEvuX33FXq%2B2quSVl0XZLRL7l%2BYUUUViYhRRXkX7af7Sdz%2BzX8HW1Twfo66z458S30ehfDnw0py%2Bq61cZWBCO0UfM0rEgLFE5JHFaUaU69VU4LV/193Vvok2NJt2RW/ag/5Lf%2Bzj/wBlmvv/AFCvFFezV8vT/CjxJ8D7X9kv4X%2BM/iDqXivW9L%2BKl6Nb8RateSTzX97J4M8VSzyBpCWWPzXcInRIwiDAUV9Q0qkYxm1F3Se/fz%2BYPRhRRRUCCiiigAooooAKKKKACivF/wBjn4u/HD4lXXxS8HfH698KXes/D/4mN4etr7wfotzYWtxato2lakhaK5urlzIrag8ZcOFcRqwRMkVyX7E/7U/xd%2BNHxC8R%2BCPj34m0TR9dtbnWJdJ%2BH5%2BE%2Bt%2BH9QTTbXVpLSG/jvtRu5IdXgaH7Kzy2kKxq91Hll3qpAOv/bw/5Ihof/ZZvhx/6muiV7NXzx/wUL%2BLnwo8NeD/AAZ8KPEfxO8Paf4p8QfGH4ey6D4avdagi1DUkj8Z6M0jW9uziSYKqsWKKQApJxg19D0AfIV/Jef8Eufinea8LaV/2cvG%2BstcagIYyy/DbWbiT55to%2B5pVzI2Wx8tvM5OFR%2BfriyvbPUrOHUdOu4ri3uIlkgngkDpIjDKsrDgggggjgg1HrWi6P4k0e68PeIdKtr%2BwvrZ7e9sryBZYbiJ1KvG6MCGVlJBBGCDivk5vC/xj/4Jj3cl/wDDLQNZ8f8A7PjStJd%2BE7MPd638PlJJaSxUkvfaauSWt8mWAfMm9Qy16Pu5gtXar%2BE/n0n66S7qXxX8fr%2Bf/BPrqiud%2BFPxb%2BGnxy8Baf8AFD4Q%2BNtO8Q%2BH9Vh8yx1TTLgSRyDuD3VgeGRgGUghgCCK6KuCUZQk4yVmiNgoooqQPJP2uf2Nvhd%2B2B4R0/TfF13qOg%2BJvDd4dQ8DePvDdx9n1jwzf4wLi1mA4BAAkibMcq/K6nAI8c8D/t0/Fj9kjxLY/An/AIKkWFjpAubhbPwr8fNGtTF4W8SknEaX3UaLfMPvRSnyHYOYpMYWvr6s7xb4R8KePvDN94L8deGdP1nR9Ttmt9S0rVbNLi2uomGGjkjkBV1PcEEGuqliEoeyqrmj07r/AAv809H5PU6addKHs6q5o/ivR/mno/J6l21urW%2BtY72yuY5oZow8M0ThldSMhgRwQRyCKkr5Ck/YK/aF/ZCuZPEH/BMj422%2Bm%2BHxIZZ/gX8TZri%2B8Mtk5ZdOulLXejk5YhEMsG5h%2B6AFafhL/gqv8NfBviG0%2BGv7d/wt8Qfs9%2BK7qUQW7%2BOdk3h3UZf%2BnLXYM2co6cStDJzygqng3Nc1B867L4l6x3%2Ba5kU8K5q9B867faXrHf5q6Pqqiq%2Bk6vpOv6Zb63oWp297ZXUSy2t3aTrJFMhGQyOpIZSOQQcGrFcexybBRRRQAUUUUAfLH/BVXTAngr4VeNJpGuYdC%2BNOgzS6JI7LBqO%2BR0CuVIKsucq3QZYEHNfU9eTftp/s5a1%2B1D8Dpvhz4V8W2%2Bh6za6vZ6rouo3dqZoY7q1lEiB1BB2tgqSMkZzhsYPAfCf9ujxx4Y%2BK%2Bj/sxftqfCaXwh461uYw%2BHNZ0FJLzRPERHBe3kGXhOSMpJnbkFmXIFe8qNTMMopQoWlKk6jlG/vcrcZcyWnMlZ3au11VtV8%2B69PLs5qzr3jCsqajK3u8yUo8revK3dcqdk%2Bjvo/piiiivBPoAooooAKKKKACiiigAooooAKKK5v4rfGP4S/AnwdcfEL40/EvQvCehWo/f6t4h1WKzt1OM7d8rKCxxwo5PYGnGMpO0VdjUZSdkrs6Sud%2BK3xc%2BGHwL8Baj8UvjJ4%2B0nwz4d0qEy6hrOtXyW9vCvYFnIBYngKMliQACSBXzPN/wUS%2BNX7T5Oh/8E0P2ZL/AMW2Mx2L8XviVDcaD4RgH/PWASIL3VQCCMW8SoeD5uOa2Phh/wAE09J17x7p3x7/AG7/AIsXvxx8f6bN9o0aPXLFLXw14bl7HTNHQmGN14H2iYyznaG3qa7PqsaOuIly/wB1ay%2B7aP8A28/%2B3Tq%2BrRpa13y%2BS1l92y/7efyONvvGn7T3/BVBT4f%2BESeJPg5%2Bz1dcal48vLd7HxV48tj1i0uBwH0uxkXreSgTyKy%2BWiAs1fV3wc%2BDXwu/Z8%2BGej/Bz4L%2BCLDw54Z0G0FtpWkabFsihQEknuXdmJZnYlnZmZiWJJ6aisq2IdSKhFcsFsv1b6vzfokkZ1a7qRUIrliun6t9X5/ckgooornMAoorzL9pj9rT4SfsseH7O88d3l3qGua1Mbbwr4M0C2N3rGv3XaC0tl%2BZznG5zhEyCzKKunSqVpqEFdvoNJt2R0Pxw%2BOHww/Zy%2BGGq/GD4weKYdI0LSId9zcy5Z5GJwkMSD5pZXYhUjUFmYgAc14r%2Byz8IPid8afiyf28v2p/DE2j65NYSWXws8AXpDN4N0eXG%2BWYdBqV0ApmYcxoFhB4YU34O/syfFr46/EzS/2rP27ra0XVtImNz8PPhRY3QuNL8HEj5bmdx8t9qe04M%2BPLiJIiHRh9MV2znTwlN0qbvN6Sktkv5Yvr/el12Wl3Km1FWW54z%2B1B/wAlv/Zx/wCyzX3/AKhXiivZq8Z/ag/5Lf8As4/9lmvv/UK8UV7NXnkBRRRQAUUUUAFFFFABRRRQB4v8Cf2PNY%2BBPjTxf41tP2sviV4jk8ceK4fEGvWPiG08OiB7tLW3syE%2ByaRA6Rvb2ltEwD5xCGUq7Ozanw//AGWoPCfxoX48%2BNvjf418da9ZaHfaN4d/4So6ZHBoljeXFtcXUNvHp9la7zI9lZgyXBmkC26gONz7/VKKAPGf28P%2BSIaH/wBlm%2BHH/qa6JXs1eM/t4f8AJEND/wCyzfDj/wBTXRK1PDP7YHwa1r406j%2Bzz4ivb/wt4wtLuSPTdI8V2RsjrkKnAudPkY%2BXdxNzgIxcYO5FxWkKVSqm4K9tXbou/wDXzsTKcY2u7XPUqKKKzKPnH4ofsOeIfB3j3UP2gf2E/H9r8OPG2ozfaPEPh66tWm8MeLJO5v7NCDDM3T7Xb7ZRliwkzUvwv/4KCeHLfxnafBD9r/wHdfB34g3T%2BVYWXiC6WTRteccbtM1MAQ3Gcr%2B5cxzAsFMZIzX0TWB8TPhX8NvjP4Nu/h58WvAmleI9Dv023elazYpcQSeh2uCAw6hhgg8gg13RxcKsVDErmttJfEvntJeUvlJF8yekjfor5dX9kD9pr9l3/TP2Efj0Lzw5Dyvwj%2BLFzPqGmRIP%2BWdhqILXlgABhUczx5PKgCr2hf8ABSnwP4H1a38FftrfCzxB8DtdnlEMN54sVbjw9eSHtbazb5tmGOcTGFxnlRQ8DKor4eXtF2Wkl6xev/gPMg5L/DqfSlFVdE1zRPE2k2%2Bv%2BG9YtdQsLuISWt7Y3CywzIejI6kqwPqDirVcLTTsyArP8U%2BFPC3jnw/d%2BEvG3hrT9Y0q/hMV9pmq2aXFvcRnqkkcgKuvsQRWhRTTad0CbTuj5u8Ef8Euv2e/gn8U9N%2BKH7Lninxr8KIbbV0vtY8GeB/E8kXhvWwHy8Nxpc4lto1YZXNusLjOQwNdZ%2B3L4t13w98INL8NaD4pvdBbxh420Xw5d69p8pim062u7tEmlSQf6pjGGQPxtMgIIOK9lrN8XeDvCHxA8N3fg3x74V03W9Iv4/LvtK1exjuba5TIO2SKQFXGQDgg9K6PrNSdaM6rcrd9/v6/O%2B3Y6PrE51Yzqvmt9/8Awfnc%2Bafgh4z%2BJnhj9kL4s%2BJPgM3iDxkmi65rafCJL/UptXub63ihQQRxT3krPcxrciVE8yU5CFd2AAJvAX7X3xL0z4XeGdOj8QaD8TPHHiXxDd6NZ2t9os/gsaZNZWsk17/ayyvetatEY1U7IiSbiHbEVbfXpH7QvhT4FfDD4Ia94v8AFfiTWfAegaVZWkl1q3gvUbixmso7b93bpAlvkBfnEflhCjBgGUgDHwpqn7DPj/8A4KOr4L1P4YeGNQ8A/C3QrrXNUbxX8Sp5dQ1fxtdausRm1JrWCWIJIGijkidnEKg/Kjx/uh7OCwlDGQnXr%2B5SUtZNLfl%2BFarmk9Hyx11bdlqcuLzbBUqvsEuatN3jGz22vNxT5YX3lpd6JO%2Bn1fb/APBVb9luw8M%2BDtZ8aatd6XdeJtJtL/V7SJVuI/DEdxM1ujahKpAiTz0lj3YPELuwVFLD0fxv%2B2r%2ByN8O9Hk13xb%2B0n4Lt4I0LbIfEME80gHXZFEzSSH2VSa%2BPPEn/BEL4UaN4z1T4XfDr4A%2BGJvA3iqXw%2BbrxjqmvTPqWiWdgYhfWSWzIRK12sUmJg42teS5UBEB%2BkPiR%2BwV8M9A8GXF5%2ByL8IvhP4Q8cR3MEuma94o%2BHyarbQBZAzqYkkikUsuVDJIpUnPOMVFSlw6pRtOo7/4F97fM122b0vYwxcczk4rD%2ByjfrJ1JWWlm0ktndW7JO%2BpzVn%2B27%2B0t%2B0Lcvc/sS/sqyal4bjGE8c/EW8fSbK9PY20GPOmj6neMdCCAevSfs5/sm/FDT/i2/wC1V%2B1p8SbbxN8Q5NNlsNJ03RoTHo/hu0kYM0NorgO7nGDK2GIYg7vvHlxef8FtfDQBl0D9l7xbHH1FvqPiHQ5ZB7K0V6oP1bFS2v7R3/BVrSZDbeJP%2BCZngvUwkbsbvw38f4cSMFJCiO602IjJAAy2OecAVVXENUpUsHGnCMlZtSvNrqnKVt%2BqjGKe22jzpcP1J1Y1sViFWlF3S5oxgn0agktunNKTW%2B%2Bq%2BpqK%2BVf%2BG0f%2BChdif%2BJz/wAEePGbKOr6V8XvC1wPwD3kbfpS/wDDe/7YEIxd/wDBIP4xK3cQ%2BLPC8g/ManXk/UcR05f/AAKH/wAkev8AU6/l/wCBR/8Akj6por5W/wCG8f2zLj5dO/4JAfFxm7C58aeFoR%2BZ1I0n/DYv/BR6%2B/5BX/BH3xBCD91tZ%2BNfhqAfj5M0xH5UfUa/Xl/8Dh/8kH1Ov1t/4FH/AOSPqqivlU/Hf/grz4n/AHPh/wD4J6/CzwyTws/in48S3QHuUstJb8gxo/sn/gtn4o/cXvjT9mPwbE/35dO0TxBrs0Y/2TLNZoT9Vo%2BpyXxTgv8At5P8kw%2BqNfFOK/7eT/JM%2BqqK%2BU/%2BGMf%2BChfjP9z8V/8AgrT4htbWT/X2fw1%2BFGi6KQPRJ7tb2Vceu73xQf8Agj7%2Bzd4t5/aG%2BLnxp%2BLY/wCff4h/F7VJbXP/AF6Wcltb4P8Ad8vb7U/YYWPxVb/4Yyf58qD2OGj8VX7ot/nyo9Q%2BOf7fP7E/7NEc3/C9/wBqnwJ4ZuIPv6dqPiS3%2B2k9wtsrGZz7Khryv/h6jb/FEfZf2Mf2L/jJ8W2m4stdTwofDegyn1Ooa0bYFfeOOT2ByM%2Bu/BH9h39jj9mzypPgN%2By74D8KXEQ%2BW/0bwvbQ3Te7XATzXPuzE16nRz4Gn8MHL/E7L7o6/wDkw%2BfBw%2BGDl6uy%2B6Ov4nyafBP/AAV4/aHOfGvxb%2BG/7Pmgz/MdO8C6c/irxCEPBje%2BvkhsoWx/FHbS46g%2BnQ/Cv/glR%2ByR4F8Y2/xW%2BJmi638XPHNtzF43%2BMetyeIL2E5yDBHP/o1pg9Ps8MeOg6CvpGilLG17csLQXaKt973fzkJ4utblhaK/uq33vd/NiKqqoVQAAMADtS0UVyHKFFeceLv2s/gB4U0Hxjq8HxJ0vWbnwJp8134k0bQtQhub22EQG5DGHG1wWVTuKhWdd5XOa868YftT/EXxnrPhn4ReFLCT4ZeLNY8XHR9dPinTINTbTM6bd31sIxBcCGX7SLSREkDsoMcibd5Sumng8RU6WXnp0v67dk%2BncpRbPoyqXiPxJ4d8H6Fd%2BKPFuvWWl6ZYQNNfajqN0kEFvGOrvI5Coo7kkCuQ/Zv%2BLWsfGP4ZDxB4r0a303X9M1jUNF8R6dauWigv7K7ltZTGW58tzEJY8kkxyocnOa8%2B8S/8E/vAHxg%2BK958T/2o/iD4g%2BJtnHqrXXhfwP4hlji8PaHHuzGosIFWO7kUHb51z5pIxwDzRCjSjVlGvLlt2V2/JbL5t2t32BJX1OY1H9tP4wftT3k3gz/gnR4Bh1LS/MaDUPjX4xtJYfDllg7XNhF8s2rzLhgPL2wBgu6Ug4rvv2bv2Kfh/wDAXxBefFfxN4i1Px78TdZgEev/ABJ8VlZL%2BdOpt7dVHl2NqCTtt4QqgY3FyAa9hsrKz02zi07TrSK3t4I1jgggjCJGijAVVHAAAwAOlS1dTF2g6dGPJF79W/8AFL9FaPkwctLLQKKKZc3NtZW8l5eXCRQxIXlllcKqKBkkk8AAd64yTxz9qD/kt/7OP/ZZr7/1CvFFezV4V8ePFXhjxv8AFD9mjxX4M8RWOraXe/GO/ez1HTLtJ4J1/wCEL8UjckiEqwyCMg9q91ptNOzBNMKKKKQBRRRQAUUUUAFFFFABRXM/Cz40/Bz456Jd%2BJvgn8WfDPjHTbDUpNOvtQ8La9b6hBb3kYVpLeSSB3VJVDoWjJDAOpI5FJ4O%2BNvwZ%2BIni/Xfh78P/i54Y13X/C04h8TaHo%2Bv291eaRISwCXUMbs9uxKsAJApyp9DQBwH7eH/ACRDQ/8Ass3w4/8AU10Su5%2BM3wI%2BEH7Qvg%2BTwH8Z/h/p3iDTHbfHDexfPbydpYZFIeGQdpI2Vh2NcN%2B3h/yRDQ/%2ByzfDj/1NdEr2aqhOdOSlF2a6oTSkrNaHzYvwv/bU/ZU/e/Azxp/wuLwXD93wR481MW%2BvWUf9yz1UjZcgdo7tc4UDzq7D4N/tzfAj4t%2BJx8M9Tv8AUPBXjlQPP8B%2BPLE6ZqgJ/wCeSSHZdKcZDwPIpHOa9jrkvjF8Bvgz%2B0F4YPg741fDTSPEungloodUs1doGP8AHFJ9%2BF/9tCrD1rs%2Bs0a/8eOv80bJ/NfC/wDyV%2BZj7OcP4b07Pb5PdfijraK%2BcV/ZW/ac%2BAv7/wDZE/abnvtJi/1Xw/8Ai75urWKr0EdvqCEXtsoHChjOo/u44p4/b11r4TH7D%2B2b%2Bzd4r%2BHKx8SeKtMhOveHmHQObyzUyW4PXE8MeB1PBNL6lKprQkp%2BS0l/4C9fuch%2B2Uf4i5fy%2B9frY%2Bi6q63oeieJdJuNA8R6Pa6hYXcRjurK9t1lhmQ9VdGBVgfQjFY/wz%2BL3wq%2BM/h9fFfwk%2BI%2BieJdNbH%2Bm6HqcV1GpP8ACxjY7W/2TgjuK6KuSUZ05Waaa%2BT/AENU01dHzbrX/BMn4Q%2BF9XuPF/7JnxB8W/A/Wp5DNIPh5qYTSLmXsZ9JuFkspFHosaH/AGqrjxT/AMFRfgQfJ8UfDfwJ8ddFh%2BUaj4Uvz4Z10qOrvaXbSWcrY/hjniz6Dv8ATVFdax9aStWSqL%2B8rv8A8CVpfizTnfXU%2Bb9J/wCCpn7MGl6lD4c/aAt/Fvwc1ed9kdj8V/C8%2BlQue5S9w9m6%2B6znP51734N8deCPiLocfif4feMtK13TZv8AU6ho2oxXUD/SSNmU/gau6rpGla9p02j65plve2lwhS4tbuFZI5VPUMrAhh7GvBvGP/BLr9iPxLrcni/wx8Hh4F19%2BV1/4Z6tdeHLpH/v50%2BSJHbqfnVuTnrRfL6m6lB/KS/Hll%2BLD3H5H0DRXzT/AMMe/thfDjj4Cf8ABR/xXNax/MmkfFfwtYeI43P903MYtboDtkyMfXJrivjH%2B2F/wUM/ZGm8P6f8aPgj8K/iJL4q1YaX4eg%2BHviDVNOv7y5K5/49Li1uVwBgn99gZ6jitaOWyxdVU8NUjOT2V3F9/tJLZNv3rJLcwxNehhKEq1WaUY7vX8rNtt2SSu22ktWepftlftZ/Bf4UadL8DfEfw61H4keKfE%2BjzGy%2BGuhaSb6a/hIKg3CgMIYGbguwJwGKq20ivEf%2BCZ%2BmfE3wx%2B0t4r8NaH8BviF8Mfhy3g9LqfwT4uM0%2Bn2OvtdruOnXEigGEw7jgcklsjCpjN/Zp%2BM3xZ/Z6%2BJPj342ftj/ALF/xlfx7421NPt2t%2BE/BkOt6VpumQKEt7S3awuriYIoG5iUG7CZyV3H2uw/4K0/8E/5LtNM8T/HtfCt452tZ%2BN/Duo6I6N/dP263iXj2JHvXuVFPAYOpgcNRdVTS5pqTlHm0bcYxvG0doyaUnq7pNRPAo5ZjsyxlLMK7cOVtxgox5uXWynK/NeSaco/CtFa6cj6Oorz3wZ%2B1v8AsqfEYIfh/wDtMfD/AFwv91dJ8Y2VwT7YjlJz7V39vc295AtzaXCSxuMpJG4ZWHqCOtfKTp1KbtOLXqmvzSPpGmtx9FFFQIKKKKACiiigAooooAKKqaxr2h%2BHbQ6h4g1q0sYF6z3lysSD8WIFeZeNv28f2JfhyHHjf9rj4b6dIn3refxpZed%2BEYlLn8BWlOjWqu1OLfom/wAkxpN7HrFFfNjf8FZf2L9YJt/hd4m8WeP7o/6u18AfDrWdVMn%2B7JDamI/990h/bh/aM8a/L8Ef%2BCaXxUvx/wA/XjvUNL8MwfXE9zJPj/tju/2a6f7Oxq%2BKHL/iaj/6U1%2BRXJLsfSlFfNW//grP8Sfu2/wR%2BFllP3d9S8Uajbj6AWVuW/76B9qQ/sDfFn4hfvP2kf8AgoN8WfEytxLpXhC5tfCmnyL3Rk06MXDL25uCcdSaPqlKH8StFel5P8El%2BIcqW7PpQSxtI0SyKWUAsoPIz0z%2BVeLfCvxX8QPhd8e/F/wf%2BNHxYvPENjfaNB4p8Ka1rNpaWogthIbW9sgYIooxHA/2RwWBci8%2BZmNdR%2Bz5%2Byp8A/2WNJ1HR/gV8P00VNYuEn1e4k1C4u7m%2BlRSqyTT3MkksrAEjLMetaHiT9nj4JeM/inp3xr8Z/DbTdY8T6NaG20XVdWiNydNQkljbJKWS3ds/NJGquwADMQABEZ4eEpx1cWtHZXvpbq7a3vrsJOKufNFt8EvE3ifxT4S%2BDlx8O9Uv9Os/EfiGSXxxZ7G0vUfCWrrdTyqblCQLlrj7E/l7Tuki342ksPSPAf7HPi7W59Tn/aT8a6brkp8P6RpGj3vhuC4sbpJNOeSSLVmlMhaK9MkgP7s7E8sYzvYV9BdOlFa1MxryVo6fnve9%2Bl%2By0G5s534XfC/wt8IPCEXgzwkb6S3W4mubi71TUZbu6u7iaRpJZ5ppWZ5Hd2ZiScDOAAAAOiorzz41/tY/s4fs6xqPjL8YtE0S6lx9n0qS582/uM9BFaRBp5SfREPUVyxjWxFS0U5SfbV/gZynGKvJ2PQ6jurq2sbaS9vbiOGGJC8ssrhVRQMliTwAB3r53b9qL9qv44D7L%2Byt%2Byjd6Rp0vEfjf4xyPpFoB2eLTo917cKRyN4gB9R1p1t%2BwPc/Fa5j1v9tn46698UZFcSL4VjH9keGoGByoGn2zZuNp43XMkuR1Aro%2BqRpa15qPkvel9ydl85fIx9s5fw4389l%2BOr%2BSLPin/goD4P8R69c/Dz9kTwBqnxj8TW0hium8MSrFomnSf9PerSf6PH3%2BWMyycY2ZrPg/Y4%2BLH7RNxHr37enxXj1rTt4kh%2BFXgl5rLw7CQcgXUhIuNTIIB/elIsg/usGvoLwx4V8MeCdBtvCvgzw5YaRpllGI7PTtMs0gggT%2B6kaAKo9gKv0/rcaOmGjy/3nrL79o/9uq/94PZOf8R38tl/wfn9x4Z8fvDnh7wh8Uv2Z/DHhPQrPTNNsfjBew2Wn6fbJDBbxjwT4owiIgCqo9AAK9zrxn9qD/kt/wCzj/2Wa%2B/9QrxRXs1cTbbuzfYKKKKQBRRRQAUUUUAFFFFAHyr%2Bwt8UvDUPxZ%2BO2nQ/C/4i6FaeIPjLb33ht9b%2BD3iHSbW6sm8O6JYrNHJdWEUYjFxY3KE5AQRhmwjozcR%2Bwp8P/iDpfxh%2BFPhjVvhR4o0PUPhP8M/GOg/ErXtZ8NXVlZ6nqd/rOlzQta3Usaxamty9nd33nW7yrGHHmFJJitfcNFAHzx/wUL034rz%2BD/Bmo%2BHPGnh618LQ/GH4ejXtGvfDE9xqF458Z6N5bW94t7HHbBW2lg9tMWAIBTII2vHKftz/AAy8Y6l4s%2BH8vhf4neF7u7eeHwjqAGi6tp0ZPENtdruguFUf891Rj0396n/bw/5Ihof/AGWb4cf%2BprolezVpSqezeyafRr/hmvkzGvR9tFJScWtmnb/NP0aaPEvBv7fPwK1PX4fAvxYOrfDHxPMdqaB8RrA6aZm6fuLliba4BPAMcrE%2Bgziva4ZobiFbi3lV43UMjo2QwPQgjqKzfGPgjwZ8Q9Bm8K%2BPvCWma3plwMT6dq9jHcwSf7ySAqfyrxaX9gnQ/AEz6l%2Byj8afF3wrn3F10nSr3%2B0dEZz1Ladeb41B/wCmRi9iK2thKuzcH5%2B8vvXvL7mc18wobpVF5e7L7neL%2BTie%2B0EAjBGQeorwEfEP9vr4Qfu/iF8EvDPxR0uLrrHw91T%2BzNSCDqz2F8xjdyOcR3H0Har/AIb/AOChf7Ml9q8Xhb4ieJdR%2BHWuSnA0X4laPNosufRZLgCCTPbZI2e3UUPB12rwXMv7rv8AgtfwGsxwqdqjcH2muX8X7r%2BUix8Sv%2BCf37K3xJ8QN45h%2BHJ8LeKDkp4t8B382iakrn%2BMzWbR%2Baf%2Bugce3Fc6Pgb%2B3p8IRn4K/tZaV4706PiHQPjD4fBnCeg1PThHIW95IJPfNfQOlatpWu6fFq2ianb3lrOm6C5tZlkjkX1VlJBH0qxVRxuJiuWb5kuklzfnqvk0dHsaT96OnmtPy0f3HzuP2xvj/wDDb9z%2B0b%2Bwr41sol4bXfhvdQ%2BJ7JgOshjh8u7jXvgwEj36177oGt2XiXQbLxHpqTrb6haR3Nut1bPDKEdQyh43AZGwRlWAIPBAIq3Ud3DLcWstvBdPA7xsqTxqpaMkYDAMCCR15BHqDWVWpSqW5YKL62bt9zvb72XCM47yv9xwHwU%2BJnxA8c%2BNfiF4X8ZaXoyW/hLxUmmaZfaPJLi4jezgu9sqydJUW4jVip2k5wBjFReA/wBpbw543bW9Tn8D%2BINE0DQ5NQEvi7Wo7VNMuEspniuJUljndkRWjk5lSPhGOMCvIfE/xW8Of8E8dG1e0%2BInx6g8a6/4t8Q3Wrab4aj8MJ/wkGr3c8axxxJHaSKhXfGiiQwooUbM5Az4d4q8D/8ABRv4h6N4s8Q/Cn9gXwh8OtK8WeHIE1fwzceLbdv7WuVujcy3TwQLFieVGaErIFbDvvYkjb7NHKViE6krQpysoylJQTtbmspWb67JpPd9vKq5rRo1PZJuc47xinJq97X5dF82nbWx69r/APwU38c%2BK/i34s%2BGf7Lf7L6ePbPwdBZSav4g1Tx5a%2BH4oxcxh1byr6JXKhiUz3IB6Mha1%2Byf%2BzX%2B0Z8UviDY/tZ/t/6ru8W6LdXC%2BBfBOm3cDaXoMEihTcj7O7pLM4LAFnchApZi20R/N9z%2BzN%2B1DeftM%2BFf24P21Na8OeF9O13VWi8VaDpXhSa%2BhntrWNRb2l5blpAfPWNljd95jZIifn2KPvX9knw14q8D/s1%2BFtF8c6W%2Bn38OnPPJpRj502KSWSWKzCjp5ETxwhe3lYrvzKphMtwap4HkvOKjKUbylezU0pt2s3u4xjeLSv383A4XE5ji3Wxznyxk5QhLljG104Nxjq3HpzylZq9m9vSqhv8AT7DVLR7DU7GG5gkGJIZ4g6MPQg8GvA4v%2BCo37FFpItr4y%2BKGoeE7nOHtvGXhDVNKKH0LXNsifkxrt/Cf7Z37IfjsKPB37UXw%2B1F36Q2vjCyaQexTzNwPsRXzUsFjaavKnJfJ/mk/zPpVXoyekl96IfGf7EP7GfxELv46/ZP%2BG%2BrSP96e%2B8FWMkufUOYtwPuDXA3H/BI3/gna8z3Olfs2WWjSOcl/DWu6jpRz7fY7iLH4V9C6Trei69ai90PV7W9hPSa0uFkU/ipIq1ThjcdSVo1ZL/t6X5X/AEN1OVtGfNv/AA65%2BBmm8eBvjL8bvDCj7qaF8bddRV%2BgluX/AFo/4dy39txo/wDwUC/aSswOg/4WNBc4/wDAqzlz%2BNfSVFV/aOO6zv6qL/OLHzz7nzb/AMMGfGa040j/AIKa/HZAOn22fQrg/m2mDNH/AAxN%2B02nEH/BUT4tAf8ATTQfDzH8/wCzq%2BkqKP7QxXdf%2BAw/%2BQDnl/Vv8j5t/wCGI/2lJeLv/gqF8XWHfydF8PRn8xp1H/DAXxSvRjW/%2BCl/7QMnqLHVdEts/wDfOlnFfSVFH9oYvo1/4DD/AOQDnl/Vv8j5tP8AwTeguv8AkN/t2ftJXoP3h/wtZ7XP/gJDFj8MUf8ADqn9l3VP%2BR88S/FXxVn73/CRfGfxDKG%2BoS8QGvpKij%2B0cd0qNell%2BUUHPPufO%2Bj/APBJv/gnLo92L9v2SvC%2BpTj/AJbeIEm1Nj9TdySZ/GvTfBP7Ln7M3w0ZG%2BHP7O3gXQDH/q20XwlZ2pX6GKJa7usvxH458E%2BD4jP4t8YaVpaAZL6jqEcAx9XYVE8Xja%2BkqkpeV5P8L/oS5ytqzUACgKoAAHAFFeReLv2/v2IPAwYeJf2tPh7DIn37eDxXazyj/tnE7P8ApXMH/gpz%2By3rH7v4ZDxz45m/hh8F/DXWL7d9JBbCM/g9EcDjZq6pyt6NL73ZfiYuvQTs5L7/APhz6Eor57/4bI/aA8W8fCP/AIJ2/Ey8H/Px4z1HS/D8X1xNcyS4/wC2efakOr/8FRPHXz2Hg34M/D22l4I1PVtR8Q3kI9dsMdpCSP8AfI9qr6jVj8cox9ZR/JczF7eD%2BFN%2Bif62PoWqXiDxJ4d8J6XJrnirXrLTLKEZmvNQukhiQe7uQB%2BJrwf/AIZF/aa8ccfGr/goV42lgPJsPh5oGn%2BHYwe480JPcY/7ag%2BhFXNA/wCCaH7G2n6pH4i8Y/CyXxxqyHLat8Rtau9fmdv7xF9LJGD/ALqAUexwcPjq3/wxf5y5V%2BAc9aW0ber/AMri%2BJf%2BClX7H%2Bl6rJ4Z8EfEifx9rScLonw10a51%2Bd2/u7rJHjU/7zqKzz%2B0L%2B3F8Vj5XwP/AGMIfCllL/qfEHxh8TR2hUep06w8%2Bcn2d4/w7e8%2BG/C3hnwdpMeg%2BEPDlhpVjCMRWWm2aQRJ9EQAD8BV%2Bn7fCU/4dK/nJ3/CPKvxYclWXxSt6L9Xdnzsf2RP2jfiv%2B%2B/ab/bY8SS2knzSeF/hbYp4bsRn70bXCtLezJjj/XJn0659C%2BCv7If7NH7PEjXnwf%2BDWi6Rfy5%2B0a0bc3GoTk9TJdzF55M8/ec9T616PXnl/8AG/X9E%2BKWneCPEnwn1DT9H1rWJNK0fxDPqNs32q7W3luP%2BPdGLrEyQS7XJ3EocoowaTxOLrxcE7R7K0V9ytf53IksPQalLdu13d/jrb8D0Osrxh438L%2BAvDV/4u8V6qLaw02MPeypE8rICQAAkYZ2YlgAqgkkgAHNeG/EP4tfErwp8SPFnjUfECeHS/B3iXSLO78JS20H2WbSLyK3SS7DiPzvNEs/mB/M2qsLJs6k%2BXeGPhudSjtfgd8N9ukeOxpN9H4wjNsYlfUtMvFutN1e7CgCQz3AU%2Bfg%2Bcksq5O3Aungk1zTlpp/m7/JrXXc4q2ZuMnCnC71WvV6pW76p6Np2X3fXvgH4i%2BEfiboja/4O1J54Y52guYp7WS3ntplALQzQyqskMgDKSjqGGRkc15v8Tv2rPEWjeOL/wCEvwP/AGePF3jzxNpzIl9Ilr/Zmj2TuiyKJtRugsZOx1bEKynBxjPFanwI8OeO4/H/AI6%2BJHi7wPdeGIvE95p8keiXWpW9yWuLe0FvLdhoHZVEipBGASGK26syqWKj0%2BsH7GjVd1zL16%2Bdt7baNHUvrGIw6tLkd3d21tdrRS2vo9U7dtjwH4w3Hjy68efsw3PxP0zS7PX3%2BL16dUtdEu5J7WKX/hCvFPyxySIjMMY5KjnNe/V4z%2B1B/wAlv/Zx/wCyzX3/AKhXiivZqwbu7nXFcsUr3CiiikMKKKKACiiigAooooAKKKKAPGf28P8AkiGh/wDZZvhx/wCprolTeMrX9tjwR4r1DxH8P9T8G%2BO/D9xdPNb%2BGNYhk0fULOIniCG7j82KXA/iljUnu3rD%2B3h/yRDQ/wDss3w4/wDU10SvZI5YpQTFIrbWKnac4I6j61cJ8j2T9TmxWGWJilzyg1qnF2f5NNeTTR4jD%2B3T4H8Iyrp37Rvw18XfDG63BGuvEmkGfTHf0TULTzYCPd2T6dK9a8G%2BPPA/xE0dPEPgDxjpeuWEn3L3SNQjuYj/AMDjYitSaGK4iaCeJXR1KujrkMD1BB6ivJfGP7DX7M/ivWH8VaX8P/8AhFtdbJXX/A99No14rf3i9oyBz/vhqu9CW6cfxX42f4s4uTOcP8MoVV/eXs5ffHmg/nGJ65VHxH4X8M%2BMdIl0Dxd4dsdVsJxiay1K0SeGQf7SOCp/EV45/wAKQ/a7%2BHHzfCL9q6LxFZx/6nRfij4eS7JHob6zME34sr/j39J%2BEmqfF/VfDEj/ABt8IaJo%2Bsw3jxLH4e1eS8tbmEKpWZWkijePLFhsYEjaDnnAUoci5oyT%2B9P7tzahjJ15%2ByrUJwduqUov/t6La%2BTSv2PMtU/4J1/s222oS678JbPxB8M9Tmbc998NfEdxpKk%2B9ujG2YezREdulQj4P/t5fDj5vhr%2B1Z4e8aWqfLFpnxN8ICOUL6G901oiT/tNC3vmui8aa94hl%2BPuh6R8MfHmsXt19sjHizQ0WKXS7DTlikLSSsY90M7P5YRVk3sTkoUViOG/al/bTvfhB4q8U%2BDNB8X%2BCtObRfBcl/B/wkWoyWtxd3pjuCsVtIVaB5E8pP3L4ZmkQcA13UHjcTUjTXvt2%2BJX6pdU317nmYivlWDpzqSTpqMuW8HZN2b0s1Ho7prR6O7dip8Rv27fjF%2BzDpK63%2B1t%2BzLa6bpana2veDfH%2Bn3kczf9M7a9a0nP%2B6oc/jxXhniT/goV4r/am8bHRrr483P7OPw3eJW03WNY0CZdY8SRvyskV1JH9ltIyOQySlwe7hvl1/2Bfhb%2BzJ8QvCnhz4//ALRPw61fxV4y8T6Fc61N8QPiNdRX1pM9o4F1HDE8pFukDH5C8S5VCyMQvH2n4E%2BIvw7%2BL2jXf/CKTteWttItveWt9pU1sy7kV1BiuI0YoyMrK2CrA5BIr1q1XLcpqyhSpc9SLac2lypp2vCEudN3Ts5/KKZ5mElj87pQlLEqNOWsYXfPJWTtOcVTdrNO0N/55I8j/Y%2B/Z8/Yq%2BH15P47%2BBvjfS/Hvie/BbUPHWo%2BJ4da1W6yMEm4DHYCOCECg4Gc4r6Cryfx1%2Bwp%2Bxz8SLg33iv9m3wi92W3G/sdHjs7kn1863CSZ991c7/w7%2B8DaB8vwn%2BPnxe8FRL/AKq00T4iXVzbIf8Arjf/AGhMfhXj4ivTxtV1KtWTk%2Bslf5e69F2SSS7H0GGo4jAUlSpUIcq6Qly/O0k7vu3Jt9We9UV4MPgD%2B2x4Z58F/t4LqcUf%2BqtPGvw3sbrcPRprN7Z/xwTR9v8A%2BCmPhz57nw58FPFcSdVs9S1XR5pB7CSO5QH/AIFisPq0X8NSL%2BbX5r9To%2Buzj8dGa9Epf%2Bky/Q93lijmjaGaNXRhhlYZBHoRXEeLP2Yv2a/HpY%2BOf2e/A%2Bsl/vnVfCdncE/jJGa8/wD%2BGiv2zNF58Vf8E%2B765jX/AFk3hb4k6XefiEuPszn6Yo/4bm1DTvk8WfsW/HPTWX/WND4Ij1BB9DZXExI/Crhh8XB3pv8A8Bkv0khPMME1791/ihJfnBhq3/BMD9gHVrk3v/DLXhmxmPSXRIpdPYfQ2rx4/Cqv/Dsr9mXTufBmp/Ebw2R0Og/FrXodv0DXbAfgKt/8PH/2Z7D5PF6%2BOfDr949e%2BGGtwbfqRaMo/E1Ja/8ABS/9hG6mFvL%2B0t4ftJD/AMs9T860YfUTRqRXRz52lvN/e/8A5Iy%2Bt5Nf44L5pfnylAf8E%2BrS140X9s79oKyA%2B6B8UJbnH/gVFL%2BtH/DD/wATrH/kB/8ABRD44Regvr/R7rH/AH3pwrr9N/bn/Yt1cD7D%2B1n8OCT0WTxpZRsfweUGtuy/af8A2atSAOnftDeBp89PJ8W2bZ/KWoeIzNfEn84L9aZtGpl0vhnH5TX/AMmebf8ADI/7T9vxp3/BSf4iqB0%2B0%2BFvD8387EUn/DLP7Yy8Rf8ABTLxgB/t/Dvw43/tnXrkHxt%2BDF0M2vxd8MSD/pnr9sf5PVhfit8LnGV%2BJOgH6axB/wDFVH1vGLeK/wDAI/8AyBoo4V7S/wDJv/tjxv8A4ZW/bBk4uP8Agpj4zI/6Z/D/AMOp/Kzpf%2BGP/wBpC641T/gpH8TnB6/ZNB0GD%2BVgcV7E/wAWvhXEMyfEzw%2Bo9W1mAf8As9VLn47/AAPswTefGXwpEB1MniK2X%2Bb0LFY17RX/AIBH/wCQBrCreX/k3/2x5P8A8MK%2BOLz5tb/4KDfHmc91tdf0u1U/9%2BtOBH50f8O8fDV5x4g/aw%2BPupqfvRz/ABbvYUb6rbeUK9Evv2rv2W9LBOpftJ%2BALcDr5/jGxTH5y1hap%2B31%2BxFpAJu/2s/h62OotvFlrMf/ACG7Var5pL4U/lBfpTMpVcth8VSPzmv/AJM5j/h19%2Bx/ffP4r8N%2BLfEEh%2B8/iD4l67dbvqrXmw/981qeHP8Agmv%2BwN4XlE2nfsj%2BBZ3Bzv1TQY75ifUm4D5NV3/4KafsMFzHYftAWGosDjbo%2Bl3t6fwEEL5pv/DxP4Halx4I8C/FHxMT93%2BwvhRrL7voZLZBVuWdNWbml6tfrEyWLydPScH6Wf5KR6n4R%2BCvwb8AFT4D%2BEvhnRCn3DpGg29tt%2BnloMV01eDH9tTx1rH7rwR%2Bwn8Z7%2BQ/cbVNGsNLiP1a6vFYfitH/C8P27td/deHv2F9L0jf9248VfFS0XZ7tHZQXGfoGrmlhsTJ3m185L/5Js1WYYRK0FJ%2BkJv/ANtSPeaK8G/s3/gph4l/dXfij4LeE4n6vY6ZqmsTxj2MklshP1Wk/wCGXv2pPFH7r4k/8FA/FXkN9%2B38E%2BEdL0fH%2B7I8dxKP%2B%2BzU/V6a%2BKrFel3%2BS/Uf1yrL4KE368sfzlf8D3quE%2BIn7UP7N3wkEg%2BJnx48I6HJHndbaj4gt45ifQRl97H2AJrgP%2BHc/wAAtc%2Bf4seJPiB4%2Bf8A6nP4h6lcx/8AfmOWOHHtsx7V3fw7/ZT/AGZvhKY5Phr8AfB%2BizR423Vh4et0nyO5l2b2PuSaOXBx3lKXokvzb/IOfMp7QjH1k5P7opL8Tgz/AMFE/gx4j%2BT4K%2BAfiL8R26CTwZ4EvHt89s3NysMGP9rzMe9H/C2/2%2BviF%2B7%2BH/7KfhjwVbtzHqXxH8aC4k2%2BptNNSTB9jMvocV73RR7ahH4Ka/7ebf4e6g%2BrYup/ErP0ilH8XzM4b4I%2BFvj74es9Quvj78WdF8S3t7LG9nbaB4ZOnW2mqA2%2BNC00skwYkHc5BG3pzWV8TvhX8X/GPxu8N%2BOvCvjLw5pui%2BH9LuEjj1LRp7y6F3PIiyyxhZ4o1P2dDGrtv2%2BbIdhyK7Dxz8VPhj8MbP8AtD4kfEXQ9Ag27hLrOrQ2qkexkYZry%2Bf9v34FaxK1n8ItN8W/EW5RirReBPCd1eRA%2B9yypbge5kxSg68pupGO/lp28l%2BJhicTleFgqFesk007Od5uzvsuab/8BO71j4C/DfxZrGl%2BJ/HejDW9X0iXzLTVLzEchxIJUV1gCJKiOqsqurBSoPXmuzrw8/E39uT4h/J4B/Zz8N%2BCLVuU1H4h%2BJvtU5U9/senhsN7NOvvikP7LPxn8f8A7z49ftf%2BK76FuW0XwLbReHrPB6ozxb7mRe3Mwz%2BlKUG0vaTWnz/BafiZwx7k39Uw05X6tKmn6udpP/wBnofxS%2BPvwT%2BCdn9t%2BLPxT0PQAV3Rw6jqKJNL/wBc4s75D7KpNedf8NfeNviN%2B4/Zo/Zl8WeKIn/1XiHxJF/YGklT0kWS7Xz5l9o4Tn19Ow%2BF37J37OXwZvP7W%2BHnwh0e01ItufWbmA3V%2B7dy11OXmJ%2Br16HU81COyb9dPwX%2BZfsc4xH8SrGku0FzS/8AA56L5QPBPjRJ43l%2BIP7McnxItdLg11vi/enU4tEmkktEl/4QrxTkRNKquy4xywBr3uvGf2oP%2BS3/ALOP/ZZr7/1CvFFezVk3d3PUhHkgo3bt1e79dtfkFFFFIoKKKKACiiigAooooA%2BXfgN%2B2N8bfiB8YvC0njbTPCy%2BA/iZrXi7TPBVnpem3MWq6XJot3LFDJeXD3LxXS3dvbXMxWOGA27eXHmfJkF34V/tT/F3Xf20vFfwN%2BLHibRPDOi2/ie503wBoF/8J9btLnxPbRaXb3ZuLXXp7safdyK7XZa3ggaQR2rkgBGcdF4O/YM8DeAviTN8RvC/xd8bwC2utZuvCmhPPp0th4Wn1a9W81KWxR7IuzTyhx/pLziFJpY4BCr4rfvv2WoPEXxy0X41%2BPfjf418RQ%2BFtaudX8I%2BDtSOmR6Tot9NZ3Fk08X2ayiupittd3UaC5uJlUTsQNyoygHGf8FC/i58KPDXg/wZ8KPEfxO8Paf4p8QfGH4ey6D4avdagi1DUkj8Z6M0jW9uziSYKqsWKKQApJxg12vi/wDZD%2BFPiHxLe%2BOvC9/4h8H%2BINQnaa%2B1rwfr81lJcSHktJHloZST13xnPesv9vD/AJIhof8A2Wb4cf8Aqa6JXTeIvit8T/B%2Bu3cWs/APVdR0aOdhaar4a1CG7lePPys9sxjkU46hd/41lWr06CTne3km/vsnb7jzcypZdVpRWMp80U9HyyfK7b3j70dOqa7XOc/4Qv8AbQ%2BH3PhL4veGPHdmvSz8ZaO2n3YUfwi6ssoze7Q/X1o/4ah8feDv3fxq/Za8Z6Mq/f1Lw2keu2Sr3YtanzlH%2B9CPeui0T9qP4HaverpF/wCNo9E1A8Np3iW2k06ZT6YuFQE/Qmu9tLy01C2S8sLqOeGQZjlhcMrD1BHBpUsRQrq9Oal6NP8A4K%2BaRwUMLCor5fjZadHKNWK9VP31/wCBo4DwN%2B1h%2Bzf8Rrr%2BzvCvxj0R73dtOm3119juwfQwXASTP/AarftK/tZ/B/8AZY8MW%2Bt/EPVZ7nUdTkEPh/wzo8P2jUtYnJAWK3gBy2SQNxwoJAJyQDw//BTvwbr%2Btfsb%2BNfEXw88E6bqnifTNPinsZLrQLe/mjgW4jNyYlmjfDCDzWBAyMZGDgjzn9lH/gnL%2Bxpqnw88NfH74A/EzxlPql7YmbT/AB7a6%2BBencCkkfltGYotrB42j8sFSGVicV7uEweEjg/ruJbcOZxUY7tpJ%2B9LaCd9HZydnyrS648Tj%2BJKeKlgqMKc58qkpXcNHLldoS5lJq38yim48zszKtPgV%2B1h%2B1B40k1HS/hNdfs6%2BDNd1J7zxfe6V41mOv67G3LD7PAfs9vJIcBnkTzFAPzMpZH7vwb/AMEi/wBkvwZ41s/EUPhtdT0%2B0uhdHS9csoLtriYKR%2B9uJEMkkZYlzGxOW287Rtr0P/hWH7YPhD5/Bn7S%2BjeI4k4jsvHHhBA2PQ3FjJESfcxn8aP%2BFo/tgeFP3Xi/9mHSPECJzJe%2BCvGkYJHqIL6OE/hvJoq53jZQ9nQfsofywbV/OTbcpPzb06JHHSwGVUnzY/C1ZTvfmlBTSe%2BiouUIq%2BrSpq71k2zj9W/ZR%2BKT/Cm68G6ne6Vfx6D4dbSvDWn6XKY5NTie5Ely87ShEhlngXyNqkopkdt2CAvqHwb8N%2BLJfGPi74s%2BMtBudHn8S3VpDp%2Bi3k8Uk1pZ2sJRPNMLvH5jyyTvhHYBWQbjiuf/AOGz/Bmi/wDJS/hL8R/CSr/rLjWPBVxNAp/662YmQ/XNbPhb9sD9lzxlIINC%2BPXhczE4FteatHazZ9PLmKPn2xXnSrznFpnoYOtw5SxEXTxCUltGUlF6JpaTUJaJtJWttu1cq/Eb4%2BfFX4c%2BMrzSx%2Byb4x8ReH4fL%2ByeIfC1/p9y1xmNWf8A0WS4jlTaxZehztyOtYf/AA378EdH%2BX4k%2BGPH/gxv%2Bpo%2BHmpQoP8AtpHDJHj33Y969m03VdL1m1W/0fUre7gf7s1tMsiH6FSRVikp0rWcPub/AOCetLD5i5OdHE6PVKUIyXonGUXbtv6s8u8Lftt/sg%2BMmEeg/tKeDGkY4WC61%2BC3lJ9NkzK2fwr0LQvFPhjxRB9q8NeI7DUYsZ8yxvEmXH1QkVS8U/DD4a%2BOAy%2BNfh5oesBhhhqmkw3Gfr5imvPdd/YE/Yw8QT/arr9m3wray5yJdJ04WLA%2BoNsUI/Cn/s77r7n/AJE3zyHSlP51IP8AKaPXqK8SH7AXwN0znwP4l%2BIXhg9v%2BEf%2BJerxAfQPcOB9MYo/4Y68U6d8/hf9tH4x2bD7q3mv2d8g%2BoubR2P/AH1RyUXtP70/0bD61m0fiwqf%2BGrH/wBujFnttRXdlZ38Rt760imjPVJYww/I14v/AMM/ftZ2Hy6N%2B3rqzoPurrHw%2B0m4x9TGkRP50f8ACsf28tM5sP2rfBWp46DU/hg8WfqYb/8ApR7KHSa/H/IP7RxS%2BLCVPl7N/lUR6TqXwc%2BEWsknV/hX4buiev2nQ7d8/wDfSGsS9/ZR/Zb1Ik6j%2BzZ4AuCevneDrF8/nFXI/wBl/wDBRm0%2BWLxp8F74Do03h3VoGP8A3zduP0o8/wD4KOQ/8wv4JXH/AG/6xDn/AMhPWi9rHaqv/AmYyxtCXx4Sp/4Ki/8A25m5P%2BxB%2BxhcndN%2ByR8MyT1I8C6eD%2BkNV2/YM/Ylc5P7JPw5/DwdZj%2BUdZf9t/8ABReH/WfDj4NTf9cvF2qr/wChWNH/AAlP/BQxeD8G/hO3uvjjUB/Owq%2BfFL/l9/5O/wDMzeIy574Of/gg1Y/2D/2Jozlf2Sfhwf8Ae8GWR/nHVu2/Yp/Y3szutf2TPhpGR/EvgTTwfz8muf8A%2BEn/AOChz8L8H/hKnu/jfUT/ACsKP7W/4KMzfc8B/BaD/rp4p1Zz%2BlkP50OeKe9b/wAnf%2BYLEZetsHP/AMEI7Sx/Zh/Zq0sg6b%2Bzz4Gt8dPI8JWaY/KKt3TPhj8NtEIOjfD3Q7QjobXSYY8f98qK8u3f8FHZv%2BWPwStv%2B2usT4/8dSj%2Bwf8Agonf/Lc/Ez4PaeD/ABWfhHU52H/fy9UH8qhqpL4qi/8AAmzWONox%2BDCVP/BcV/7ej2xI0iQRxoFUDAVRgClrxL/hUf7c2ofNf/tj%2BGrDPVNL%2BFaNj6NNet/Kj/hnD9pnU/k8S/t7eKjGeqaN4P0az/JjbyMPzNZ%2Byh1mvx/yNf7Qxb%2BHCVPm6a/ObPbaK8SP7Ftxe8%2BJP2u/jVqBb7yr42SyU/QWcERA/GqcP7Cn7JGsavNofid9c8T6nbxrJdW2v/EbVLyZEbozxNdYAPqV5o5KC3n9y/zZLxeauyWHjG/81WP/ALbBnrvib4m/DfwUrN4y%2BIOh6SF%2B8dT1aGDH13sK88179vv9jTw9c/Yrj9ovw1ez5wINEvDqLk%2BgW1EhJ9hVb4Xfsu/sEXsM178Lfgt8N9WFlcGGe6tdMtL9oZQASpkYOVbB9c16zoPhXwv4Vtvsfhfw3YabDjHlWFmkK/kgAo/2dd39y/zFTnnOIgpQlRSfVc9T8bxizyD/AIbq8E6zz8N/gf8AFfxajf6u40f4e3UELf8AbW9ECD8TR/wvL9sPxR8vgj9isaXFJ/qr3xt49s7baPVobRbl/wAMg17dWb4i8Y%2BEPCFv9r8WeKtN0uLGfN1G%2BjgXH1cgUe0pLaH3tv8AyHPC47l5q%2BLcV/djTgvvlzv8TyL/AIRD/goH4xGzXvjN8OPBUR5x4Y8K3Oqzj28y8mjT8fK/A0f8MZap4o/efGL9qv4o%2BJy//HxZW2vpo1nKPTydOjhOPYua29b/AG3f2UtEu/7PHxt0jUrntbeHzJqcjH0C2iyE1S/4a1v9f/d/DP8AZn%2BJmvM/%2BouZ/D66XbP7%2BbfSRHHuFNHt6i%2BGy9Ev%2BCzypVeGnLlqYh1n29pOr/5LTuvwNDwP%2BxR%2Byh8O7z%2B1PDXwG8PNfbt39papZ/b7rd6%2BfdGSTPvur0%2BGGG3iWC3iVERQqIi4CgdAAOleQf8ACXftweLf%2BQD8HPA3hCL/AJ6eJvE82pTY9fKs4kTPt5v40n/CiP2jPFv/ACUn9rvVLWB%2BZLDwN4dtdMC%2BwnmE8uPcEVnKc5u8m36nZh8XRoQ5MBgp28oRpR%2B%2Bbi//ACVs9c1DUtO0izk1HVb%2BG1t4lzLPcShEQepYkAV5j4h/bU/Zs0TUW0LS/iPF4i1McLpXhC0m1adm/u4tFkCn/eIqjY/sX/szx6zC/jnR7nxhrBUyJN448QXGqSyAdWEVxI0ePogFd38PtZ%2BFEM1z4K%2BG0Om2f9nsRLp%2BnWAto12sUYoAqq4DDaSmQDwSDWTqQUkm1dmjrZ1Vkot0qN9FdupL0svZwvb1OD/4Xp%2B0X46Gz4TfsrX9hBJxHq3xE1iLTEQ%2BptofOnI9iqH%2BVB%2BC37TXxA%2Bf4sftNNotrJ/rNH%2BG%2BjpZY9vtlyZZj9VCf4eq6/4m8N%2BFbI6l4o8QWOm2w63F/dpCg/4E5ArhLn9qz4UXc72PgP8AtjxfdI2Gg8J6NNeKPrKAIQPcvWVXFYag7VJpPtfX7tX%2BBhXwuEpu2YYuU2/s8ygn6QpWk/vkch8cPC1n4K%2BI/wCzL4U0/UL%2B7hsfjBexpc6pfPc3En/FFeKDuklkJZ2OepNe8V4X8e9Wvdd%2BKH7NGsajoF1pc9x8Yb55NPvWQywH/hCvFHytsZlz9Ca90reMlKKa6nv0lTjSiqatGytvtbTfXbvr3CiiimaBRRRQAUUUUAFFFFABRRRQB4z%2B3h/yRDQ/%2ByzfDj/1NdEr1Ky8b%2BDtR1WbQrHxTp8t9bymKezS7TzUcHBBTOf0ry39vD/kiGh/9lm%2BHH/qa6JXpviX4d%2BBPGAP/CUeENOvmI/1txaKXH0fG4fga4sb/aKgng%2BRu%2BqnzJNeThdp36tNeRMuboXdb8PaB4msm0zxHodnqFs33re%2BtklQ/VWBFcFf/srfBe2ll1bwrp194TueWe88LaxPp%2B0dyUjYR4%2Bq1mfFaz%2BFPwA8Ox%2BKdR%2BK3iLwrbzXIttPsrC8mvjd3BVmWGG0ZZWmchWOyNc4UngA4%2BdfEHiP9vH9vPwve/C74eeFtQ8H/DPVWWPVfG3jOyXSNX1Wyz%2B8t7a2iMhRZV481k2srHpypxwNDF5jiOXH4NQjFXlUU6c0lrqlenWbbTUVGDblaN1q14eaV8DFqNSh7Wr9mKV3f/EkuRd25RstbPS9W11X9r/9tnU/Fnwy/Za%2BP17p3wjs5ZtHvfiL4ktrea81iULtni09ooUYxjJQzluQcqwPyn6A%2BD3hf41fsy/DHRfhB4W%2BAnh/VNC0GyW3sz4Z8SeRKVGS0jx3cahpHYs7HzOWYnvXQfDltS%2BB3gXS/htov7PF1puhaJZpa2EHhq/hu0RFHXaxSQknLMxBZiSSSSTW5H8fvhrC4g1%2B/vdFmJwYtb0ue2x/wJ02/rUY/irIKlOOGo15YWlF6RqKVNt7c03WhaUmtvftFPliktXz4HJo4e1apXmqzVm7txSbvyxjNStFPbW7teTb0WR/w07oWk8ePvhf438OBeJLi%2B8NSXECn/rra%2BauPfitXw5%2B0j8BPFbiHRfi5oLTE4FvcagkEufTy5SrfpXSaL4y8I%2BJAD4e8U6dfZ6fY71JP/QSaZ4j8CeCPGEZi8W%2BDtK1RSMFdR0%2BOcY/4GprSjPEVqanQrQqR72Vv/AoSaPUVPNIL3KsJr%2B9Fr8YS/Q0bW7tb2BbqyuY5onGVkicMp%2BhHWsrxT8Ovh944jMPjXwJo2sIRgrqmlxXAI9MSKa5G6/ZK%2BALzteaT4FOjzscifQNSuLBlPqBBIo/MVH/AMM867pX7zwf%2B0R49sGX7kd7qcOoRD/gNzE7H/vqtfa46PxUk/8ADJflJL8yak8dKHLWw8ZrynFr7pxRR1L9hj9lC/u2v7T4NWGlXDf8t/D1zPprD6G1kjxUH/DH1jpn/Il/tEfFbQ1X/VQQeM3u4k9gl4kwx7Vq/wDCEftQ6N8%2BkfHXQdXx0i13wf5efq9tOn6KKP7a/a20j573wH4F1pR207XrqzdvwlgcD/vo0fXGvjpTXyv/AOkyf5HlvAZMneWAlB94wt%2BNGpH8jK/4Ul%2B1HpPy%2BG/2zbqeNfuReIvAthdceheDyGP1zR/Zn7eekfu7bxZ8KdbRej3mj6jYSN9THNMo/Ba1f%2BFwfGvTvm8Qfst6xsH3n0fxFYXf5K0kbH8qX/hpW3tv%2BQ18DviPYgfeZ/CjTqv427yCj%2B0MKvibXrGS/wDbReyymHw161P/ALfrL/0uE0ZP/CfftsaL8uqfs6eDNZx1fRfiBJBn6C4sx%2BpFH/C/P2itP%2BbX/wBifxEEHV9J8WaVdfkDNGx/IVrf8Nb/AANg%2BXV9c1XTX7pqfhi/gx9S0GP1qzY/tXfs3agdsPxp8PofS5v1hx9fMximswwDdvax/wDAkvzaGp4a9qeZteUpUX/6VCLMD/hrLV7X5dY/ZN%2BLlsR94xeG7a5X8DBcuT%2BVL/w2d4Jt/wDkNfCD4p6cO5vPhtqOB%2BKRsD%2BFdvY/G74Mang6d8XfDFxnp5Ov27fyeta08Z%2BD7/BsfFemzZ6eVfRtn8jW8a9CfwzT9Gn%2BTOqEMfP%2BHj4y/wC4dJ/%2Bk1EeZf8ADdP7OsPGp6t4lsW7reeAdYTH4/ZSKP8AhvT9lBf9f8U2h/6%2BdAv4v/Q4BXrsU8M674JlceqMDTq1NvYZ70xFN/8AcJ/pVPH/APhvr9j4ff8AjrpSf9dYZ1/nGKUft8/scH/m4LQPxlcf%2By16/SFVPUA/WgPY5/8A8/qX/guf/wAtPIT%2B31%2BxwOn7QOgn2WSQ/wAlo/4b4/ZCP%2Br%2BN2nSf9crS4f/ANBjNevgAdBRQHsc/wD%2Bf1L/AMFz/wDlp5B/w3n%2Bys3%2Bo%2BJF1P8A9e3hjUpf/QLc0f8ADcnwGn/5BC%2BL9QPYWXw91ds/99Wwr1%2Bori%2BsrQZuryKIeskgX%2BdDaW4OhnttcTTXpSf61Tm/hZ8WtG%2BLenXWqaJ4Y8R6bFazCMjxH4euNPaXIzujWdVLr7jjPFcR8crK98L/ABK8NfEPSNSkhiGt2kGseX4mujPIsjeSsEVgSbdlbeC7Da/ykgE816TefEDwHp%2Bft/jbSIMdfO1KJcfm1cnq/wAQ/wBlSDxLH401vxr4A/tqBAkOqT6hZG7RRnCrITvAGTwD3PrWMsRh4fFNL1aX6meNjGrgo0qteHOmnzNqGzvdJSfpa9nrdq55p%2B0JfeHj441jXdTubaXWZNJ05/hrdROrSyzx3X7%2BCzfqZnYhXVDuZHIOVBxBN4TvNS8eXvgbT9FurbxZP4h11rvUxZSKH027tHKSmfG0x7zGiLuyrRgAALkemP8AtX/sy6Wq2dr8WNFYIMJDp5abA9hEp/Sk/wCGsPhHdfLoEXiXV27Lpng7UJM/QmEA/nWLzHAf8/Y/Jp/lc8arhcpq4iVSeLhq7tKzeu%2BqbfN0jK11HTUxvgNp/iO78fQa3ceFNT0iHTfAVjousx6hpslskuoQSt/qdygTIq7x5iZUhkwfTqvin8KPG3xF1a2m0T4%2BeJvCmnxW3l3Fh4dt7MNO%2B4nzPOmgkdTggYHHGcZzWd/w0XqF58uhfs8/Ea7Y/dM2hR2qn6m4mQj8qT/haP7Qmof8gf8AZhkgVvuyaz4wtIce5WESn8KX1/DP4W36Rk//AG1Ho0f7Mjgvq0pTqJu75Y1Ffb%2BRRstFdKVnq3vZZX/DFvgHVPl8efFL4k%2BJ0P3odZ8fXqxH/gFs0Sj8AK0fD37Fv7KXhif7Xp/wE8Nzz5z9o1SwF7Jn133G9s%2B%2Bc1J9o/a91T5otN%2BHmjI3QTXN7fSL%2BCrCpP40f8K1/aM1X5tc/aShslb78OgeELePA9A9w8p/HAo%2Btzl8FGb%2BSj/6VL9CIYHKVLmp5e5PvKEb/fVnNnf6J4d8P%2BGrQWHhzQrPT4B0hsrVIkH4KAKt7l3bNw3EZAzzivNf%2BGabLUf%2BRv8AjL8QNZVv9ZDN4me2if22WqxDFb/w/wDgb8K/hdqU2teB/CSWl7cweTcXslzLPNJHuDbWkldmIyAevarhUxc5rmpqK85Xf3JW/E9ihUxrko%2BxjCH%2BNNpeSjG34opfGvxB8QPCOlR%2BJvCF40kNuR52nw6IbkyEZZmlkD5iiCA5KoWzjBOQtQfFHw/r/iu40TxX4bv7W60u2t5pLy0ufEdzYW0ysEaOUmAES4K8B8LhjzVz4rS6bqeoaR4O1G%2B1eKHUp2juxpd4IQYmxGBKcFirMwXCkHJ64rM8dado9m1zpEHg3R73TNE06HUbmw1ayNwHVd0YEW9tsW1I2OdpyRjAzmvGx2Y4Wk6/NJtRcU0rtqVnPbtypuW%2Bias3oYYjD1atSqm/dfLbV6SWulk7LuuvY42%2B1i11/WY/HKeHLuLWfEB0TU/Csj2bvKm5fKmtvMA%2BVY13NIpIBEhbB3V0vgbwT4v0jxb4e0O50C6ht/CsupodZaWMwXllOx8iJQG3l/8AUlsrgGE8ncK0o/EPilL%2Ba9sdaIifV5NKt9N8iNYoAYg0DqAu7cMhmySCCcAAU74V6gv9qWNvpmoTTQ6h4dS81KCe7eZ7e8DIrbi5JUtucEcDMR4rzcNmmGqY%2BFLlleUt/dV/ednZXveUW3qpQja6avbGjlsY1VOU23dPRJX1vrvvJXvulZbHUeJvh74E8a3lnqHjDwdpmqzadvNi%2Bo2STeQX27iu8HBO1efYVqQw2mn2ohgijghiXCoihVRR7DgCsXxhoXiHxFPb2WgfEGfRVRWN3HZ2sMkswONpDSA%2BXjnkA5yOmOchPgL4Hu3E3i261bxDIDkNrmqyzKP%2B2YKx/wDjte3XxWYrEzhg8KpdHOVSEYt2XSKnUdttVH7rM9b2ahUcowSb3eiv66XfzOL/AGmLi3u/jR%2Bzfc2s6Sxv8Zb4pJGwZWH/AAhXijoR1r2mvEv2jtM03RvjB%2BzbpekWENrbQfGS%2BWG3t4giIP8AhCvFHAUcCvba9en7T2a9pbmsr2va/W19bX2vr3NlcKKKKsAooooAKKKKACiiigDmPDnxt%2BDHjH4g6z8JPCPxd8Mar4r8OIr%2BIfDOm6/bT6hpatja1xbI5kgB3LguozketFr8bfgzffFO5%2BBdl8XPDE3jezsBe3ng6LX7dtVgtSFIne0D%2BcsZDp85Xb8y88ivjj9njw94z8F/GrwHofiD4QeNdO1L4Y%2BJ/iTf%2BP8AxMfA%2Bota6lbaxrEkloLW5SArqRvXntb1ktzKYRaN54ieMLV3wd8P/iDF%2B1J4e%2BG8vwo8UQ69oP7TviTx7rXjOXw1dJpU3h280LU7e2kTUzH9mnkK3thp/wBlWQzJ9mZjGI4VegD3v9vD/kiGh/8AZZvhx/6muiV6xZaBbWGqzatBe3hM4O%2BCS6ZogSQdwUnCnjt6147%2B2z8H/wBp/wCMPhXRdM%2BAPinwEttpPjDw3r2oeHPGGm3sL6q2l69Y6mY49UtpZBYhktCuTY3W5iB8gbcvyT8N/gt/wVU/aQ0HUvFN58Yki0NfF2vaJd6ZZ/Hy806YvpmrXemzhJYfCzlY2ltJCh6mNl3BSSoqGWZZmFWFTFzUXTfNFuM5NOzTa5GumlpXTvt1XLicXjMNG2HpOpzaO0oxt6836bHu/wC2V8RvA/iP9pX4f/DDwV4wuNY8daJdTXUvg/SNIF8I7aSFt73TEhbblYWUlg4IVsbWJr6K8Zy6bPp9s099Zp9n3TCyuiR5%2B1Su1eVOQehweQOOa%2BeP2dfgb%2B1D%2By1oN5o3wm/Y6%2BDsM%2BqXHn6zrOo/tBazc3%2Boy/35p38Llnxk4XhQSSACxJ9Ffxp/wUHkAEn7LfwXYA5G7476scH/AMJavAz/AIbwOOliVhKkmq0Ixbqaq8Zc14qNnGPNZqDlOOlnpKSNcrq4yj%2B8xKipN3tDZaWSbfxO28ko%2BS0Tff3Go3xmaWyuprdbR7WGCz3Ah2cBmV85JO1gOvGM1Z07Xr/UL62N0IXs9RacQQeUdyomcOWJwQwHTH8Qry%2BTxB%2B3vLqK6tJ%2Byj8FjcoMLKfjvq2RwR/0K/XBPPvUGm6r%2B35pd0buH9mP4PuQrLCknx71YrCrHJVB/wAItwCQPXoBXg0cj4iw%2BPjKNe9Nzu7SaXKmrNxaa1hen7OFoJ8sneyt6sq%2BGlTacdbdv19dbvXdHqetfCD4W%2BIWMmr/AA/0mVz1mWyRJP8AvpQG/Ws3/hRPhay/5FnxF4j0Ydk03xBPs/74kZ1/DFeMTfHL9uzxl8Zdb%2BB1t%2BzR8M7HVfDHhjSddury1%2BP2qRwSwalcalbwop/4RglnVtKnLBlAAkjwWJYL1%2BmeLP8AgohYWMdnP%2Bzd8H7pkBzPP8eNV3vyTzjwsB7dO1erPJcuxOZTjVy6Cja6qpwTk9LpqCp1IvfVyadvNHBKjQcFK6v2s1%2BOx3H/AAr74oadxofxvu3Qfdj1fRre4/NkEbfrRt/aF0/gSeENTVe7Lc2jt%2BXmDNcd/wAJx/wUL/6Nf%2BDP/h%2BNW/8AmXo/4Tj/AIKF/wDRr/wZ/wDD8at/8y9dH%2Br2Gh/ArVqf%2BGtNr7p%2B0Rl7NdG/v/4c7H/hOPi9Zf8AIS%2BCRmA%2B8%2BmeIYJM%2B4WURmj/AIXLJbcav8J/GNqR95l0cTqPxhd647/hOP8AgoX/ANGv/Bn/AMPxq3/zL1y%2BrftHft26P8Z9A%2BB1x%2Byh8JG1TxF4X1fXbO5T466p5EcGnXOm28yOT4Y3B2bVICoCkEJJkqQoY/svNqf8LHz/AO36dGf5Kmw5Z9Jfketf8NBfC6L5dT1a9sG7rqGjXUOPqWjx%2BtbXhT4ieBvHLSp4Q8U2eoNCoaZLaYMyA9CR1FeZ/wDCcf8ABQv/AKNf%2BDP/AIfjVv8A5l6Yni//AIKBRStPH%2Byv8Fldx8zr8ddVBP1P/CLVvhqOe0669vXpzh1tTlGXyaqSj96GlUT1a%2B7/AIJ6H498bal4dkgsfD%2Bnx3VwZoDd%2BaG2QwySiME4/iYkhR7c8VB8QdchtbhrC38KWGpyQWEl7ei/wFSBMjC/I2XODgHA45Iryfxdpf7bHjWaK81v9kP4IPcxzRP9r/4XhqnmssbhghY%2BFs7TjBHoTioPEsH/AAUX8QESRfAP4N28k1jJY38i/G3VGM9s5ztX/imAEYAkBucbjwa87G0uIubEum7qTjycrV0kpXVpqybfI225JrmtayTicZyTT1X9dzv7zS/hPrWrRxXHwP8AD11YNcW9vc3t1ptuXSWZAyAIYyGUblDHcCCeAeTVLR/hT%2Bzh4t1SKzm/Z78N28F9FLLpd2uj2yi7SNgHIVFBT7wPPUGvJPi98Sf28vgvYWnjjW/2a/hFLot9438O6f8A2ZZfGvVGm%2B23%2BoWek2zeY3htVEKzXMMsg2lsI5XPCHqfC9r/AMFDvD13pss/7O/wXuIdHsJrTTol%2BN2roypIyEl2/wCEZO5gI1GQF7nvxy0sLnksVH21OLhza3jSta9nbS6hy6x%2B1z6PQ5ZYHC1H79KD9Yw/%2BRPRJf2Qv2aZW3/8Kd0hD6wxtH/6Cwpv/DIP7Ow/1Xw88v8A646tdp/6DKK4vxdd/wDBRDxZFBHD8DPhjpJgZjv0j9oHVIzJnHDbvCjZAxx9TWH/AMI5/wAFJo/9R4L8ED/rp%2B0Bet/PwfXoYqlOjXcaWXRqR/mUqMb/APbskmrbbkSynLL6YaH/AIDFfoj1D/hkX4BD7nhTUE/65%2BKNRX%2BVxR/wyN8Ce3h/WB9PGGqf/JNeX/2N/wAFOl/1fhD4ej/e%2BOd23/uoVy/xt%2BIX/BSb4D/Bjxd8cfFPgTwHdaX4M8MX%2Bu6la2HxpuGuJre0tpLiRIw/hNVLlYyFDMoyRkgc1z81f/oVP/wOh/8AJIn%2Byst/6Bo/dE94/wCGRvgR38O6ufr4v1Q/%2B3NH/DInwA6P4PvX/wCuniXUG/nPXl/9lf8ABUM/e8J/Dn8PjbdD/wB1Gj%2BxP%2BCmzf63wf8AD8/7nx1u1/8AdQo5q72yp/8AgdD/AOSYf2Vlv/QNH7onqH/DIH7OTf634aQy/wDXfULmT/0KU1Lb/skfs02pzH8GNDY/9NbXf/6ETXlX/CM/8FIX5n8EeCm9k/aFvk/l4Qo/4RH/AIKFv/r/AIa%2BDX/7uV1ZP/QPCgoX1zplUfnUof8AyDGsqy1bYWH/AIDD/wCRZ7NZ/s5fs/WGDbfBHwoCOjN4ft2P5lCa17H4YfDTS8f2Z8PNCt8dPI0iFMfkteBf8IN%2B3XJ/x%2B/BDwLc%2Bon/AGoPEH9PDIrl/gje/tN/Hv4MeEPjloP7Hfw0Gm%2BM/C%2Bn67p1vrP7SevtPFb3dtHcRpKq%2BHmQOFkAYKWGQcEjmtoyzlfw8BSj61Y/%2B2UGbwwmHp/BRgvRRX5QPrpE0rR4dqLb2sY7AKi/0qhe/EDwHpuf7R8baRb46%2BfqUSY/Nq%2Bf4Pht%2B1HA/mD9hr4ESN63Hx01eU/%2BP%2BGDWnZaN%2B1/p2DYfsOfs%2Bwkd4/jHqAP5/8ACK1sp8Ty2p0Ies6svyhA6V7RKySX3nq158evg1ZNsk%2BJGlSHsLe5EpP02ZzUB%2BPngC440aLWtSbsun%2BHruTP0PlgH864ez8Tft86eu2w/ZP%2BCUA9Ifjnqq/y8LVP/wAJx/wUL/6Nf%2BDP/h%2BNW/8AmXo%2Br8S1PixFKP8AhpSl%2BM6q/FBar3X3f8E7H/hbmtXnyaJ8GfFk7Hobq1htVP4yygj8qP8AhLPjbqHyaf8ACOwss9JNU8RqcfVYY3/nXk3gH9o79u34ieK/G/hDR/2UPhJDceA/FEWharJc/HXVAk88mlafqYeLb4YJKeTqMKksFO9HGMAM3Uf8Jx/wUL/6Nf8Agz/4fjVv/mXo/srM6n8XH1P%2B3IUof%2B2Tf4hySe8vyOx/s/8AaB1L5LrxL4W0pT3s9NnunH4ySID%2BVa/hHw14w0a7lu/FPxEuNZ8yPakDadDbxxHOdwCDcT25Y15v/wAJx/wUL/6Nf%2BDP/h%2BNW/8AmXo/4Tj/AIKF/wDRr/wZ/wDD8at/8y9b4fJcPQrRrSq1ZyW3PVm1/wCArlg/nFjUEne7%2B873xv8ADGPxfdvqUPiXUbOdhb4SC42xfuZC6EhQGyCzYwwwTmoviB4S/tHT3ujfz/bJo3tFS12oLmBiSYJAwfKhdxLDDfeIIya8%2BvfFP/BRG7ubeeP9nL4QQLA5Z4ofjxqm2b2bPhUnH0x1rlh8dP22/GXxj1z4E3P7JPwlbUvDXhrSNfubl/jzqy27wajcanbQohXwzuLq2mTlwVC4kjwWJYL5uZ5IsXhcZDD0VCpUslJz0k7fEkublceaSV46vWzi2ntThQjUjKeq6rX/ADX4WPa9V8KWF62neMNC0qZbtmheQ2rruKGPaG2yHyy4UhQ5G4LwDUFz/ZJupNStXayc2UshkGI3e5hkw5k2YEjducjHTrXnmn6l%2B37p2lJo1v8AszfCBYETaqxfH3V4yOScgp4WBB5x1qePXf29IrRLH/hk74KPFG%2B9Fl%2BO2rPhs53ZbwuSTnv1rxK/C%2BZ45c75Kcpxg5q7cfaxik3Hk5ZRTblKUk05OMNNGdlOvhqL91Xs3bRJ2fe99baelz0GISDVUaS2KajLqkU8biI5e3ZF3gtj7qjeME9VFdNqlndX9g9paanLaSNjFxCqllGecbgRyOPxryL/AITj/goUOn7L3wZ/8Pxq3/zL0f8ACcf8FC/%2BjX/gz/4fjVv/AJl6%2Biyrh6nl2Hr0Z1HONXe14PaV23GSfO%2BZ3mnFu0esbvGriXUlGSVrfP8APpptr1If2kbRrH4xfs22j3c1wY/jJfAzTsC7/wDFFeKOSQAM/hXtlfK/xP8AEv7Vur/tJ/s6Wvxr%2BC/w98P6OPi5qLR33hb4nX2sXJn/AOEL8TbUME%2Bi2ShCCxL%2BaSCANhySv1RXvUqUKNKNOCsopJbvRKy1bbfq233bepztuTuwooorQQUUUUAFFFFABRRRQAVR8UeIbDwl4a1HxXqoc2umWM13ciJct5caF2wO5wpq9Ud3aWt/ay2N7bpNDNG0c0UqhldSMFSDwQRxigD5v/Y1/al%2BPnxU8YaN4V%2BP%2Bm%2BEkfxv8J9O%2BIHhdfCen3Nv/ZdvcShJ9MumnuJhdSQia023cYgWUvL%2B4i2Dd5XYf8FHvjL8OvhgfjT4l%2BH/AIMuvDfjv4X%2BK/HXwz0DQtOuLG5spbG9tBb2mpXDzypcveLqcM8k8UMHkukylJtyvXvPwA/YX8Ifs6arb6v4T%2BMvjrU5dO0XTtA0Ma/c6dcDSvD9k8rwaNCVskJt8y/PNIXvJBFFvuW8tcY2k/8ABM74DW1p4g8PeJPFXi3X/D2reEtc8MaH4Y1bUbZbTwtpOr3CXF/a6c1vbxToHkhtyjzyzyQrbRJE8artIB037Mnxc%2BMfiPx94/8AgX8f7vwzqHibwLdaZMuueENHuNOsdQsb%2B082Jvs1xc3LwypLFcxMPOcMsccg2bzGnsVed/AD9nPSvgMfEOsXHxI8TeNPEXivUYbvxB4s8YSWZvrvyLaO2gi22VtbW8cUcUYCrHEuWeR23PI7N6JQAV8u/Ab9sb42/ED4xeFpPG2meFl8B/EzWvF2meCrPS9NuYtV0uTRbuWKGS8uHuXiulu7e2uZiscMBt28uPM%2BTIPqKvDPB37BngbwF8SZviN4X%2BLvjeAW11rN14U0J59OlsPC0%2BrXq3mpS2KPZF2aeUOP9JecQpNLHAIVfFAFPXPip8cfh5%2B2p4R%2BGetaj4B13SviI2poukaH4XurbXdB0ewtZp4tRu717yWO6txdPFalBbwBZtUj2M2H3ZH/AATh/an%2BLv7R/gXzv2i/E%2BiWXjv/AIRnSNV1n4eW/wAJ9b8KX3hxrqOUyLIur3cz6jAZUeKO6gSOItbS8uThOt8Dfsaf8ID%2B0p4s/aX079pT4hXd740nU6z4e1KLQ5rFbeK3eG1soZf7MF7Ba25keaOFLkL5zySPvMsvmbHwb/Zftvhb8RdU%2BL/i340%2BMviD4p1LRLfRk1vxkdNjez0%2BGWSYW8MWm2VpAoaWVnd2jaRiEBfaiqAD1GiiigD5d/aa/bG%2BNvwr%2BKfjF/h5pnhZvBvwm0Xw3qfju21nTbmbUdYj1S%2BuIpo7GaO5jjtGtrW388NJFcCeSURYhCmQzftkftK/Ez4FftC%2BDrO21fw94S8DSeEdSvPEvxF8R/CLWfEVtpsi3tgi2kt7YXdvBpEMkbSyvPdt5X%2BjKTwldt8Z/wBiH4cfG74pH4ma5458VaXFqNrpFr4v8NaNdWqad4pg0u9kvbGK%2BWW3kmCxzTS5%2BzywGWOQxTGWMKgn%2BOn7JN1%2B0J4Jl%2BGPjz9pb4hxeGNU0e40nxdoOmLosMXiSynLiaG5l/s0zwhonaAtaSW7eWeu/wCegDzzUv2xvjba/tAXcsGmeFv%2BFY6f8ZrP4aXNg%2Bm3J1uW8uNNgnGprdfafIWJby5itvsptyxjV5/PBxDX1FXi9x%2Bw78NZ/j3/AMLwHjbxTHaP4ph8UT%2BA47m0Ghza9Fpy6dFqbJ9m%2B0%2BatskYEQuBb%2BZEkxhMo8yvaKACvnr9rz9on9oDwH8QIPhd%2Bzha%2BEV1PT/hrrvjfWbjxlptzdQ3UFhJaxQ6bCLe4gMElw9xJm6YyrAIR%2B4mMmF%2Bha8j/aX/AGPPB/7TOoWWtaj8SfF/hHULfw/qfh%2B%2B1HwbeWsM2paLqHkG80%2BY3NtOFjka2hYSxCO4iKExTR733AHNftOfHfxlB%2BxX/wANdfC/xZ4T0PRtN8FjxleWfjXwHca811Clql7bQQRW%2BpWRjufMCBDmQmTYFUNg1w17%2B1j%2B1b8Pvjr4D%2BGn7Q2ueD/BGkXfw%2B8IXni3Xf8AhUOvajpeo%2BJdQvb221HSrfVor9bPSArQWiQfbDMxe9j/ANbwh9x8efsw%2BC/iP8NLL4P%2BJ/Emst4c07xRpOr2mlWotIY1h028t7u10whLcbrISWsQZGzI6Ao0hViKqfHT9lqD9oLXLZPG3xv8a2/hJZrGbU/h7ph0yPStVktblbmMzytZNfANIke9IrqNHWMKVwzhwD1SiiigDxf/AIKC/F344fs/fsj%2BNPj18Ar3wpHrHgnQrvXLqDxhotzfW13aWttLM9uiW11bMkrsiKJC5VAWJR%2BBV39sH4n%2BLvAng7w14F%2BHumaDca98R/GVr4U02XxVpsl7plqs8M9xczXNtHLC1yi2lrc4hEsfmOUUuoJI1P2sf2cbL9rT4Ea9%2Bz7rXxV8U%2BEdJ8T2Utjrl/4QXTvtdzZSxPFNbbr%2B0uo0R1flkRZAVG115zneN/2VpPiV8OrPwR48/aC8dajqek6np2qaB4xMWjwanpOpWZJW8hEGnJbM8gZ1kSWCSFkkdPLCsVIB4JJ%2B3d%2B1b4y0P/hDPhno3gC28beE9C8dal44udZ0i9m03Un8OawNKjtrKOO7SS0F826cTSSXH2RQEMdyTuH1t8L/AB7pnxU%2BGnh34n6JbSw2XiTQrTVLSGfG9IriFJUVsdwHAPvXiHiH/gml8J9Y8C6T4P0b4ufEDQbyz03xDp2u%2BJ9F1KxXUvElprt2t7rEV68tm8YNzdKJvMto4JYGyLd4FJU/QWh6JpHhnRLPw34f0%2BK0sNPtY7aytIF2pDDGoVEUdgFAAHoKALVc18YpPibD8MtYn%2BDmtaDp3iWK136Ze%2BJtKmvrGIqwLmWCCe3klHlh8KssfzFctjNdLWF8TPB2qfEHwHqfgvRviDrPhW41G38lPEHh%2BGzkvLMEgs0S3tvcW5JAKnzIXGGOADggA4L4CfFH4wftDfsR/D/41%2BH7nw1o/jXxx8ONE1xpbzSri40uzvLyyguJT9mW4SaSJTI%2B2Pz1YgKDJ1avAL39sz9qLQfg5p6%2BA9I8K3UGj/HO78Cah488HfBrXdf0eTQrPRLq5fUbTRNNvWuo1i1GFNJci5liSWCVs7SoX2Lwl%2Bw1P4M/ZLT9jzSf2t/iuug2vghPCula/DPoltrGm2MaJFE8FxbaXGqzJAghWUoTtJc5lxKNHwf%2ByN4m%2BHvwQ0n4G%2BAf2vPiNolroVwi6Tq%2Bl6J4VhuLWwS3WCPTUhXRPsa2ybQ6kW/nBjjzdmEAB6F8HfG%2Bm/Er4T%2BGviBpHjjSPE1vrOh2t2niHw/aNb2OpF4lY3EETyytDG5JZY2kkZAQrOxBJ6SuX%2BCvwh8G/AP4U6D8HPh/FcrpHh7T0tLNr65aaeUDJaWWRuXkdizs3dmJwOldRQAV4v8Asc/F344fEq6%2BKXg74/XvhS71n4f/ABMbw9bX3g/Rbmwtbi1bRtK1JC0VzdXLmRW1B4y4cK4jVgiZIr2ivF/gT%2Bx5rHwJ8aeL/Gtp%2B1l8SvEcnjjxXD4g16x8Q2nh0QPdpa29mQn2TSIHSN7e0tomAfOIQylXZ2YA8M8Eft//ABV8G/Df4xfET4vQeGrbxd4a0vxBrGifDBvhRrXhm%2Bv47K/fT7K8bUr%2B6ki1a3kjXT1kubWHZF9pi5A2Ifef2ZPi58Y/Efj7x/8AAv4/3fhnUPE3gW60yZdc8IaPcadY6hY39p5sTfZri5uXhlSWK5iYec4ZY45Bs3mNMzXP2CPA3xE1XxBqvx6%2BMHjn4hnXPBOr%2BErSDxJPp1smi6TqckD3sNp/ZtlanzHNpaYnmMsyfZk2upLlux%2BAH7OelfAY%2BIdYuPiR4m8aeIvFeow3fiDxZ4wkszfXfkW0dtBFtsra2t44o4owFWOJcs8jtueR2YA9EooooA8X%2BCvxd%2BOGtftcfFn4C/FS98KXWj%2BGNC8Pa54Qn8P6Lc2tzFaalc6zD9nvHmupluJUXTIm8yNIFzK42HANc/4k%2BIn7S3hX9vzwX8INM8VfDnVfDni7SNY1jxDZwfD68t9Z0vQdORIrffqP9qvFLIdQ1G3VVa0VWRroqqlSa6DRf2PNY0D9ovxh%2B0lp37WXxKGoeM9KstMvdCe08OnT7O0s57qa0igH9keePKN7dKGkmkZlmO8uVQr2ml/Avwrpfxw8S/tApq2pza/4k8MaboDefNGYdOsrKW7mRbZRGCjPLeyvIzF95SIcCNQADx3/AIJw/tT/ABd/aP8AAvnftF%2BJ9EsvHf8AwjOkarrPw8t/hPrfhS%2B8ONdRymRZF1e7mfUYDKjxR3UCRxFraXlycJ9LV5d8G/2X7b4W/EXVPi/4t%2BNPjL4g%2BKdS0S30ZNb8ZHTY3s9PhlkmFvDFptlaQKGllZ3do2kYhAX2oqj1GgArwf8Aa1%2BM37QXwG8SeF/F3gzxB4IvfD2teLtC8O23gW%2B8OXkmua5c3t8sNy1pex3qxQmC1aS62NaTDy7SZneNAXj94rxn4k/scr8RP2ndE/amt/2jviBoWq%2BH9DGlaZoGmQ6JcaXBA83m3LRpfaZcTQy3IEcc0sUqO0cMaKyAcgHC/tsftQ/Gb4W%2BMvEFn8GvDng66T4T/Cm6%2BJXiYeLNKnuZtRhVrqGLT7CSK4hFjPLDa6gpu3E6pujXyXV3Iqx/ts/GLUPjWde0rTvC5%2BFcXxesPh09jLpdz/bktzd6Zb3C6otz9p8lIlvLqK2NqbcsY1ebzwcQ13Hx0/YR8FftBtFN42%2BMHji2mu/C934Y8Xz6RcadA3ivQrmYSyaZfD7EVWL76LJbC3nRJpQso8xybU/7Dnw0m%2BPX/C718a%2BKIrRvFMPiifwFFc2g0ObXodOXTotTZPs32kSrbJGBELgW/mRJMYTKPMoA9oooooAKKKKACiiigAooooAKKKKACiiigAooooAKKKKACiiigAooooAKKKKACiiigAooooAKKKKACiiigAooooAKKKKACiiigAooooAKKKKACiiigAooooAKKKKACiiigAooooAKKKKACiiigAooooAKKKKAP//Z\">"
      ]
     },
     "metadata": {},
     "output_type": "display_data"
    }
   ],
   "source": [
    "try:\n",
    "    HTML(anim.to_html5_video())\n",
    "# In case the build-in renderers are unaviable, fall back to\n",
    "# a custom one, that doesn't require external libraries\n",
    "except RuntimeError:\n",
    "    anim.save(None, writer=matplotlib_utils.SimpleMovieWriter(0.001))"
   ]
  },
  {
   "cell_type": "markdown",
   "metadata": {},
   "source": [
    "# Logistic regression\n",
    "Your assignment is to implement the logistic regression\n",
    "\n",
    "Plan:\n",
    "* Use a shared variable for weights\n",
    "* Use a matrix placeholder for `X`\n",
    " \n",
    "We shall train on a two-class MNIST dataset\n",
    "* please note that target `y` are `{0,1}` and not `{-1,1}` as in some formulae"
   ]
  },
  {
   "cell_type": "code",
   "execution_count": 30,
   "metadata": {},
   "outputs": [
    {
     "name": "stdout",
     "output_type": "stream",
     "text": [
      "y [shape - (360,)]: [0 1 0 1 0 1 0 0 1 1]\n",
      "X [shape - (360, 64)]:\n"
     ]
    }
   ],
   "source": [
    "from sklearn.datasets import load_digits\n",
    "mnist = load_digits(2)\n",
    "\n",
    "X, y = mnist.data, mnist.target\n",
    "\n",
    "print(\"y [shape - %s]:\" % (str(y.shape)), y[:10])\n",
    "print(\"X [shape - %s]:\" % (str(X.shape)))"
   ]
  },
  {
   "cell_type": "code",
   "execution_count": 31,
   "metadata": {},
   "outputs": [
    {
     "name": "stdout",
     "output_type": "stream",
     "text": [
      "X:\n",
      " [[  0.   0.   5.  13.   9.   1.   0.   0.   0.   0.]\n",
      " [  0.   0.   0.  12.  13.   5.   0.   0.   0.   0.]\n",
      " [  0.   0.   1.   9.  15.  11.   0.   0.   0.   0.]]\n",
      "y:\n",
      " [0 1 0 1 0 1 0 0 1 1]\n"
     ]
    },
    {
     "data": {
      "image/png": "[encoded data removed]",
      "text/plain": [
       "<matplotlib.figure.Figure at 0x7f8449d7b550>"
      ]
     },
     "metadata": {},
     "output_type": "display_data"
    }
   ],
   "source": [
    "print('X:\\n',X[:3,:10])\n",
    "print('y:\\n',y[:10])\n",
    "plt.imshow(X[0].reshape([8,8]));"
   ]
  },
  {
   "cell_type": "markdown",
   "metadata": {},
   "source": [
    "It's your turn now!\n",
    "Just a small reminder of the relevant math:\n",
    "\n",
    "$$\n",
    "P(y=1|X) = \\sigma(X \\cdot W + b)\n",
    "$$\n",
    "$$\n",
    "\\text{loss} = -\\log\\left(P\\left(y_\\text{predicted} = 1\\right)\\right)\\cdot y_\\text{true} - \\log\\left(1 - P\\left(y_\\text{predicted} = 1\\right)\\right)\\cdot\\left(1 - y_\\text{true}\\right)\n",
    "$$\n",
    "\n",
    "$\\sigma(x)$ is available via `tf.nn.sigmoid` and matrix multiplication via `tf.matmul`"
   ]
  },
  {
   "cell_type": "code",
   "execution_count": 32,
   "metadata": {
    "collapsed": true
   },
   "outputs": [],
   "source": [
    "from sklearn.model_selection import train_test_split\n",
    "X_train, X_test, y_train, y_test = train_test_split(\n",
    "    X, y, random_state=42)"
   ]
  },
  {
   "cell_type": "code",
   "execution_count": 35,
   "metadata": {},
   "outputs": [
    {
     "data": {
      "text/plain": [
       "(270,)"
      ]
     },
     "execution_count": 35,
     "metadata": {},
     "output_type": "execute_result"
    }
   ],
   "source": [
    "y_train.shape"
   ]
  },
  {
   "cell_type": "markdown",
   "metadata": {},
   "source": [
    "__Your code goes here.__ For the training and testing scaffolding to work, please stick to the names in comments."
   ]
  },
  {
   "cell_type": "code",
   "execution_count": 95,
   "metadata": {
    "collapsed": true
   },
   "outputs": [],
   "source": [
    "# Model parameters - weights and bias\n",
    "weights = tf.Variable(initial_value=tf.zeros((X.shape[1], 1), dtype=tf.float32), name=\"weights\") #shape should be (X.shape[1], 1)\n",
    "b = tf.Variable(initial_value=0., name=\"biases\")"
   ]
  },
  {
   "cell_type": "code",
   "execution_count": 101,
   "metadata": {
    "collapsed": true
   },
   "outputs": [],
   "source": [
    "# Placeholders for the input data\n",
    "input_X = tf.placeholder(tf.float32, shape=(None, X.shape[1]), name=\"X_train\")\n",
    "input_y = tf.placeholder(tf.float32, shape=(None), name=\"y_train\")"
   ]
  },
  {
   "cell_type": "code",
   "execution_count": 107,
   "metadata": {},
   "outputs": [],
   "source": [
    "# The model code\n",
    "\n",
    "# Compute a vector of predictions, resulting shape should be [input_X.shape[0],]\n",
    "# This is 1D, if you have extra dimensions, you can  get rid of them with tf.squeeze .\n",
    "# Don't forget the sigmoid.\n",
    "predicted_y = tf.squeeze(tf.nn.sigmoid(tf.matmul(input_X, weights) + b))\n",
    "\n",
    "# Loss. Should be a scalar number - average loss over all the objects\n",
    "# tf.reduce_mean is your friend here\n",
    "loss = tf.reduce_mean(-input_y * tf.log(predicted_y) - (1 - input_y) * (tf.log(1 - predicted_y)))\n",
    "\n",
    "# See above for an example. tf.train.*Optimizer\n",
    "optimizer = tf.train.MomentumOptimizer(0.01, 0.5).minimize(loss, var_list=[weights, b])"
   ]
  },
  {
   "cell_type": "markdown",
   "metadata": {},
   "source": [
    "A test to help with the debugging"
   ]
  },
  {
   "cell_type": "code",
   "execution_count": 108,
   "metadata": {},
   "outputs": [],
   "source": [
    "validation_weights = 1e-3 * np.fromiter(map(lambda x:\n",
    "        s.run(weird_psychotic_function, {my_scalar:x, my_vector:[1, 0.1, 2]}),\n",
    "                                   0.15 * np.arange(1, X.shape[1] + 1)),\n",
    "                                   count=X.shape[1], dtype=np.float32)[:, np.newaxis]\n",
    "# Compute predictions for given weights and bias\n",
    "prediction_validation = s.run(\n",
    "    predicted_y, {\n",
    "    input_X: X,\n",
    "    weights: validation_weights,\n",
    "    b: 1e-1})\n",
    "\n",
    "# Load the reference values for the predictions\n",
    "validation_true_values = np.loadtxt(\"validation_predictons.txt\")\n",
    "\n",
    "assert prediction_validation.shape == (X.shape[0],),\\\n",
    "       \"Predictions must be a 1D array with length equal to the number \" \\\n",
    "       \"of examples in input_X\"\n",
    "assert np.allclose(validation_true_values, prediction_validation)\n",
    "loss_validation = s.run(\n",
    "        loss, {\n",
    "            input_X: X[:100],\n",
    "            input_y: y[-100:],\n",
    "            weights: validation_weights+1.21e-3,\n",
    "            b: -1e-1})\n",
    "assert np.allclose(loss_validation, 0.728689)"
   ]
  },
  {
   "cell_type": "code",
   "execution_count": 110,
   "metadata": {},
   "outputs": [
    {
     "name": "stdout",
     "output_type": "stream",
     "text": [
      "loss at iter 0:0.1252\n",
      "train auc: 0.999945103206\n",
      "test auc: 1.0\n",
      "loss at iter 1:0.0450\n",
      "train auc: 1.0\n",
      "test auc: 1.0\n",
      "loss at iter 2:0.0269\n",
      "train auc: 1.0\n",
      "test auc: 1.0\n",
      "loss at iter 3:0.0200\n",
      "train auc: 1.0\n",
      "test auc: 1.0\n",
      "loss at iter 4:0.0169\n",
      "train auc: 1.0\n",
      "test auc: 1.0\n"
     ]
    }
   ],
   "source": [
    "from sklearn.metrics import roc_auc_score\n",
    "s.run(tf.global_variables_initializer())\n",
    "for i in range(5):\n",
    "    s.run(optimizer, {input_X: X_train, input_y: y_train})\n",
    "    loss_i = s.run(loss, {input_X: X_train, input_y: y_train})\n",
    "    print(\"loss at iter %i:%.4f\" % (i, loss_i))\n",
    "    print(\"train auc:\", roc_auc_score(y_train, s.run(predicted_y, {input_X:X_train})))\n",
    "    print(\"test auc:\", roc_auc_score(y_test, s.run(predicted_y, {input_X:X_test})))"
   ]
  },
  {
   "cell_type": "markdown",
   "metadata": {},
   "source": [
    "### Coursera submission"
   ]
  },
  {
   "cell_type": "code",
   "execution_count": 111,
   "metadata": {
    "collapsed": true
   },
   "outputs": [],
   "source": [
    "grade_submitter = grading.Grader(\"BJCiiY8sEeeCnhKCj4fcOA\")"
   ]
  },
  {
   "cell_type": "code",
   "execution_count": 112,
   "metadata": {
    "collapsed": true
   },
   "outputs": [],
   "source": [
    "test_weights = 1e-3 * np.fromiter(map(lambda x:\n",
    "    s.run(weird_psychotic_function, {my_scalar:x, my_vector:[1, 2, 3]}),\n",
    "                               0.1 * np.arange(1, X.shape[1] + 1)),\n",
    "                               count=X.shape[1], dtype=np.float32)[:, np.newaxis]"
   ]
  },
  {
   "cell_type": "markdown",
   "metadata": {},
   "source": [
    "First, test prediction and loss computation. This part doesn't require a fitted model."
   ]
  },
  {
   "cell_type": "code",
   "execution_count": 113,
   "metadata": {
    "collapsed": true
   },
   "outputs": [],
   "source": [
    "prediction_test = s.run(\n",
    "    predicted_y, {\n",
    "    input_X: X,\n",
    "    weights: test_weights,\n",
    "    b: 1e-1})"
   ]
  },
  {
   "cell_type": "code",
   "execution_count": 114,
   "metadata": {
    "collapsed": true
   },
   "outputs": [],
   "source": [
    "assert prediction_test.shape == (X.shape[0],),\\\n",
    "       \"Predictions must be a 1D array with length equal to the number \" \\\n",
    "       \"of examples in X_test\""
   ]
  },
  {
   "cell_type": "code",
   "execution_count": 115,
   "metadata": {
    "collapsed": true
   },
   "outputs": [],
   "source": [
    "grade_submitter.set_answer(\"0ENlN\", prediction_test)"
   ]
  },
  {
   "cell_type": "code",
   "execution_count": 116,
   "metadata": {
    "collapsed": true
   },
   "outputs": [],
   "source": [
    "loss_test = s.run(\n",
    "    loss, {\n",
    "        input_X: X[:100],\n",
    "        input_y: y[-100:],\n",
    "        weights: test_weights+1.21e-3,\n",
    "        b: -1e-1})\n",
    "# Yes, the X/y indices mistmach is intentional"
   ]
  },
  {
   "cell_type": "code",
   "execution_count": 117,
   "metadata": {
    "collapsed": true
   },
   "outputs": [],
   "source": [
    "grade_submitter.set_answer(\"mMVpM\", loss_test)"
   ]
  },
  {
   "cell_type": "code",
   "execution_count": 118,
   "metadata": {},
   "outputs": [],
   "source": [
    "grade_submitter.set_answer(\"D16Rc\", roc_auc_score(y_test, s.run(predicted_y, {input_X:X_test})))"
   ]
  },
  {
   "cell_type": "markdown",
   "metadata": {},
   "source": [
    "Please use the credentials obtained from the Coursera assignment page."
   ]
  },
  {
   "cell_type": "code",
   "execution_count": 119,
   "metadata": {},
   "outputs": [
    {
     "name": "stdout",
     "output_type": "stream",
     "text": [
      "Submitted to Coursera platform. See results on assignment page!\n"
     ]
    }
   ],
   "source": [
    "grade_submitter.submit(\"bhaskarjitsarmah@gmail.com\", \"pux6zCXsa9t8Q2oZ\")"
   ]
  }
 ],
 "metadata": {
  "kernelspec": {
   "display_name": "Python 3",
   "language": "python",
   "name": "python3"
  },
  "language_info": {
   "codemirror_mode": {
    "name": "ipython",
    "version": 3
   },
   "file_extension": ".py",
   "mimetype": "text/x-python",
   "name": "python",
   "nbconvert_exporter": "python",
   "pygments_lexer": "ipython3",
   "version": "3.6.0"
  }
 },
 "nbformat": 4,
 "nbformat_minor": 1
}
